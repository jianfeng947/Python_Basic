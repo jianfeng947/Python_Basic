{
 "cells": [
  {
   "cell_type": "markdown",
   "metadata": {},
   "source": [
    "## Lesson 6. Object-oriented Programming\n",
    "\n",
    "1. Object-oriented\n",
    "\n",
    "2. classes\n",
    "\n",
    "3. Inheritance\n",
    "\n",
    "4. Polymorphism\n",
    "\n",
    "5. Encapsulation"
   ]
  },
  {
   "cell_type": "markdown",
   "metadata": {},
   "source": [
    "### 1. Object-oriented"
   ]
  },
  {
   "cell_type": "markdown",
   "metadata": {},
   "source": [
    "**Objects**: They are models of somethings that can do certain things and have certain thing done to them. Formally, an object is a colletion of data and associated behaviors.\n",
    "\n",
    "**Object-oriented**:functionally directed toward modeling objects."
   ]
  },
  {
   "cell_type": "markdown",
   "metadata": {},
   "source": [
    "### 2. classes"
   ]
  },
  {
   "cell_type": "markdown",
   "metadata": {},
   "source": [
    "#### 2.1 classes"
   ]
  },
  {
   "cell_type": "code",
   "execution_count": 1,
   "metadata": {
    "collapsed": true
   },
   "outputs": [],
   "source": [
    "# first object-oriented program\n",
    "class MyFirstClass(object):\n",
    "    pass"
   ]
  },
  {
   "cell_type": "markdown",
   "metadata": {},
   "source": [
    "Python style guide (search the web for \"PEP 8\"), recommends that classes should be named using **CamelCase** notation (start with a capital letter, any subsequent words should also start with a capital)."
   ]
  },
  {
   "cell_type": "code",
   "execution_count": 2,
   "metadata": {
    "collapsed": true
   },
   "outputs": [],
   "source": [
    "# Create an instance of a class \n",
    "a = MyFirstClass()\n",
    "b = MyFirstClass()"
   ]
  },
  {
   "cell_type": "code",
   "execution_count": 3,
   "metadata": {
    "collapsed": false
   },
   "outputs": [
    {
     "name": "stdout",
     "output_type": "stream",
     "text": [
      "<__main__.MyFirstClass object at 0x104653650>\n"
     ]
    }
   ],
   "source": [
    "print a"
   ]
  },
  {
   "cell_type": "code",
   "execution_count": 4,
   "metadata": {
    "collapsed": false
   },
   "outputs": [
    {
     "name": "stdout",
     "output_type": "stream",
     "text": [
      "<__main__.MyFirstClass object at 0x104346690>\n"
     ]
    }
   ],
   "source": [
    "print b"
   ]
  },
  {
   "cell_type": "code",
   "execution_count": 5,
   "metadata": {
    "collapsed": true
   },
   "outputs": [],
   "source": [
    "class Dog(object):\n",
    "    pass"
   ]
  },
  {
   "cell_type": "code",
   "execution_count": 6,
   "metadata": {
    "collapsed": true
   },
   "outputs": [],
   "source": [
    "dog1 = Dog()\n",
    "dog2 = Dog()"
   ]
  },
  {
   "cell_type": "markdown",
   "metadata": {},
   "source": [
    "#### 2.2 attributes"
   ]
  },
  {
   "cell_type": "code",
   "execution_count": 7,
   "metadata": {
    "collapsed": true
   },
   "outputs": [],
   "source": [
    "class Point(object):\n",
    "    pass"
   ]
  },
  {
   "cell_type": "code",
   "execution_count": 8,
   "metadata": {
    "collapsed": true
   },
   "outputs": [],
   "source": [
    "p1 = Point()\n",
    "p2 = Point()"
   ]
  },
  {
   "cell_type": "code",
   "execution_count": 9,
   "metadata": {
    "collapsed": true
   },
   "outputs": [],
   "source": [
    "# set arbitrary attributes on an instantiated object using the dot notation\n",
    "p1.x = 5\n",
    "p1.y = 4"
   ]
  },
  {
   "cell_type": "code",
   "execution_count": 10,
   "metadata": {
    "collapsed": true
   },
   "outputs": [],
   "source": [
    "p2.x = 3\n",
    "p2.y = 6"
   ]
  },
  {
   "cell_type": "code",
   "execution_count": 11,
   "metadata": {
    "collapsed": false
   },
   "outputs": [
    {
     "name": "stdout",
     "output_type": "stream",
     "text": [
      "5 4\n",
      "3 6\n"
     ]
    }
   ],
   "source": [
    "print p1.x, p1.y\n",
    "print p2.x, p2.y"
   ]
  },
  {
   "cell_type": "markdown",
   "metadata": {},
   "source": [
    "syntax:\n",
    "\n",
    "    <object>.<attribute> = <value>"
   ]
  },
  {
   "cell_type": "markdown",
   "metadata": {},
   "source": [
    "#### 2.3 Methods\n",
    "object-oriented programming is really about the interaction between objects. Let's add behaviors to our classes."
   ]
  },
  {
   "cell_type": "code",
   "execution_count": 12,
   "metadata": {
    "collapsed": true
   },
   "outputs": [],
   "source": [
    "class Point(object):\n",
    "    def reset(self):  # why self??\n",
    "        self.x = 0\n",
    "        self.y = 0"
   ]
  },
  {
   "cell_type": "code",
   "execution_count": 13,
   "metadata": {
    "collapsed": false
   },
   "outputs": [
    {
     "name": "stdout",
     "output_type": "stream",
     "text": [
      "0 0\n"
     ]
    }
   ],
   "source": [
    "p = Point()\n",
    "p.reset()\n",
    "print p.x, p.y"
   ]
  },
  {
   "cell_type": "markdown",
   "metadata": {},
   "source": [
    "**self** argument:\n",
    "\n",
    "a reference to the object that the method is being invoked on."
   ]
  },
  {
   "cell_type": "markdown",
   "metadata": {},
   "source": [
    "Instead of calling the method on the object, we could invoke the function on the class, explicitly passing our object as the self argument\n",
    "\n"
   ]
  },
  {
   "cell_type": "code",
   "execution_count": 149,
   "metadata": {
    "collapsed": false
   },
   "outputs": [
    {
     "name": "stdout",
     "output_type": "stream",
     "text": [
      "0 0\n"
     ]
    }
   ],
   "source": [
    "p = Point()\n",
    "Point.reset(p)\n",
    "print p.x, p.y"
   ]
  },
  {
   "cell_type": "code",
   "execution_count": 15,
   "metadata": {
    "collapsed": false
   },
   "outputs": [
    {
     "ename": "TypeError",
     "evalue": "reset() takes no arguments (1 given)",
     "output_type": "error",
     "traceback": [
      "\u001b[0;31m---------------------------------------------------------------------------\u001b[0m",
      "\u001b[0;31mTypeError\u001b[0m                                 Traceback (most recent call last)",
      "\u001b[0;32m<ipython-input-15-969ab9b8d89e>\u001b[0m in \u001b[0;36m<module>\u001b[0;34m()\u001b[0m\n\u001b[1;32m      3\u001b[0m         \u001b[0;32mpass\u001b[0m\u001b[0;34m\u001b[0m\u001b[0m\n\u001b[1;32m      4\u001b[0m \u001b[0mp1\u001b[0m \u001b[0;34m=\u001b[0m \u001b[0mPoint1\u001b[0m\u001b[0;34m(\u001b[0m\u001b[0;34m)\u001b[0m\u001b[0;34m\u001b[0m\u001b[0m\n\u001b[0;32m----> 5\u001b[0;31m \u001b[0mp1\u001b[0m\u001b[0;34m.\u001b[0m\u001b[0mreset\u001b[0m\u001b[0;34m(\u001b[0m\u001b[0;34m)\u001b[0m\u001b[0;34m\u001b[0m\u001b[0m\n\u001b[0m",
      "\u001b[0;31mTypeError\u001b[0m: reset() takes no arguments (1 given)"
     ]
    }
   ],
   "source": [
    "class Point1(object):\n",
    "    def reset():\n",
    "        pass\n",
    "p1 = Point1()\n",
    "p1.reset()"
   ]
  },
  {
   "cell_type": "code",
   "execution_count": 158,
   "metadata": {
    "collapsed": true
   },
   "outputs": [],
   "source": [
    "import math\n",
    "\n",
    "class Point(object):\n",
    "    def move(self, x, y):\n",
    "        self.x = x\n",
    "        self.y = y\n",
    "        \n",
    "    def reset(self):\n",
    "        self.move(0,0)\n",
    "     \n",
    "    def calculate_distance(self, other_point):\n",
    "        return math.sqrt(\n",
    "                (self.x - other_point.x)**2 + (self.y - other_point.y)**2\n",
    "                )"
   ]
  },
  {
   "cell_type": "code",
   "execution_count": 17,
   "metadata": {
    "collapsed": true
   },
   "outputs": [],
   "source": [
    "point1 = Point()\n",
    "point2 = Point()"
   ]
  },
  {
   "cell_type": "code",
   "execution_count": 18,
   "metadata": {
    "collapsed": false
   },
   "outputs": [
    {
     "name": "stdout",
     "output_type": "stream",
     "text": [
      "6.7082039325\n"
     ]
    }
   ],
   "source": [
    "point1.reset()\n",
    "point2.move(3,6)\n",
    "print(point2.calculate_distance(point1))\n"
   ]
  },
  {
   "cell_type": "code",
   "execution_count": 19,
   "metadata": {
    "collapsed": false
   },
   "outputs": [],
   "source": [
    "assert point2.calculate_distance(point1) == point1.calculate_distance(point2)"
   ]
  },
  {
   "cell_type": "code",
   "execution_count": 20,
   "metadata": {
    "collapsed": false
   },
   "outputs": [
    {
     "name": "stdout",
     "output_type": "stream",
     "text": [
      "2.0\n",
      "0.0\n"
     ]
    }
   ],
   "source": [
    "point1.move(3,4)\n",
    "print point1.calculate_distance(point2)\n",
    "print point1.calculate_distance(point1)"
   ]
  },
  {
   "cell_type": "markdown",
   "metadata": {},
   "source": [
    "#### 2.4 Initializing the object"
   ]
  },
  {
   "cell_type": "code",
   "execution_count": 159,
   "metadata": {
    "collapsed": true
   },
   "outputs": [],
   "source": [
    "point3 = Point()\n",
    "point3.x = 5"
   ]
  },
  {
   "cell_type": "code",
   "execution_count": 160,
   "metadata": {
    "collapsed": false
   },
   "outputs": [
    {
     "name": "stdout",
     "output_type": "stream",
     "text": [
      "5\n"
     ]
    }
   ],
   "source": [
    "print point3.x"
   ]
  },
  {
   "cell_type": "code",
   "execution_count": 161,
   "metadata": {
    "collapsed": false
   },
   "outputs": [
    {
     "ename": "AttributeError",
     "evalue": "'Point' object has no attribute 'y'",
     "output_type": "error",
     "traceback": [
      "\u001b[0;31m---------------------------------------------------------------------------\u001b[0m",
      "\u001b[0;31mAttributeError\u001b[0m                            Traceback (most recent call last)",
      "\u001b[0;32m<ipython-input-161-eae3d300f3cd>\u001b[0m in \u001b[0;36m<module>\u001b[0;34m()\u001b[0m\n\u001b[0;32m----> 1\u001b[0;31m \u001b[0;32mprint\u001b[0m \u001b[0mpoint3\u001b[0m\u001b[0;34m.\u001b[0m\u001b[0my\u001b[0m\u001b[0;34m\u001b[0m\u001b[0m\n\u001b[0m",
      "\u001b[0;31mAttributeError\u001b[0m: 'Point' object has no attribute 'y'"
     ]
    }
   ],
   "source": [
    "print point3.y"
   ]
  },
  {
   "cell_type": "markdown",
   "metadata": {},
   "source": [
    "**constructor**\n",
    "\n",
    "A special method that creates and initilizes the object when it is created.\n",
    "\n",
    "Python is different; it has a constructor and an initializer."
   ]
  },
  {
   "cell_type": "markdown",
   "metadata": {},
   "source": [
    "initializing method: \\__init\\__"
   ]
  },
  {
   "cell_type": "code",
   "execution_count": 163,
   "metadata": {
    "collapsed": true
   },
   "outputs": [],
   "source": [
    "class Point(object):\n",
    "    def __init__(self, x, y):\n",
    "        self.move(x, y)\n",
    "        \n",
    "    def move(self, x, y):\n",
    "        self.x = x\n",
    "        self.y = y\n",
    "        \n",
    "    def reset(self):\n",
    "        move(0, 0)\n",
    "        \n"
   ]
  },
  {
   "cell_type": "code",
   "execution_count": 164,
   "metadata": {
    "collapsed": false
   },
   "outputs": [
    {
     "name": "stdout",
     "output_type": "stream",
     "text": [
      "3 4\n"
     ]
    }
   ],
   "source": [
    "# Constructing a Point\n",
    "point = Point(3, 4)\n",
    "print point.x, point.y"
   ]
  },
  {
   "cell_type": "code",
   "execution_count": 165,
   "metadata": {
    "collapsed": true
   },
   "outputs": [],
   "source": [
    "class Point(object):\n",
    "    def __init__(self, x=0, y=0):\n",
    "        self.move(x, y)\n",
    "        \n",
    "    def move(self, x, y):\n",
    "        self.x = x\n",
    "        self.y = y\n",
    "        \n",
    "    def reset(self):\n",
    "        self.move(0, 0)\n",
    "        "
   ]
  },
  {
   "cell_type": "code",
   "execution_count": 166,
   "metadata": {
    "collapsed": false
   },
   "outputs": [
    {
     "name": "stdout",
     "output_type": "stream",
     "text": [
      "0 0\n"
     ]
    }
   ],
   "source": [
    "point = Point()\n",
    "print point.x, point.y"
   ]
  },
  {
   "cell_type": "markdown",
   "metadata": {},
   "source": [
    "Most of the time, we put our initialization statements in an \\__init\\__ function.\n",
    "\n",
    "**constructor**: \\__new__"
   ]
  },
  {
   "cell_type": "markdown",
   "metadata": {},
   "source": [
    "#### Let's talk about \\__new\\__ and \\__init\\__ in new style\n",
    "\n",
    " \n",
    "\\__**new**\\__ handles object creation and \\__**init**\\__ handles object initialization\n",
    " \n",
    "The new-style classes let the developer override both \\__**new**\\__ and \\__**init**\\__ and they have distinct purposes, \\__**new**\\__ (the constructor) is solely for creating the object and \\__**init**\\__ (the initializer) for initializing it.\n",
    "\n"
   ]
  },
  {
   "cell_type": "code",
   "execution_count": 167,
   "metadata": {
    "collapsed": true
   },
   "outputs": [],
   "source": [
    "class A(object):\n",
    "    def __new__(cls):\n",
    "        print \"A.__new__ called\"\n",
    "        return super(A, cls).__new__(cls)\n",
    "    \n",
    "    def __init__(self):\n",
    "        print \"A.__init__ called\""
   ]
  },
  {
   "cell_type": "code",
   "execution_count": 168,
   "metadata": {
    "collapsed": false
   },
   "outputs": [
    {
     "name": "stdout",
     "output_type": "stream",
     "text": [
      "A.__new__ called\n",
      "A.__init__ called\n"
     ]
    },
    {
     "data": {
      "text/plain": [
       "<__main__.A at 0x10bdbe810>"
      ]
     },
     "execution_count": 168,
     "metadata": {},
     "output_type": "execute_result"
    }
   ],
   "source": [
    "A()"
   ]
  },
  {
   "cell_type": "markdown",
   "metadata": {},
   "source": [
    "**doctring**"
   ]
  },
  {
   "cell_type": "code",
   "execution_count": 169,
   "metadata": {
    "collapsed": true
   },
   "outputs": [],
   "source": [
    "import math\n",
    "\n",
    "class Point(object):\n",
    "    '''Represents a point in two-dimensional geometric coordinates'''\n",
    "    \n",
    "    def __init__(self, x=0, y=0):\n",
    "        '''Initializing the position of a new point. The x and y\n",
    "           coordinates can be specified. If they are not, the point\n",
    "           defaults to the origin'''\n",
    "        self.move(x, y)\n",
    "        \n",
    "    def move(self, x, y):\n",
    "        '''Move the porint a new location in two-dimensional space.'''\n",
    "        self.x = x\n",
    "        self.y = y\n",
    "        \n",
    "    def reset(self):\n",
    "        '''Reset the point back to the geometric orgin: 0, 0'''\n",
    "        self.move(0, 0)\n",
    "        \n",
    "    def calculate_distance(self, other_point):\n",
    "        '''Calculate the distance from this point to a second point\n",
    "           passed as parameter.\n",
    "           \n",
    "        This function uses the Pythagorean Theorem to calculate \n",
    "        the distance between the two points. The distance is returned\n",
    "        as a float'''\n",
    "        \n",
    "        return math.sqrt((self.x - other.x)**2 + (self.y - other.y)**2)\n",
    "        "
   ]
  },
  {
   "cell_type": "code",
   "execution_count": 170,
   "metadata": {
    "collapsed": false
   },
   "outputs": [
    {
     "name": "stdout",
     "output_type": "stream",
     "text": [
      "Help on class Point in module __main__:\n",
      "\n",
      "class Point(__builtin__.object)\n",
      " |  Represents a point in two-dimensional geometric coordinates\n",
      " |  \n",
      " |  Methods defined here:\n",
      " |  \n",
      " |  __init__(self, x=0, y=0)\n",
      " |      Initializing the position of a new point. The x and y\n",
      " |      coordinates can be specified. If they are not, the point\n",
      " |      defaults to the origin\n",
      " |  \n",
      " |  calculate_distance(self, other_point)\n",
      " |      Calculate the distance from this point to a second point\n",
      " |         passed as parameter.\n",
      " |         \n",
      " |      This function uses the Pythagorean Theorem to calculate \n",
      " |      the distance between the two points. The distance is returned\n",
      " |      as a float\n",
      " |  \n",
      " |  move(self, x, y)\n",
      " |      Move the porint a new location in two-dimensional space.\n",
      " |  \n",
      " |  reset(self)\n",
      " |      Reset the point back to the geometric orgin: 0, 0\n",
      " |  \n",
      " |  ----------------------------------------------------------------------\n",
      " |  Data descriptors defined here:\n",
      " |  \n",
      " |  __dict__\n",
      " |      dictionary for instance variables (if defined)\n",
      " |  \n",
      " |  __weakref__\n",
      " |      list of weak references to the object (if defined)\n",
      "\n"
     ]
    }
   ],
   "source": [
    "help(Point)"
   ]
  },
  {
   "cell_type": "markdown",
   "metadata": {},
   "source": [
    "#### 2.5 Modules and packages\n",
    "\n",
    "Modules are simply Python files, nothing more. The single file in our small program is a module. "
   ]
  },
  {
   "cell_type": "code",
   "execution_count": 171,
   "metadata": {
    "collapsed": true
   },
   "outputs": [],
   "source": [
    "import matrix as m"
   ]
  },
  {
   "cell_type": "code",
   "execution_count": 172,
   "metadata": {
    "collapsed": true
   },
   "outputs": [],
   "source": [
    "a = [[1, 2], [2, 3]]\n",
    "b = [[1, 1], [1, 1]]"
   ]
  },
  {
   "cell_type": "code",
   "execution_count": 173,
   "metadata": {
    "collapsed": false
   },
   "outputs": [
    {
     "data": {
      "text/plain": [
       "[[3, 3], [5, 5]]"
      ]
     },
     "execution_count": 173,
     "metadata": {},
     "output_type": "execute_result"
    }
   ],
   "source": [
    "m.multiply(a, b)"
   ]
  },
  {
   "cell_type": "code",
   "execution_count": 174,
   "metadata": {
    "collapsed": false
   },
   "outputs": [
    {
     "data": {
      "text/plain": [
       "[[1, 1, 1], [1, 1, 1]]"
      ]
     },
     "execution_count": 174,
     "metadata": {},
     "output_type": "execute_result"
    }
   ],
   "source": [
    "m.ones([2,3])"
   ]
  },
  {
   "cell_type": "markdown",
   "metadata": {},
   "source": [
    "Assume we have a module called database.py that contains a class called Database, and a second module called products.py that is responsible for product-related queries."
   ]
  },
  {
   "cell_type": "code",
   "execution_count": null,
   "metadata": {
    "collapsed": true
   },
   "outputs": [],
   "source": [
    "import database\n",
    "db = database.Database()\n",
    "# Do queries on db"
   ]
  },
  {
   "cell_type": "code",
   "execution_count": null,
   "metadata": {
    "collapsed": true
   },
   "outputs": [],
   "source": [
    "from database import Database\n",
    "db = Database()\n",
    "# Do queries on db"
   ]
  },
  {
   "cell_type": "code",
   "execution_count": null,
   "metadata": {
    "collapsed": true
   },
   "outputs": [],
   "source": [
    "from database import Database as DB\n",
    "db = Database() \n",
    "# Do queries on db"
   ]
  },
  {
   "cell_type": "markdown",
   "metadata": {},
   "source": [
    "We can also import multiple items in one statement. "
   ]
  },
  {
   "cell_type": "code",
   "execution_count": null,
   "metadata": {
    "collapsed": true
   },
   "outputs": [],
   "source": [
    "from database import Database, Query"
   ]
  },
  {
   "cell_type": "markdown",
   "metadata": {},
   "source": [
    "import all classes and functions"
   ]
  },
  {
   "cell_type": "code",
   "execution_count": null,
   "metadata": {
    "collapsed": true
   },
   "outputs": [],
   "source": [
    "from database import * # Don't do this"
   ]
  },
  {
   "cell_type": "code",
   "execution_count": 39,
   "metadata": {
    "collapsed": true
   },
   "outputs": [],
   "source": [
    "import numpy as np\n",
    "import pandas as pd"
   ]
  },
  {
   "cell_type": "code",
   "execution_count": 40,
   "metadata": {
    "collapsed": true
   },
   "outputs": [],
   "source": [
    "from numpy import add"
   ]
  },
  {
   "cell_type": "markdown",
   "metadata": {},
   "source": [
    "#### 2.6 Organizing the modules"
   ]
  },
  {
   "cell_type": "markdown",
   "metadata": {},
   "source": [
    "A **package** is a collection of modules in a folder. The name of the package is the name of the folder.\n",
    "\n",
    "The \\__**init**\\__.py files are required to make Python treat the directories as containing packages"
   ]
  },
  {
   "cell_type": "markdown",
   "metadata": {},
   "source": [
    "    parent_directory/\n",
    "       main.py\n",
    "       ecommerce/\n",
    "             __init__.py\n",
    "             database.py\n",
    "             products.py\n",
    "             payments/\n",
    "                    __init__.py\n",
    "                    paypal.py\n",
    "                    authorizenet.py"
   ]
  },
  {
   "cell_type": "markdown",
   "metadata": {},
   "source": [
    "### 3. inheritance"
   ]
  },
  {
   "cell_type": "markdown",
   "metadata": {},
   "source": [
    "\n",
    "\n",
    "Inheriting from an existing class, a new class gets all of the methods and attributes of the existing class\n",
    "\n",
    "Technically, every class we create uses inheritance. All Python classes are subclasses of the special class named **object**."
   ]
  },
  {
   "cell_type": "markdown",
   "metadata": {},
   "source": [
    "#### 3.1 Superclass, subclass"
   ]
  },
  {
   "cell_type": "code",
   "execution_count": 41,
   "metadata": {
    "collapsed": true
   },
   "outputs": [],
   "source": [
    "class MySubClass(object):\n",
    "    pass"
   ]
  },
  {
   "cell_type": "markdown",
   "metadata": {},
   "source": [
    "**Superclass**: or parent class, is a class that is being inherited from.\n",
    "\n",
    "**Subclass**: a class that is inheriting from a superclass."
   ]
  },
  {
   "cell_type": "code",
   "execution_count": 175,
   "metadata": {
    "collapsed": true
   },
   "outputs": [],
   "source": [
    "class Contact(object):\n",
    "    all_contacts = [] # shared by all instances of this class.\n",
    "    \n",
    "    def __init__(self, name, email):\n",
    "        self.name = name\n",
    "        self.email = email\n",
    "        Contact.all_contacts.append(self)"
   ]
  },
  {
   "cell_type": "code",
   "execution_count": 176,
   "metadata": {
    "collapsed": true
   },
   "outputs": [],
   "source": [
    "c1 = Contact('jack', 'ja@gmail.com')\n",
    "c2 = Contact('mike', 'mi@gmail.com')\n"
   ]
  },
  {
   "cell_type": "code",
   "execution_count": 177,
   "metadata": {
    "collapsed": false
   },
   "outputs": [
    {
     "data": {
      "text/plain": [
       "[<__main__.Contact at 0x10bdbe5d0>, <__main__.Contact at 0x10bc11f50>]"
      ]
     },
     "execution_count": 177,
     "metadata": {},
     "output_type": "execute_result"
    }
   ],
   "source": [
    "Contact.all_contacts"
   ]
  },
  {
   "cell_type": "code",
   "execution_count": 178,
   "metadata": {
    "collapsed": false
   },
   "outputs": [
    {
     "data": {
      "text/plain": [
       "'ja@gmail.com'"
      ]
     },
     "execution_count": 178,
     "metadata": {},
     "output_type": "execute_result"
    }
   ],
   "source": [
    "Contact.all_contacts[0].email"
   ]
  },
  {
   "cell_type": "code",
   "execution_count": 46,
   "metadata": {
    "collapsed": true
   },
   "outputs": [],
   "source": [
    "class Supplier(Contact):\n",
    "    def order(self, order):\n",
    "        print (\"If this were a real system we would send \"\n",
    "                \"{} order to {}\".format(order, self.name))"
   ]
  },
  {
   "cell_type": "code",
   "execution_count": 47,
   "metadata": {
    "collapsed": true
   },
   "outputs": [],
   "source": [
    "c = Contact('Some Body', 'somebody@gmail.com')"
   ]
  },
  {
   "cell_type": "code",
   "execution_count": 48,
   "metadata": {
    "collapsed": true
   },
   "outputs": [],
   "source": [
    "s = Supplier('Sup Plier', 'supplier@gmail.com')"
   ]
  },
  {
   "cell_type": "code",
   "execution_count": 49,
   "metadata": {
    "collapsed": false
   },
   "outputs": [
    {
     "name": "stdout",
     "output_type": "stream",
     "text": [
      "Some Body somebody@gmail.com Sup Plier supplier@gmail.com\n"
     ]
    }
   ],
   "source": [
    "print c.name, c.email, s.name, s.email"
   ]
  },
  {
   "cell_type": "code",
   "execution_count": 50,
   "metadata": {
    "collapsed": false
   },
   "outputs": [
    {
     "data": {
      "text/plain": [
       "[<__main__.Contact at 0x10bc2b2d0>,\n",
       " <__main__.Contact at 0x10469bf50>,\n",
       " <__main__.Contact at 0x104844dd0>,\n",
       " <__main__.Supplier at 0x10bc2b190>]"
      ]
     },
     "execution_count": 50,
     "metadata": {},
     "output_type": "execute_result"
    }
   ],
   "source": [
    "c.all_contacts"
   ]
  },
  {
   "cell_type": "code",
   "execution_count": 51,
   "metadata": {
    "collapsed": false
   },
   "outputs": [
    {
     "ename": "AttributeError",
     "evalue": "'Contact' object has no attribute 'order'",
     "output_type": "error",
     "traceback": [
      "\u001b[0;31m---------------------------------------------------------------------------\u001b[0m",
      "\u001b[0;31mAttributeError\u001b[0m                            Traceback (most recent call last)",
      "\u001b[0;32m<ipython-input-51-f8dd1da028a5>\u001b[0m in \u001b[0;36m<module>\u001b[0;34m()\u001b[0m\n\u001b[0;32m----> 1\u001b[0;31m \u001b[0mc\u001b[0m\u001b[0;34m.\u001b[0m\u001b[0morder\u001b[0m\u001b[0;34m(\u001b[0m\u001b[0;34m\"Indeed pliers\"\u001b[0m\u001b[0;34m)\u001b[0m\u001b[0;34m\u001b[0m\u001b[0m\n\u001b[0m",
      "\u001b[0;31mAttributeError\u001b[0m: 'Contact' object has no attribute 'order'"
     ]
    }
   ],
   "source": [
    "c.order(\"Indeed pliers\")"
   ]
  },
  {
   "cell_type": "code",
   "execution_count": 52,
   "metadata": {
    "collapsed": false
   },
   "outputs": [
    {
     "name": "stdout",
     "output_type": "stream",
     "text": [
      "If this were a real system we would send Indeed pliers order to Sup Plier\n"
     ]
    }
   ],
   "source": [
    "s.order(\"Indeed pliers\")"
   ]
  },
  {
   "cell_type": "markdown",
   "metadata": {},
   "source": [
    "#### 3.2 Extending built-ins"
   ]
  },
  {
   "cell_type": "code",
   "execution_count": 179,
   "metadata": {
    "collapsed": false
   },
   "outputs": [],
   "source": [
    "class ContactList(list):\n",
    "    def search(self, name):\n",
    "        '''Return all contacts that contain the search value\n",
    "           in their name.'''\n",
    "        matching_contacts = []\n",
    "        \n",
    "        for contact in self:\n",
    "            if name in contact.name:\n",
    "                matching_contacts.append(contact)\n",
    "        return matching_contacts"
   ]
  },
  {
   "cell_type": "code",
   "execution_count": 180,
   "metadata": {
    "collapsed": true
   },
   "outputs": [],
   "source": [
    "class Contact(object):\n",
    "    all_contacts = ContactList() # shared by all instances of this class.\n",
    "    \n",
    "    def __init__(self, name, email):\n",
    "        self.name = name\n",
    "        self.email = email\n",
    "        Contact.all_contacts.append(self)"
   ]
  },
  {
   "cell_type": "code",
   "execution_count": 55,
   "metadata": {
    "collapsed": true
   },
   "outputs": [],
   "source": [
    "c1 = Contact('John A', 'ja@gmail.com')\n",
    "c2 = Contact('John B', 'johnb@gmail.com')\n",
    "c3 = Contact('Jenna C', 'jennac@gmail.com')"
   ]
  },
  {
   "cell_type": "code",
   "execution_count": 56,
   "metadata": {
    "collapsed": false,
    "scrolled": true
   },
   "outputs": [
    {
     "data": {
      "text/plain": [
       "['John A', 'John B']"
      ]
     },
     "execution_count": 56,
     "metadata": {},
     "output_type": "execute_result"
    }
   ],
   "source": [
    "[c.name for c in Contact.all_contacts.search('John')]"
   ]
  },
  {
   "cell_type": "code",
   "execution_count": 57,
   "metadata": {
    "collapsed": false
   },
   "outputs": [
    {
     "data": {
      "text/plain": [
       "['John A', 'John B', 'Jenna C']"
      ]
     },
     "execution_count": 57,
     "metadata": {},
     "output_type": "execute_result"
    }
   ],
   "source": [
    "[c.name for c in Contact.all_contacts.search('J')]"
   ]
  },
  {
   "cell_type": "markdown",
   "metadata": {},
   "source": [
    "Extend the dict class"
   ]
  },
  {
   "cell_type": "code",
   "execution_count": 181,
   "metadata": {
    "collapsed": true
   },
   "outputs": [],
   "source": [
    "class LongNameDict(dict):\n",
    "    def longest_key(self):\n",
    "        longest = None\n",
    "        for key in self:\n",
    "            if not longest or len(key) > len(longest):\n",
    "                longest = key\n",
    "        return longest\n",
    "    "
   ]
  },
  {
   "cell_type": "code",
   "execution_count": 182,
   "metadata": {
    "collapsed": true
   },
   "outputs": [],
   "source": [
    "longkeys = LongNameDict()"
   ]
  },
  {
   "cell_type": "code",
   "execution_count": 183,
   "metadata": {
    "collapsed": true
   },
   "outputs": [],
   "source": [
    "longkeys['hello'] = 1\n",
    "longkeys['longest yet'] = 5\n",
    "longkeys['hello2'] = 'world'"
   ]
  },
  {
   "cell_type": "code",
   "execution_count": 184,
   "metadata": {
    "collapsed": false
   },
   "outputs": [
    {
     "data": {
      "text/plain": [
       "'longest yet'"
      ]
     },
     "execution_count": 184,
     "metadata": {},
     "output_type": "execute_result"
    }
   ],
   "source": [
    "longkeys.longest_key()"
   ]
  },
  {
   "cell_type": "markdown",
   "metadata": {},
   "source": [
    "#### 3.3 Overriding and super"
   ]
  },
  {
   "cell_type": "markdown",
   "metadata": {},
   "source": [
    "\n",
    "\n",
    "**Overriding** is altering or replacing a method of the superclass with a new method (with the same name) in the subclass.\n",
    "\n",
    "override \\__init\\__"
   ]
  },
  {
   "cell_type": "code",
   "execution_count": 150,
   "metadata": {
    "collapsed": true
   },
   "outputs": [],
   "source": [
    "class Friend(Contact):\n",
    "    def __init__(self, name, email, phone):\n",
    "        self.name = name\n",
    "        self.email = email\n",
    "        self.phone = phone"
   ]
  },
  {
   "cell_type": "markdown",
   "metadata": {},
   "source": [
    "*super* function\n",
    "\n",
    "returns the object as an instance of the parent class, allowing us to call the parent method directly"
   ]
  },
  {
   "cell_type": "code",
   "execution_count": 151,
   "metadata": {
    "collapsed": true
   },
   "outputs": [],
   "source": [
    "class Friend(Contact):\n",
    "    def __init__(self, name, email, phone):\n",
    "        super().__init__(name, email)\n",
    "        self.phone = phone"
   ]
  },
  {
   "cell_type": "markdown",
   "metadata": {},
   "source": [
    "A super() call can be made inside any method, not just \\__init\\__. This means all methods can be modi ed via overriding and calls to super. "
   ]
  },
  {
   "cell_type": "markdown",
   "metadata": {},
   "source": [
    "#### 3.4 Multiple inheritance\n",
    "\n",
    "    class DerivedClass(Base1, Base2, Base3 ...) \n",
    "        <statement-1>\n",
    "        <statement-2>"
   ]
  },
  {
   "cell_type": "markdown",
   "metadata": {},
   "source": [
    "**mixin**: A mixin is generally a superclass that is not meant to exist on its own, but is meant to be inherited by some other class to provide extra functionality. "
   ]
  },
  {
   "cell_type": "code",
   "execution_count": 185,
   "metadata": {
    "collapsed": true
   },
   "outputs": [],
   "source": [
    "class MailSender(object):\n",
    "    def send_mail(self, message):\n",
    "        print(\"Sending mail to \" + self.email)\n",
    "        # Add e-mail logic here"
   ]
  },
  {
   "cell_type": "code",
   "execution_count": 186,
   "metadata": {
    "collapsed": true
   },
   "outputs": [],
   "source": [
    "class EmailableContact(Contact, MailSender):\n",
    "    pass"
   ]
  },
  {
   "cell_type": "code",
   "execution_count": 187,
   "metadata": {
    "collapsed": true
   },
   "outputs": [],
   "source": [
    "e = EmailableContact(\"John Smith\", \"jsmith@example.net\")"
   ]
  },
  {
   "cell_type": "code",
   "execution_count": 188,
   "metadata": {
    "collapsed": false
   },
   "outputs": [
    {
     "data": {
      "text/plain": [
       "[<__main__.EmailableContact at 0x10bdbe550>]"
      ]
     },
     "execution_count": 188,
     "metadata": {},
     "output_type": "execute_result"
    }
   ],
   "source": [
    "Contact.all_contacts"
   ]
  },
  {
   "cell_type": "code",
   "execution_count": 189,
   "metadata": {
    "collapsed": false
   },
   "outputs": [
    {
     "name": "stdout",
     "output_type": "stream",
     "text": [
      "Sending mail to jsmith@example.net\n"
     ]
    }
   ],
   "source": [
    "e.send_mail(\"Hello, test e-mail here\")"
   ]
  },
  {
   "cell_type": "code",
   "execution_count": 69,
   "metadata": {
    "collapsed": false
   },
   "outputs": [
    {
     "data": {
      "text/plain": [
       "'John Smith'"
      ]
     },
     "execution_count": 69,
     "metadata": {},
     "output_type": "execute_result"
    }
   ],
   "source": [
    "Contact.all_contacts[3].name"
   ]
  },
  {
   "cell_type": "code",
   "execution_count": 70,
   "metadata": {
    "collapsed": false
   },
   "outputs": [
    {
     "data": {
      "text/plain": [
       "'jsmith@example.net'"
      ]
     },
     "execution_count": 70,
     "metadata": {},
     "output_type": "execute_result"
    }
   ],
   "source": [
    "Contact.all_contacts[3].email"
   ]
  },
  {
   "cell_type": "markdown",
   "metadata": {},
   "source": [
    "#### 3.5 Polymorphism\n",
    "\n",
    "Different behaviors happen depending on which subclass is being used.\n",
    "\n",
    "Polymorphism is based on the greek words Poly (many) and morphism (forms)"
   ]
  },
  {
   "cell_type": "code",
   "execution_count": 71,
   "metadata": {
    "collapsed": false
   },
   "outputs": [],
   "source": [
    "class AudioFile(object):\n",
    "    def __init__(self, filename):\n",
    "        if not filename.endswith(self.ext):\n",
    "            raise Exception(\"Invalid file format\")\n",
    "        self.filename = filename\n",
    "        \n",
    "class MP3File(AudioFile):\n",
    "    ext = \"mp3\"\n",
    "    def play(self):\n",
    "        print(\"playing {} as mp3\".format(self.filename))\n",
    "        \n",
    "class WavFile(AudioFile):\n",
    "    ext = \"wav\"\n",
    "    def play(self):\n",
    "        print(\"playing {} as wav\".format(self.filename))\n",
    "        \n",
    "class OggFile(AudioFile):\n",
    "    ext = \"ogg\"\n",
    "    def play(self):\n",
    "        print(\"playing {} as ogg\".format(self.filename))"
   ]
  },
  {
   "cell_type": "code",
   "execution_count": 190,
   "metadata": {
    "collapsed": false
   },
   "outputs": [
    {
     "name": "stdout",
     "output_type": "stream",
     "text": [
      "playing myfile.ogg as ogg\n"
     ]
    }
   ],
   "source": [
    "ogg = OggFile(\"myfile.ogg\")\n",
    "ogg.play()"
   ]
  },
  {
   "cell_type": "code",
   "execution_count": 191,
   "metadata": {
    "collapsed": false
   },
   "outputs": [
    {
     "name": "stdout",
     "output_type": "stream",
     "text": [
      "playing myfile.mp3 as mp3\n"
     ]
    }
   ],
   "source": [
    "mp3 = MP3File(\"myfile.mp3\")\n",
    "mp3.play()"
   ]
  },
  {
   "cell_type": "code",
   "execution_count": 192,
   "metadata": {
    "collapsed": false,
    "scrolled": true
   },
   "outputs": [
    {
     "ename": "Exception",
     "evalue": "Invalid file format",
     "output_type": "error",
     "traceback": [
      "\u001b[0;31m---------------------------------------------------------------------------\u001b[0m",
      "\u001b[0;31mException\u001b[0m                                 Traceback (most recent call last)",
      "\u001b[0;32m<ipython-input-192-fafb956aed87>\u001b[0m in \u001b[0;36m<module>\u001b[0;34m()\u001b[0m\n\u001b[0;32m----> 1\u001b[0;31m \u001b[0mMP3File\u001b[0m\u001b[0;34m(\u001b[0m\u001b[0;34m\"myfile.ogg\"\u001b[0m\u001b[0;34m)\u001b[0m\u001b[0;34m\u001b[0m\u001b[0m\n\u001b[0m",
      "\u001b[0;32m<ipython-input-71-b98d0aaa42b2>\u001b[0m in \u001b[0;36m__init__\u001b[0;34m(self, filename)\u001b[0m\n\u001b[1;32m      2\u001b[0m     \u001b[0;32mdef\u001b[0m \u001b[0m__init__\u001b[0m\u001b[0;34m(\u001b[0m\u001b[0mself\u001b[0m\u001b[0;34m,\u001b[0m \u001b[0mfilename\u001b[0m\u001b[0;34m)\u001b[0m\u001b[0;34m:\u001b[0m\u001b[0;34m\u001b[0m\u001b[0m\n\u001b[1;32m      3\u001b[0m         \u001b[0;32mif\u001b[0m \u001b[0;32mnot\u001b[0m \u001b[0mfilename\u001b[0m\u001b[0;34m.\u001b[0m\u001b[0mendswith\u001b[0m\u001b[0;34m(\u001b[0m\u001b[0mself\u001b[0m\u001b[0;34m.\u001b[0m\u001b[0mext\u001b[0m\u001b[0;34m)\u001b[0m\u001b[0;34m:\u001b[0m\u001b[0;34m\u001b[0m\u001b[0m\n\u001b[0;32m----> 4\u001b[0;31m             \u001b[0;32mraise\u001b[0m \u001b[0mException\u001b[0m\u001b[0;34m(\u001b[0m\u001b[0;34m\"Invalid file format\"\u001b[0m\u001b[0;34m)\u001b[0m\u001b[0;34m\u001b[0m\u001b[0m\n\u001b[0m\u001b[1;32m      5\u001b[0m         \u001b[0mself\u001b[0m\u001b[0;34m.\u001b[0m\u001b[0mfilename\u001b[0m \u001b[0;34m=\u001b[0m \u001b[0mfilename\u001b[0m\u001b[0;34m\u001b[0m\u001b[0m\n\u001b[1;32m      6\u001b[0m \u001b[0;34m\u001b[0m\u001b[0m\n",
      "\u001b[0;31mException\u001b[0m: Invalid file format"
     ]
    }
   ],
   "source": [
    "MP3File(\"myfile.ogg\")"
   ]
  },
  {
   "cell_type": "code",
   "execution_count": 80,
   "metadata": {
    "collapsed": true
   },
   "outputs": [],
   "source": [
    "class Animal(object):\n",
    "    \n",
    "    def Name(self):\n",
    "        pass\n",
    "    \n",
    "    def Sleep(self):\n",
    "        print('sleep')\n",
    "        \n",
    "    def MakeNoise(self):\n",
    "        pass\n",
    "    \n",
    "class Dog(Animal):\n",
    "    \n",
    "    def Name(self):\n",
    "        print(\"I am a dog!\")\n",
    "        \n",
    "    def MakeNoise(self):\n",
    "        print(\"Woof!\")\n",
    "        \n",
    "class Cat(Animal):\n",
    "    \n",
    "    def Name(self):\n",
    "        print(\"I am a cat!\")\n",
    "    \n",
    "    def MakeNoise(self):\n",
    "        print(\"Meow!\")\n",
    "        \n",
    "class Lion(Animal):\n",
    "    \n",
    "    def Name(self):\n",
    "        print(\"I am a lion!\")\n",
    "        \n",
    "    def MakeNoise(self):\n",
    "        print(\"Roar!\")\n",
    "        \n",
    "class TestAnimals:\n",
    "    \n",
    "    def PrintName(self, animal):\n",
    "        animal.Name()\n",
    "        \n",
    "    def GotoSleep(self, animal):\n",
    "        animal.Sleep()\n",
    "        \n",
    "    def MakeNoise(self, animal):\n",
    "        animal.MakeNoise()"
   ]
  },
  {
   "cell_type": "code",
   "execution_count": 81,
   "metadata": {
    "collapsed": true
   },
   "outputs": [],
   "source": [
    "# test\n",
    "\n",
    "Test = TestAnimals()\n",
    "dog = Dog()\n",
    "cat = Cat()\n",
    "lion = Lion()"
   ]
  },
  {
   "cell_type": "code",
   "execution_count": 82,
   "metadata": {
    "collapsed": false
   },
   "outputs": [
    {
     "name": "stdout",
     "output_type": "stream",
     "text": [
      "I am a dog!\n",
      "sleep\n",
      "Woof!\n"
     ]
    }
   ],
   "source": [
    "Test.PrintName(dog)\n",
    "Test.GotoSleep(dog)\n",
    "Test.MakeNoise(dog)"
   ]
  },
  {
   "cell_type": "code",
   "execution_count": 83,
   "metadata": {
    "collapsed": false
   },
   "outputs": [
    {
     "name": "stdout",
     "output_type": "stream",
     "text": [
      "I am a cat!\n",
      "sleep\n",
      "Meow!\n"
     ]
    }
   ],
   "source": [
    "Test.PrintName(cat)\n",
    "Test.GotoSleep(cat)\n",
    "Test.MakeNoise(cat)"
   ]
  },
  {
   "cell_type": "code",
   "execution_count": 84,
   "metadata": {
    "collapsed": false
   },
   "outputs": [
    {
     "name": "stdout",
     "output_type": "stream",
     "text": [
      "I am a lion!\n",
      "sleep\n",
      "Roar!\n"
     ]
    }
   ],
   "source": [
    "Test.PrintName(lion)\n",
    "Test.GotoSleep(lion)\n",
    "Test.MakeNoise(lion)"
   ]
  },
  {
   "cell_type": "code",
   "execution_count": null,
   "metadata": {
    "collapsed": true
   },
   "outputs": [],
   "source": []
  },
  {
   "cell_type": "markdown",
   "metadata": {},
   "source": [
    "Python is implicitly polymorphic."
   ]
  },
  {
   "cell_type": "code",
   "execution_count": 75,
   "metadata": {
    "collapsed": false
   },
   "outputs": [
    {
     "name": "stdout",
     "output_type": "stream",
     "text": [
      "('values: ', 42, 43)\n",
      "('values: ', 42, 43.7)\n",
      "('values: ', 42.3, 43)\n",
      "('values: ', 42.0, 43.9)\n"
     ]
    }
   ],
   "source": [
    "def f(x, y):\n",
    "    print(\"values: \", x, y)\n",
    "\n",
    "f(42, 43)\n",
    "f(42, 43.7) \n",
    "f(42.3, 43)\n",
    "f(42.0, 43.9)"
   ]
  },
  {
   "cell_type": "code",
   "execution_count": 76,
   "metadata": {
    "collapsed": false
   },
   "outputs": [
    {
     "name": "stdout",
     "output_type": "stream",
     "text": [
      "('values: ', [3, 5, 6], (3, 5))\n"
     ]
    }
   ],
   "source": [
    "f([3,5,6],(3,5))"
   ]
  },
  {
   "cell_type": "code",
   "execution_count": 77,
   "metadata": {
    "collapsed": false
   },
   "outputs": [
    {
     "data": {
      "text/plain": [
       "2"
      ]
     },
     "execution_count": 77,
     "metadata": {},
     "output_type": "execute_result"
    }
   ],
   "source": [
    "1 + 1"
   ]
  },
  {
   "cell_type": "code",
   "execution_count": 78,
   "metadata": {
    "collapsed": false
   },
   "outputs": [
    {
     "data": {
      "text/plain": [
       "'HelloWorld!'"
      ]
     },
     "execution_count": 78,
     "metadata": {},
     "output_type": "execute_result"
    }
   ],
   "source": [
    "'Hello' + 'World!'"
   ]
  },
  {
   "cell_type": "code",
   "execution_count": 79,
   "metadata": {
    "collapsed": false
   },
   "outputs": [
    {
     "data": {
      "text/plain": [
       "[1, 2, 3, 4]"
      ]
     },
     "execution_count": 79,
     "metadata": {},
     "output_type": "execute_result"
    }
   ],
   "source": [
    "[1, 2] + [3, 4]"
   ]
  },
  {
   "cell_type": "markdown",
   "metadata": {},
   "source": [
    "#### 3.6 Encapsulation\n",
    "In python, no keywords such as 'Private', 'Public' or 'Protected'. In other words, it acquiesce that all attributes are public.\n",
    "\n",
    "1. By convention, we can also pre x an attribute or method with an underscore character: _. Most Python programmers will interpret this as, \"This is an internal variable, think three times before accessing it directly\".\n",
    "\n",
    "2. But we have a method to define private:\n",
    " * add '__' infront of the variable or function name can hide them\n",
    " \n",
    " * This way **strongly** suggest that outside objects don't access a property or method."
   ]
  },
  {
   "cell_type": "code",
   "execution_count": 193,
   "metadata": {
    "collapsed": true
   },
   "outputs": [],
   "source": [
    "class Person(object):\n",
    "    def __init__(self):\n",
    "        self.A = 'Yang Li'\n",
    "        self.__B = 'Yingying Gu'\n",
    "        self._C = 'Jack'\n",
    "        \n",
    "    def __PrintName(self):\n",
    "        print(self.A)\n",
    "        print(self.__B)\n",
    "        print(self._C)\n",
    "    def PrintName(self):\n",
    "        print(self.A)\n",
    "        print(self.__B)\n",
    "        print(self._C)"
   ]
  },
  {
   "cell_type": "code",
   "execution_count": 194,
   "metadata": {
    "collapsed": true
   },
   "outputs": [],
   "source": [
    "p = Person()"
   ]
  },
  {
   "cell_type": "code",
   "execution_count": 195,
   "metadata": {
    "collapsed": false
   },
   "outputs": [
    {
     "data": {
      "text/plain": [
       "'Yang Li'"
      ]
     },
     "execution_count": 195,
     "metadata": {},
     "output_type": "execute_result"
    }
   ],
   "source": [
    "p.A"
   ]
  },
  {
   "cell_type": "code",
   "execution_count": 197,
   "metadata": {
    "collapsed": false
   },
   "outputs": [
    {
     "name": "stdout",
     "output_type": "stream",
     "text": [
      "Yang Li\n",
      "Yingying Gu\n",
      "Jack\n"
     ]
    }
   ],
   "source": [
    "p.PrintName()"
   ]
  },
  {
   "cell_type": "code",
   "execution_count": 102,
   "metadata": {
    "collapsed": false
   },
   "outputs": [
    {
     "data": {
      "text/plain": [
       "'Yang Li'"
      ]
     },
     "execution_count": 102,
     "metadata": {},
     "output_type": "execute_result"
    }
   ],
   "source": [
    "p.A"
   ]
  },
  {
   "cell_type": "code",
   "execution_count": 198,
   "metadata": {
    "collapsed": false
   },
   "outputs": [
    {
     "data": {
      "text/plain": [
       "'Jack'"
      ]
     },
     "execution_count": 198,
     "metadata": {},
     "output_type": "execute_result"
    }
   ],
   "source": [
    "p._C"
   ]
  },
  {
   "cell_type": "code",
   "execution_count": 199,
   "metadata": {
    "collapsed": false
   },
   "outputs": [
    {
     "ename": "AttributeError",
     "evalue": "'Person' object has no attribute '__B'",
     "output_type": "error",
     "traceback": [
      "\u001b[0;31m---------------------------------------------------------------------------\u001b[0m",
      "\u001b[0;31mAttributeError\u001b[0m                            Traceback (most recent call last)",
      "\u001b[0;32m<ipython-input-199-2a919dea5c3b>\u001b[0m in \u001b[0;36m<module>\u001b[0;34m()\u001b[0m\n\u001b[0;32m----> 1\u001b[0;31m \u001b[0mp\u001b[0m\u001b[0;34m.\u001b[0m\u001b[0m__B\u001b[0m\u001b[0;34m\u001b[0m\u001b[0m\n\u001b[0m",
      "\u001b[0;31mAttributeError\u001b[0m: 'Person' object has no attribute '__B'"
     ]
    }
   ],
   "source": [
    "p.__B"
   ]
  },
  {
   "cell_type": "code",
   "execution_count": 105,
   "metadata": {
    "collapsed": false
   },
   "outputs": [
    {
     "data": {
      "text/plain": [
       "'Jack'"
      ]
     },
     "execution_count": 105,
     "metadata": {},
     "output_type": "execute_result"
    }
   ],
   "source": [
    "p._C"
   ]
  },
  {
   "cell_type": "code",
   "execution_count": 200,
   "metadata": {
    "collapsed": false,
    "scrolled": true
   },
   "outputs": [
    {
     "name": "stdout",
     "output_type": "stream",
     "text": [
      "Yang Li\n",
      "Yingying Gu\n",
      "Jack\n"
     ]
    }
   ],
   "source": [
    "p._Person__PrintName()"
   ]
  },
  {
   "cell_type": "code",
   "execution_count": 201,
   "metadata": {
    "collapsed": false
   },
   "outputs": [
    {
     "name": "stdout",
     "output_type": "stream",
     "text": [
      "Yang Li\n",
      "Yingying Gu\n",
      "Jack\n"
     ]
    }
   ],
   "source": [
    "p.PrintName()"
   ]
  },
  {
   "cell_type": "markdown",
   "metadata": {},
   "source": [
    "### Objected-oriented programming: The Blackjack Game"
   ]
  },
  {
   "cell_type": "code",
   "execution_count": null,
   "metadata": {
    "collapsed": true
   },
   "outputs": [],
   "source": []
  },
  {
   "cell_type": "markdown",
   "metadata": {},
   "source": [
    "#### Creating the Card Class"
   ]
  },
  {
   "cell_type": "code",
   "execution_count": 202,
   "metadata": {
    "collapsed": true
   },
   "outputs": [],
   "source": [
    "# Playing Cards\n",
    "# Demonstrates combining objects\n",
    "\n",
    "class Card(object):\n",
    "    \"\"\" A playing card.\"\"\"\n",
    "    RANKS = ['A', '2', '3', '4', '5', '6', '7', '8', '9', '10', 'J', 'Q', 'K']\n",
    "    SUITS = ['c', 'd', 'h', 's']\n",
    "    \n",
    "    def __init__(self, rank, suit):\n",
    "        self.rank = rank\n",
    "        self.suit = suit\n",
    "        \n",
    "    def __str__(self): \n",
    "        rep = self.rank + self.suit\n",
    "        return rep"
   ]
  },
  {
   "cell_type": "markdown",
   "metadata": {},
   "source": [
    "\\__str\\__\n",
    "\n",
    "Called by the str() built-in function and by the print statement to compute the \"informal\" string representation of an objectm"
   ]
  },
  {
   "cell_type": "markdown",
   "metadata": {},
   "source": [
    "#### Creating the Hand Class"
   ]
  },
  {
   "cell_type": "code",
   "execution_count": 203,
   "metadata": {
    "collapsed": true
   },
   "outputs": [],
   "source": [
    "class Hand(object):\n",
    "    \"\"\"A hand of playing cards.\"\"\"\n",
    "    def __init__(self):\n",
    "        self.cards = []\n",
    "        \n",
    "    def __str__(self):\n",
    "        if self.cards:\n",
    "            rep = \"\"\n",
    "            for card in self.cards:\n",
    "                rep += str(card) + \"  \"\n",
    "        else:\n",
    "            rep = \"<empty>\"\n",
    "        return rep\n",
    "    \n",
    "    def clear(self):\n",
    "        self.cards = []\n",
    "        \n",
    "    def add(self, card):\n",
    "        self.cards.append(card)\n",
    "        \n",
    "    def give(self, card, other_card): # interacte with other object\n",
    "        self.cards.remove(card)\n",
    "        other_card.add(card)"
   ]
  },
  {
   "cell_type": "markdown",
   "metadata": {},
   "source": [
    "#### Using Card Objects"
   ]
  },
  {
   "cell_type": "code",
   "execution_count": 204,
   "metadata": {
    "collapsed": false
   },
   "outputs": [
    {
     "name": "stdout",
     "output_type": "stream",
     "text": [
      "Printing a card object: Ac\n"
     ]
    }
   ],
   "source": [
    "card1 = Card(rank = 'A', suit = 'c')\n",
    "print \"Printing a card object:\", card1"
   ]
  },
  {
   "cell_type": "code",
   "execution_count": 205,
   "metadata": {
    "collapsed": true
   },
   "outputs": [],
   "source": [
    "card2 = Card(rank = '2', suit = 'c')\n",
    "card3 = Card(rank = '3', suit = 'c')\n",
    "card4 = Card(rank = '4', suit = 'c')\n",
    "card5 = Card(rank = '5', suit = 'c')"
   ]
  },
  {
   "cell_type": "code",
   "execution_count": 206,
   "metadata": {
    "collapsed": false
   },
   "outputs": [
    {
     "name": "stdout",
     "output_type": "stream",
     "text": [
      "2c\n",
      "3c\n",
      "4c\n",
      "5c\n"
     ]
    }
   ],
   "source": [
    "print card2\n",
    "print card3\n",
    "print card4\n",
    "print card5\n"
   ]
  },
  {
   "cell_type": "markdown",
   "metadata": {},
   "source": [
    "#### Combing card objects using a Hand object"
   ]
  },
  {
   "cell_type": "code",
   "execution_count": 207,
   "metadata": {
    "collapsed": false
   },
   "outputs": [
    {
     "name": "stdout",
     "output_type": "stream",
     "text": [
      "\n",
      "Printing my hand before I add any cards:\n",
      "<empty>\n"
     ]
    }
   ],
   "source": [
    "my_hand = Hand()\n",
    "print \"\\nPrinting my hand before I add any cards:\"\n",
    "print my_hand"
   ]
  },
  {
   "cell_type": "code",
   "execution_count": 208,
   "metadata": {
    "collapsed": true
   },
   "outputs": [],
   "source": [
    "my_hand.add(card1)\n",
    "my_hand.add(card2)\n",
    "my_hand.add(card3)\n",
    "my_hand.add(card4)\n",
    "my_hand.add(card5)\n"
   ]
  },
  {
   "cell_type": "code",
   "execution_count": 209,
   "metadata": {
    "collapsed": false
   },
   "outputs": [
    {
     "name": "stdout",
     "output_type": "stream",
     "text": [
      "\n",
      "Printing my hand after adding 5 cards:\n",
      "Ac  2c  3c  4c  5c  \n"
     ]
    }
   ],
   "source": [
    "print \"\\nPrinting my hand after adding 5 cards:\"\n",
    "print my_hand"
   ]
  },
  {
   "cell_type": "markdown",
   "metadata": {},
   "source": [
    "Create another Hand object, your_hand. Using my_hand’s give() method, transfer the\n",
    "first two cards from my_hand to your_hand"
   ]
  },
  {
   "cell_type": "code",
   "execution_count": 210,
   "metadata": {
    "collapsed": false
   },
   "outputs": [],
   "source": [
    "your_hand = Hand()\n",
    "my_hand.give(card1, your_hand)\n",
    "my_hand.give(card2, your_hand)"
   ]
  },
  {
   "cell_type": "code",
   "execution_count": 211,
   "metadata": {
    "collapsed": false
   },
   "outputs": [
    {
     "name": "stdout",
     "output_type": "stream",
     "text": [
      "\n",
      "Gave the first two cards from my hand to your hand.\n",
      "Your hand: Ac  2c  \n",
      "My hand: 3c  4c  5c  \n"
     ]
    }
   ],
   "source": [
    "print \"\\nGave the first two cards from my hand to your hand.\"\n",
    "print 'Your hand:', your_hand\n",
    "print 'My hand:', my_hand"
   ]
  },
  {
   "cell_type": "code",
   "execution_count": 212,
   "metadata": {
    "collapsed": false
   },
   "outputs": [
    {
     "name": "stdout",
     "output_type": "stream",
     "text": [
      "\n",
      "My hand after clearing it: <empty>\n"
     ]
    }
   ],
   "source": [
    "my_hand.clear()\n",
    "print \"\\nMy hand after clearing it:\", my_hand"
   ]
  },
  {
   "cell_type": "markdown",
   "metadata": {},
   "source": [
    "#### Inheritance: Creating Deck class"
   ]
  },
  {
   "cell_type": "code",
   "execution_count": 120,
   "metadata": {
    "collapsed": true
   },
   "outputs": [],
   "source": [
    "class Deck(Hand):\n",
    "    \"\"\" A deck of playing cards. \"\"\"\n",
    "    def populate(self):\n",
    "        for suit in Card.SUITS:\n",
    "            for rank in Card.RANKS:\n",
    "                self.add(Card(rank, suit))\n",
    "                \n",
    "    def shuffle(self):\n",
    "        import random\n",
    "        random.shuffle(self.cards)\n",
    "        \n",
    "    def deal(self, hands, per_hand = 1):\n",
    "        for rounds in range(per_hand):\n",
    "            for hand in hands:\n",
    "                if self.cards:\n",
    "                    top_card = self.cards[0]\n",
    "                    self.give(top_card, hand)\n",
    "                else:\n",
    "                    print \"Can't continue deal. Out of cards!\"\n",
    "        "
   ]
  },
  {
   "cell_type": "code",
   "execution_count": 121,
   "metadata": {
    "collapsed": true
   },
   "outputs": [],
   "source": [
    "deck1 = Deck()"
   ]
  },
  {
   "cell_type": "code",
   "execution_count": 122,
   "metadata": {
    "collapsed": false
   },
   "outputs": [
    {
     "name": "stdout",
     "output_type": "stream",
     "text": [
      "Created a new deck.\n",
      "Deck: <empty>\n"
     ]
    }
   ],
   "source": [
    "print \"Created a new deck.\"\n",
    "print \"Deck:\", deck1\n"
   ]
  },
  {
   "cell_type": "code",
   "execution_count": 123,
   "metadata": {
    "collapsed": true
   },
   "outputs": [],
   "source": [
    "deck1.populate()"
   ]
  },
  {
   "cell_type": "code",
   "execution_count": 124,
   "metadata": {
    "collapsed": false
   },
   "outputs": [
    {
     "name": "stdout",
     "output_type": "stream",
     "text": [
      "\n",
      "Populated the deck.\n",
      "Deck:\n",
      "Ac  2c  3c  4c  5c  6c  7c  8c  9c  10c  Jc  Qc  Kc  Ad  2d  3d  4d  5d  6d  7d  8d  9d  10d  Jd  Qd  Kd  Ah  2h  3h  4h  5h  6h  7h  8h  9h  10h  Jh  Qh  Kh  As  2s  3s  4s  5s  6s  7s  8s  9s  10s  Js  Qs  Ks  \n"
     ]
    }
   ],
   "source": [
    "print \"\\nPopulated the deck.\"\n",
    "print \"Deck:\"\n",
    "print deck1"
   ]
  },
  {
   "cell_type": "code",
   "execution_count": 125,
   "metadata": {
    "collapsed": true
   },
   "outputs": [],
   "source": [
    "deck1.shuffle()"
   ]
  },
  {
   "cell_type": "code",
   "execution_count": 126,
   "metadata": {
    "collapsed": false
   },
   "outputs": [
    {
     "name": "stdout",
     "output_type": "stream",
     "text": [
      "\n",
      "Shuffled the deck.\n",
      "Deck:\n",
      "Kh  5d  Jc  6d  10h  Qh  5c  As  2s  Js  Kc  3d  6h  4s  3s  Jd  Qs  Kd  2h  9s  2c  10c  8h  9d  Jh  9c  9h  3c  10d  6s  5h  7h  4c  Ah  Qc  3h  7d  10s  4h  Ks  Ac  2d  4d  5s  8c  8d  Qd  Ad  7s  7c  8s  6c  \n"
     ]
    }
   ],
   "source": [
    "print \"\\nShuffled the deck.\"\n",
    "print \"Deck:\"\n",
    "print deck1"
   ]
  },
  {
   "cell_type": "markdown",
   "metadata": {},
   "source": [
    "Create two Hand objects and deal each hand five cards:\n"
   ]
  },
  {
   "cell_type": "code",
   "execution_count": 127,
   "metadata": {
    "collapsed": false
   },
   "outputs": [],
   "source": [
    "my_hand = Hand()\n",
    "your_hand = Hand()\n",
    "hands = [my_hand, your_hand]\n",
    "\n",
    "deck1.deal(hands, per_hand = 5)"
   ]
  },
  {
   "cell_type": "code",
   "execution_count": 128,
   "metadata": {
    "collapsed": false
   },
   "outputs": [
    {
     "name": "stdout",
     "output_type": "stream",
     "text": [
      "\n",
      "Dealt 5 cards to my hand and your hand.\n",
      "\n",
      "My hand:\n",
      "Kh  Jc  10h  5c  2s  \n",
      "Your hand:\n",
      "5d  6d  Qh  As  Js  \n",
      "Deck:\n",
      "Kc  3d  6h  4s  3s  Jd  Qs  Kd  2h  9s  2c  10c  8h  9d  Jh  9c  9h  3c  10d  6s  5h  7h  4c  Ah  Qc  3h  7d  10s  4h  Ks  Ac  2d  4d  5s  8c  8d  Qd  Ad  7s  7c  8s  6c  \n"
     ]
    }
   ],
   "source": [
    "print \"\\nDealt 5 cards to my hand and your hand.\\n\"\n",
    "print \"My hand:\"\n",
    "print my_hand\n",
    "print \"Your hand:\"\n",
    "print your_hand\n",
    "print \"Deck:\"\n",
    "print deck1"
   ]
  },
  {
   "cell_type": "code",
   "execution_count": 129,
   "metadata": {
    "collapsed": true
   },
   "outputs": [],
   "source": [
    "deck1.clear()"
   ]
  },
  {
   "cell_type": "code",
   "execution_count": 130,
   "metadata": {
    "collapsed": false
   },
   "outputs": [
    {
     "name": "stdout",
     "output_type": "stream",
     "text": [
      "DeckL: <empty>\n"
     ]
    }
   ],
   "source": [
    "print \"DeckL:\", deck1"
   ]
  },
  {
   "cell_type": "markdown",
   "metadata": {},
   "source": [
    "#### Inheritance - overriding methods"
   ]
  },
  {
   "cell_type": "code",
   "execution_count": 213,
   "metadata": {
    "collapsed": true
   },
   "outputs": [],
   "source": [
    "class Card(object):\n",
    "    \"\"\" A playing card. \"\"\"\n",
    "    RANKS = [\"A\", \"2\", \"3\", \"4\", \"5\", \"6\", \"7\",\n",
    "             \"8\", \"9\", \"10\", \"J\", \"Q\", \"K\"]\n",
    "    SUITS = [\"c\", \"d\", \"h\", \"s\"]\n",
    "    def __init__(self, rank, suit):\n",
    "        self.rank = rank\n",
    "        self.suit = suit\n",
    "    def __str__(self):\n",
    "        rep = self.rank + self.suit\n",
    "        return rep"
   ]
  },
  {
   "cell_type": "code",
   "execution_count": 214,
   "metadata": {
    "collapsed": true
   },
   "outputs": [],
   "source": [
    "class Unprintable_Card(Card):\n",
    "    \"\"\" A card that won't reveal its rank or suit when printed. \"\"\"\n",
    "    def __str__(self):\n",
    "        return \"<unprintable>\""
   ]
  },
  {
   "cell_type": "code",
   "execution_count": 215,
   "metadata": {
    "collapsed": true
   },
   "outputs": [],
   "source": [
    "class Positionable_Card(Card):\n",
    "    \"\"\" A card that can be face up or face down. \"\"\"\n",
    "    def __init__(self, rank, suit, face_up = True):\n",
    "        # The next argument, self, passes a reference to the newly instantiated \n",
    "        # Positionable_Card object so that code in the Card can get at the object \n",
    "        # to add the rank and suit attributes to it.\n",
    "        super(Positionable_Card, self).__init__(rank, suit)\n",
    "        self.is_face_up = face_up\n",
    "        \n",
    "    def __str__(self):\n",
    "        if self.is_face_up:\n",
    "            rep = super(Positionable_Card, self).__str__()\n",
    "        else:\n",
    "            rep = 'XX'\n",
    "        return rep\n",
    "    \n",
    "    def filp(self):\n",
    "        self.is_face_up = not self.is_face_up"
   ]
  },
  {
   "cell_type": "markdown",
   "metadata": {},
   "source": [
    "__super()__, lets you invoke the method of a base class (also called a superclass). The line **super(Positionable_Card, self).\\__init\\__(rank, suit)** invokes the \\__init\\__() method of Card (the superclass of Positionable_Card)"
   ]
  },
  {
   "cell_type": "code",
   "execution_count": 216,
   "metadata": {
    "collapsed": false
   },
   "outputs": [],
   "source": [
    "card1 = Card(\"A\", \"c\")\n",
    "card2 = Unprintable_Card(\"A\", \"d\")\n",
    "card3 = Positionable_Card(\"A\", \"h\")"
   ]
  },
  {
   "cell_type": "code",
   "execution_count": 217,
   "metadata": {
    "collapsed": false
   },
   "outputs": [
    {
     "name": "stdout",
     "output_type": "stream",
     "text": [
      "Printing a Card object:\n",
      "Ac\n"
     ]
    }
   ],
   "source": [
    "print \"Printing a Card object:\"\n",
    "print card1"
   ]
  },
  {
   "cell_type": "code",
   "execution_count": 218,
   "metadata": {
    "collapsed": false
   },
   "outputs": [
    {
     "name": "stdout",
     "output_type": "stream",
     "text": [
      "\n",
      "Printing an Unprintable_Card object:\n",
      "<unprintable>\n"
     ]
    }
   ],
   "source": [
    "print \"\\nPrinting an Unprintable_Card object:\"\n",
    "print card2"
   ]
  },
  {
   "cell_type": "code",
   "execution_count": 219,
   "metadata": {
    "collapsed": false
   },
   "outputs": [
    {
     "name": "stdout",
     "output_type": "stream",
     "text": [
      "\n",
      "Printing a Positionable_Card object:\n",
      "Ah\n"
     ]
    }
   ],
   "source": [
    "print \"\\nPrinting a Positionable_Card object:\"\n",
    "print card3"
   ]
  },
  {
   "cell_type": "code",
   "execution_count": 220,
   "metadata": {
    "collapsed": false
   },
   "outputs": [
    {
     "name": "stdout",
     "output_type": "stream",
     "text": [
      "Flipping the Positionable_Card object.\n"
     ]
    }
   ],
   "source": [
    "print \"Flipping the Positionable_Card object.\"\n",
    "card3.filp()"
   ]
  },
  {
   "cell_type": "code",
   "execution_count": 221,
   "metadata": {
    "collapsed": false
   },
   "outputs": [
    {
     "name": "stdout",
     "output_type": "stream",
     "text": [
      "Printing the Positionable_Card object:\n",
      "XX\n"
     ]
    }
   ],
   "source": [
    "print \"Printing the Positionable_Card object:\" \n",
    "print card3"
   ]
  },
  {
   "cell_type": "markdown",
   "metadata": {},
   "source": [
    "####  Creating Modules"
   ]
  },
  {
   "cell_type": "markdown",
   "metadata": {},
   "source": [
    "The cards module"
   ]
  },
  {
   "cell_type": "code",
   "execution_count": 140,
   "metadata": {
    "collapsed": false
   },
   "outputs": [
    {
     "name": "stdout",
     "output_type": "stream",
     "text": [
      "This is a module with classes for playing cards.\n",
      "\n",
      "\n",
      "Press the enter key to exit.\n"
     ]
    }
   ],
   "source": [
    "# Cards Module\n",
    "# Basic classes for a game with playing cards\n",
    "\n",
    "\n",
    "class Card(object):\n",
    "    \"\"\" A playing card. \"\"\"\n",
    "    RANKS = [\"A\", \"2\", \"3\", \"4\", \"5\", \"6\", \"7\",\n",
    "             \"8\", \"9\", \"10\", \"J\", \"Q\", \"K\"]\n",
    "    SUITS = [\"c\", \"d\", \"h\", \"s\"]\n",
    "    def __init__(self, rank, suit, face_up = True):\n",
    "        self.rank = rank\n",
    "        self.suit = suit\n",
    "        self.is_face_up = face_up\n",
    "        \n",
    "    def __str__(self):\n",
    "        if self.is_face_up:\n",
    "            rep = self.rank + self.suit\n",
    "        else:\n",
    "            rep = \"XX\"\n",
    "        return rep\n",
    "        \n",
    "    def flip(self):\n",
    "        self.is_face_up = not self.is_face_up\n",
    "        \n",
    "        \n",
    "class Hand(object):\n",
    "    \"\"\" A hand of playing cards. \"\"\"\n",
    "    def __init__(self):\n",
    "        self.cards = []\n",
    "        \n",
    "    def __str__(self):\n",
    "        if self.cards:\n",
    "            rep = \"\"\n",
    "            for card in self.cards:\n",
    "                rep += str(card) + \"\\t\"\n",
    "        else:\n",
    "            rep = \"<empty>\"\n",
    "        return rep\n",
    "        \n",
    "    def clear(self):\n",
    "        self.cards = []\n",
    "        \n",
    "    def add(self, card):\n",
    "        self.cards.append(card)\n",
    "        \n",
    "    def give(self, card, other_hand):\n",
    "        self.cards.remove(card)\n",
    "        other_hand.add(card)\n",
    "\n",
    "\n",
    "class Deck(Hand):\n",
    "    \"\"\" A deck of playing cards. \"\"\"\n",
    "    def populate(self):\n",
    "        for suit in Card.SUITS:\n",
    "            for rank in Card.RANKS:\n",
    "                self.add(Card(rank, suit))\n",
    "    def shuffle(self):\n",
    "        import random\n",
    "        random.shuffle(self.cards)\n",
    "    def deal(self, hands, per_hand = 1):\n",
    "        for rounds in range(per_hand):\n",
    "            for hand in hands:\n",
    "                if self.cards:\n",
    "                    top_card = self.cards[0]\n",
    "                    self.give(top_card, hand)\n",
    "                else:\n",
    "                    print(\"Can't continue deal. Out of cards!\")\n",
    "                    \n",
    "                    \n",
    "if __name__ == \"__main__\":\n",
    "    print(\"This is a module with classes for playing cards.\")\n",
    "    raw_input(\"\\n\\nPress the enter key to exit.\")"
   ]
  },
  {
   "cell_type": "markdown",
   "metadata": {},
   "source": [
    "The Game Module"
   ]
  },
  {
   "cell_type": "code",
   "execution_count": 238,
   "metadata": {
    "collapsed": false
   },
   "outputs": [
    {
     "name": "stdout",
     "output_type": "stream",
     "text": [
      "You ran this module directly (and did not 'import' it).\n",
      "\n",
      "\n",
      "Press the enter key to exit.\n"
     ]
    }
   ],
   "source": [
    "# Games\n",
    "\n",
    "class Player(object):\n",
    "    \"\"\" A player for a game. \"\"\"\n",
    "    def __init__(self, name, score = 0):\n",
    "        self.name = name\n",
    "        self.score = score\n",
    "        \n",
    "    def __str__(self):\n",
    "        rep = self.name + \":\\t\" + str(self.score)\n",
    "        return rep\n",
    "    \n",
    "    \n",
    "def ask_yes_no(question):\n",
    "    \"\"\"Ask a yes or no question.\"\"\"\n",
    "    response = None\n",
    "    while response not in (\"y\", \"n\"):\n",
    "        response = input(question).lower()\n",
    "    return response\n",
    "\n",
    "def ask_number(question, low, high):\n",
    "    \"\"\"Ask for a number within a range.\"\"\"\n",
    "    response = None\n",
    "    while response not in range(low, high):\n",
    "        response = int(input(question))\n",
    "    return response\n",
    "\n",
    "if __name__ == \"__main__\":\n",
    "    print(\"You ran this module directly (and did not 'import' it).\")\n",
    "    raw_input(\"\\n\\nPress the enter key to exit.\")"
   ]
  },
  {
   "cell_type": "markdown",
   "metadata": {},
   "source": [
    "#### Pseudocode for the Game Loop"
   ]
  },
  {
   "cell_type": "markdown",
   "metadata": {},
   "source": [
    "    Deal each player and dealer initial 2 cards For each player\n",
    "    \n",
    "    While the player asks for a hit and the player is not busted Deal the player an additional card\n",
    "\n",
    "    If there are no players still playing\n",
    "        Show the dealer's 2 cards\n",
    "    Otherwise\n",
    "        While the dealer must hit and the dealer is not busted\n",
    "            Deal the dealer an additional card\n",
    "        If the dealer is busted\n",
    "            For each player who is still playing\n",
    "                The player wins\n",
    "        Otherwise\n",
    "            For each player who is still playing\n",
    "                If the player’s total is greater than the dealer’s total\n",
    "                    The player wins\n",
    "                Otherwise, if the player’s total is less than the dealer’s total\n",
    "                    The player loses\n",
    "                Otherwise\n",
    "                    The player pushes   "
   ]
  },
  {
   "cell_type": "code",
   "execution_count": null,
   "metadata": {
    "collapsed": true
   },
   "outputs": [],
   "source": [
    "# Blackjack\n",
    "# From 1 to 7 players compete against a dealer\n",
    "import cards, games"
   ]
  },
  {
   "cell_type": "markdown",
   "metadata": {},
   "source": [
    "#### BJ_Card Class"
   ]
  },
  {
   "cell_type": "code",
   "execution_count": null,
   "metadata": {
    "collapsed": true
   },
   "outputs": [],
   "source": [
    "class BJ_Card(cards.Card):\n",
    "    \"\"\" A Blackjack Card. \"\"\"\n",
    "    ACE_VALUE = 1\n",
    "    \n",
    "    @property\n",
    "    def value(self):\n",
    "        if self.is_face_up:\n",
    "            v = BJ_Card.RANKS.index(self.rank) + 1\n",
    "            if v > 10:\n",
    "                v = 10 \n",
    "        else:\n",
    "            v = None\n",
    "        return v"
   ]
  },
  {
   "cell_type": "markdown",
   "metadata": {},
   "source": [
    "**@property**"
   ]
  },
  {
   "cell_type": "code",
   "execution_count": 222,
   "metadata": {
    "collapsed": true
   },
   "outputs": [],
   "source": [
    "class Person(object):\n",
    "    \"\"\"\"\"\"\n",
    " \n",
    "    #----------------------------------------------------------------------\n",
    "    def __init__(self, first_name, last_name):\n",
    "        \"\"\"Constructor\"\"\"\n",
    "        self.first_name = first_name\n",
    "        self.last_name = last_name\n",
    " \n",
    "    #----------------------------------------------------------------------\n",
    "    @property\n",
    "    def full_name(self):\n",
    "        \"\"\"\n",
    "        Return the full name\n",
    "        \"\"\"\n",
    "        return \"%s %s\" % (self.first_name, self.last_name)"
   ]
  },
  {
   "cell_type": "code",
   "execution_count": 223,
   "metadata": {
    "collapsed": true
   },
   "outputs": [],
   "source": [
    "person = Person(\"Mike\", \"Driscoll\")"
   ]
  },
  {
   "cell_type": "code",
   "execution_count": 224,
   "metadata": {
    "collapsed": false
   },
   "outputs": [
    {
     "data": {
      "text/plain": [
       "'Mike Driscoll'"
      ]
     },
     "execution_count": 224,
     "metadata": {},
     "output_type": "execute_result"
    }
   ],
   "source": [
    "person.full_name"
   ]
  },
  {
   "cell_type": "code",
   "execution_count": 225,
   "metadata": {
    "collapsed": false
   },
   "outputs": [
    {
     "data": {
      "text/plain": [
       "'Mike'"
      ]
     },
     "execution_count": 225,
     "metadata": {},
     "output_type": "execute_result"
    }
   ],
   "source": [
    "person.first_name"
   ]
  },
  {
   "cell_type": "code",
   "execution_count": 226,
   "metadata": {
    "collapsed": false
   },
   "outputs": [
    {
     "ename": "AttributeError",
     "evalue": "can't set attribute",
     "output_type": "error",
     "traceback": [
      "\u001b[0;31m---------------------------------------------------------------------------\u001b[0m",
      "\u001b[0;31mAttributeError\u001b[0m                            Traceback (most recent call last)",
      "\u001b[0;32m<ipython-input-226-9f9a18a4205f>\u001b[0m in \u001b[0;36m<module>\u001b[0;34m()\u001b[0m\n\u001b[0;32m----> 1\u001b[0;31m \u001b[0mperson\u001b[0m\u001b[0;34m.\u001b[0m\u001b[0mfull_name\u001b[0m \u001b[0;34m=\u001b[0m \u001b[0;34m\"Mike\"\u001b[0m\u001b[0;34m\u001b[0m\u001b[0m\n\u001b[0m",
      "\u001b[0;31mAttributeError\u001b[0m: can't set attribute"
     ]
    }
   ],
   "source": [
    "person.full_name = \"Mike\""
   ]
  },
  {
   "cell_type": "code",
   "execution_count": 147,
   "metadata": {
    "collapsed": true
   },
   "outputs": [],
   "source": [
    "person.first_name = \"Dan\""
   ]
  },
  {
   "cell_type": "code",
   "execution_count": 148,
   "metadata": {
    "collapsed": false
   },
   "outputs": [
    {
     "data": {
      "text/plain": [
       "'Dan Driscoll'"
      ]
     },
     "execution_count": 148,
     "metadata": {},
     "output_type": "execute_result"
    }
   ],
   "source": [
    "person.full_name"
   ]
  },
  {
   "cell_type": "markdown",
   "metadata": {},
   "source": [
    "#### BJ_Deck Class"
   ]
  },
  {
   "cell_type": "code",
   "execution_count": null,
   "metadata": {
    "collapsed": true
   },
   "outputs": [],
   "source": [
    "class BJ_Deck(cards.Deck):\n",
    "    \"\"\" A Blackjack Deck. \"\"\"\n",
    "    def populate(self):\n",
    "        for suit in BJ_Card.SUITS:\n",
    "            for rank in BJ_Card.RANKS:\n",
    "                self.cards.append(BJ_Card(rank, suit))"
   ]
  },
  {
   "cell_type": "markdown",
   "metadata": {},
   "source": [
    "#### BJ_Hand Class"
   ]
  },
  {
   "cell_type": "code",
   "execution_count": null,
   "metadata": {
    "collapsed": true
   },
   "outputs": [],
   "source": [
    "class BJ_Hand(cards.Hand):\n",
    "    \"\"\" A Blackjack Hand. \"\"\"\n",
    "    def __init__(self, name):\n",
    "        super(BJ_Hand, self).__init__()\n",
    "        self.name = name\n",
    "        \n",
    "    def __str__(self):\n",
    "        rep = self.name + \":\\t\" + super(BJ_Hand, self).__str__()\n",
    "        if self.total:\n",
    "            rep += \"(\" + str(self.total) + \")\"\n",
    "        return rep\n",
    "    \n",
    "    @property\n",
    "    def total(self):\n",
    "        # if a card in the hand has value of None, then total is None \n",
    "        for card in self.cards:\n",
    "            if not card.value:\n",
    "                return None\n",
    "                \n",
    "        # add up card values, treat each Ace as 1 \n",
    "        t=0\n",
    "        for card in self.cards:\n",
    "            t += card.value\n",
    "            \n",
    "        # determine if hand contains an Ace\n",
    "        contains_ace = False\n",
    "        for card in self.cards:\n",
    "            if card.value == BJ_Card.ACE_VALUE:\n",
    "                contains_ace = True\n",
    "                    \n",
    "        # if hand contains Ace and total is low enough, treat Ace as 11 \n",
    "        if contains_ace and t <= 11:\n",
    "            # add only 10 since we've already added 1 for the Ace \n",
    "            t += 10\n",
    "        return t\n",
    "        \n",
    "    def is_busted(self):\n",
    "        return self.total > 21"
   ]
  },
  {
   "cell_type": "markdown",
   "metadata": {},
   "source": [
    "#### BJ_Player Class"
   ]
  },
  {
   "cell_type": "code",
   "execution_count": null,
   "metadata": {
    "collapsed": true
   },
   "outputs": [],
   "source": [
    "class BJ_Player(BJ_Hand):\n",
    "    \"\"\" A Blackjack Player. \"\"\"\n",
    "    def is_hitting(self):\n",
    "        response = games.ask_yes_no(\"\\n\" + self.name + \", do you want a hit? (Y/N): \")\n",
    "        return response == \"y\"\n",
    "        \n",
    "    def bust(self):\n",
    "        print(self.name, \"busts.\")\n",
    "        self.lose()\n",
    "        \n",
    "    def lose(self):\n",
    "        print(self.name, \"loses.\")\n",
    "        \n",
    "    def win(self):\n",
    "        print(self.name, \"wins.\")\n",
    "        \n",
    "    def push(self):\n",
    "        print(self.name, \"pushes.\")"
   ]
  },
  {
   "cell_type": "markdown",
   "metadata": {},
   "source": [
    "#### BJ_Dealer Class"
   ]
  },
  {
   "cell_type": "code",
   "execution_count": null,
   "metadata": {
    "collapsed": true
   },
   "outputs": [],
   "source": [
    "class BJ_Dealer(BJ_Hand):\n",
    "    \"\"\" A Blackjack Dealer. \"\"\"\n",
    "    def is_hitting(self):\n",
    "        return self.total < 17\n",
    "        \n",
    "    def bust(self):\n",
    "        print(self.name, \"busts.\")\n",
    "        \n",
    "    def flip_first_card(self):\n",
    "        first_card = self.cards[0]\n",
    "        first_card.flip()"
   ]
  },
  {
   "cell_type": "markdown",
   "metadata": {},
   "source": [
    "#### BJ_Game Class"
   ]
  },
  {
   "cell_type": "code",
   "execution_count": null,
   "metadata": {
    "collapsed": true
   },
   "outputs": [],
   "source": [
    "class BJ_Game(object):\n",
    "    \"\"\" A Blackjack Game. \"\"\"\n",
    "    def __init__(self, names):\n",
    "        self.players = []\n",
    "        for name in names:\n",
    "            player = BJ_Player(name)\n",
    "            self.players.append(player)\n",
    "        self.dealer = BJ_Dealer(\"Dealer\")\n",
    "        self.deck = BJ_Deck()\n",
    "        self.deck.populate()\n",
    "        self.deck.shuffle()\n",
    "        \n",
    "    @property\n",
    "    def still_playing(self):\n",
    "        sp = []\n",
    "        for player in self.players:\n",
    "            if not player.is_busted():\n",
    "                sp.append(player)\n",
    "        return sp\n",
    "        \n",
    "    def __additional_cards(self, player):\n",
    "        while not player.is_busted() and player.is_hitting():\n",
    "            self.deck.deal([player])\n",
    "            print(player)\n",
    "            if player.is_busted():\n",
    "                player.bust()\n",
    "                \n",
    "    def play(self):\n",
    "        # deal initial 2 cards to everyone\n",
    "        self.deck.deal(self.players + [self.dealer], per_hand = 2)\n",
    "        self.dealer.flip_first_card()    # hide dealer's first card\n",
    "        for player in self.players:\n",
    "            print(player)\n",
    "        print(self.dealer)\n",
    "        \n",
    "        # deal additional cards to players\n",
    "        for player in self.players:\n",
    "            self.__additional_cards(player)\n",
    "            \n",
    "        self.dealer.flip_first_card() # reveal dealer's first\n",
    "        \n",
    "        if not self.still_playing:\n",
    "            # since all players have busted, just show the dealer's hand\n",
    "            print(self.dealer)\n",
    "        else:\n",
    "            # deal additional cards to dealer\n",
    "            print(self.dealer)\n",
    "            self.__additional_cards(self.dealer)\n",
    "            \n",
    "            if self.dealer.is_busted():\n",
    "                # everyone still playing wins\n",
    "                for player in self.still_playing:\n",
    "                    player.win()\n",
    "            else:\n",
    "                # compare each player still playing to dealer\n",
    "                for player in self.still_playing:\n",
    "                    if player.total > self.dealer.total:\n",
    "                        player.win()\n",
    "                    elif player.total < self.dealer.total:\n",
    "                        player.lose()\n",
    "                    else:\n",
    "                        player.push()\n",
    "        # remove everyone's cards\n",
    "        for player in self.players:\n",
    "            player.clear()\n",
    "        self.dealer.clear()"
   ]
  },
  {
   "cell_type": "code",
   "execution_count": null,
   "metadata": {
    "collapsed": true
   },
   "outputs": [],
   "source": [
    "def main():\n",
    "    print(\"\\t\\tWelcome to Blackjack!\\n\")\n",
    "    names = []\n",
    "    number = games.ask_number(\"How many players? (1 - 7): \", low = 1, high = 8) \n",
    "    for i in range(number):\n",
    "        name = raw_input(\"Enter player name: \")\n",
    "        names.append(name)\n",
    "        print\n",
    "        \n",
    "        game = BJ_Game(names)\n",
    "        \n",
    "        again = None\n",
    "        \n",
    "        while again != \"n\":\n",
    "            game.play()\n",
    "            again = games.ask_yes_no(\"\\nDo you want to play again?: \")\n",
    "        "
   ]
  },
  {
   "cell_type": "markdown",
   "metadata": {},
   "source": [
    "## Summary\n",
    "\n",
    "\n",
    "1. Object-oriented\n",
    "\n",
    "2. classes\n",
    "\n",
    "3. Inheritance\n",
    "\n",
    "4. Polymorphism\n",
    "\n",
    "5. Encapsulation"
   ]
  },
  {
   "cell_type": "code",
   "execution_count": null,
   "metadata": {
    "collapsed": true
   },
   "outputs": [],
   "source": []
  },
  {
   "cell_type": "code",
   "execution_count": null,
   "metadata": {
    "collapsed": true
   },
   "outputs": [],
   "source": []
  },
  {
   "cell_type": "code",
   "execution_count": null,
   "metadata": {
    "collapsed": true
   },
   "outputs": [],
   "source": []
  },
  {
   "cell_type": "code",
   "execution_count": null,
   "metadata": {
    "collapsed": true
   },
   "outputs": [],
   "source": []
  },
  {
   "cell_type": "code",
   "execution_count": null,
   "metadata": {
    "collapsed": true
   },
   "outputs": [],
   "source": []
  },
  {
   "cell_type": "code",
   "execution_count": null,
   "metadata": {
    "collapsed": true
   },
   "outputs": [],
   "source": []
  }
 ],
 "metadata": {
  "anaconda-cloud": {},
  "kernelspec": {
   "display_name": "Python 2",
   "language": "python",
   "name": "python2"
  },
  "language_info": {
   "codemirror_mode": {
    "name": "ipython",
    "version": 2
   },
   "file_extension": ".py",
   "mimetype": "text/x-python",
   "name": "python",
   "nbconvert_exporter": "python",
   "pygments_lexer": "ipython2",
   "version": "2.7.12"
  }
 },
 "nbformat": 4,
 "nbformat_minor": 0
}
