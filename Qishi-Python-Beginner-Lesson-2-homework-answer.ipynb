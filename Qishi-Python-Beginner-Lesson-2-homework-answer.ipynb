{
 "cells": [
  {
   "cell_type": "markdown",
   "metadata": {},
   "source": [
    "## Assignments:\n",
    "\n",
    "Q1. Reverse Vowels of a String\n",
    "\n",
    "        Sample Input: \"hello\"\n",
    "        \n",
    "        Output: \"holle\"\n",
    "        \n"
   ]
  },
  {
   "cell_type": "code",
   "execution_count": 35,
   "metadata": {
    "collapsed": true
   },
   "outputs": [],
   "source": [
    "def reverse_vowels(s):\n",
    "    \n",
    "    s_str = list(s)\n",
    "    left, right = 0, len(s_str)-1\n",
    "    vowels = ['a','e','i','o','u','A','E','I','O','U']\n",
    "    \n",
    "    while left < right:\n",
    "        while left < right and s_str[left] not in vowels:\n",
    "            left += 1\n",
    "        while left < right and s_str[right] not in vowels:\n",
    "            right -= 1\n",
    "                \n",
    "        if left < right:\n",
    "            s_str[left], s_str[right]=s_str[right], s_str[left]\n",
    "            left += 1\n",
    "            right -= 1\n",
    "    return ''.join(s_str)\n",
    "            "
   ]
  },
  {
   "cell_type": "code",
   "execution_count": 36,
   "metadata": {
    "collapsed": false
   },
   "outputs": [
    {
     "name": "stdout",
     "output_type": "stream",
     "text": [
      "\n",
      "holle\n",
      "Suporcilofrigalistecixpiiladicaeus\n"
     ]
    }
   ],
   "source": [
    "# test 1:\n",
    "str1 = \"\"\n",
    "print reverse_vowels(str1)\n",
    "\n",
    "# test 2:\n",
    "str1 = \"hello\"\n",
    "print reverse_vowels(str1)\n",
    "\n",
    "# test 3:\n",
    "s = 'Supercalifragilisticexpialidocious'\n",
    "print reverse_vowels(s)"
   ]
  },
  {
   "cell_type": "markdown",
   "metadata": {
    "collapsed": true
   },
   "source": [
    "Q2. Matrix Multiplication\n",
    "\n",
    "        Sample Input1: A = 12 56\n",
    "                           45 78\n",
    "                       B = 2 6\n",
    "                           5 8\n",
    "        Output1: 304 520\n",
    "                 480 894\n",
    "                \n",
    "        Sample Input2: A = 1 2 3\n",
    "                           4 5 6\n",
    "                           7 8 9\n",
    "                       B = 1 2 3\n",
    "                           4 5 6\n",
    "                           7 8 9\n",
    "\n",
    "        Output2: 30  36  42  \n",
    "                 66  81  96  \n",
    "                 102 126 150"
   ]
  },
  {
   "cell_type": "code",
   "execution_count": 43,
   "metadata": {
    "collapsed": false
   },
   "outputs": [],
   "source": [
    "def matrix_multiply(m1, m2):\n",
    "    \n",
    "    c = [[0] * len(m2[0]) for i in range(len(m1))]\n",
    "    for i in range(len(m1)):\n",
    "        for j in range(len(m2[0])):\n",
    "            for k in range(len(m1[0])):\n",
    "                c[i][j] += m1[i][k] * m2[k][j]\n",
    "    return c"
   ]
  },
  {
   "cell_type": "code",
   "execution_count": 53,
   "metadata": {
    "collapsed": false
   },
   "outputs": [
    {
     "name": "stdout",
     "output_type": "stream",
     "text": [
      "[[304, 520], [480, 894]]\n",
      "[[30, 36, 42], [66, 81, 96], [102, 126, 150]]\n",
      "[[304]]\n"
     ]
    }
   ],
   "source": [
    "# test 1:\n",
    "A = [[12, 56],\n",
    "     [45, 78]]\n",
    "B = [[2, 6],\n",
    "     [5, 8]]\n",
    "# Output1: 304 520\n",
    "#          480 894\n",
    "\n",
    "print matrix_multiply(A, B)\n",
    "\n",
    "# test 2:\n",
    "\n",
    "A = [[1, 2, 3],\n",
    "     [4, 5, 6],\n",
    "     [7, 8, 9]]\n",
    "B = [[1, 2, 3],\n",
    "     [4, 5, 6],\n",
    "     [7, 8, 9]]\n",
    "\n",
    "# Output2: 30  36  42  \n",
    "#          66  81  96  \n",
    "#          102 126 150\n",
    "\n",
    "print matrix_multiply(A, B)\n",
    "\n",
    "\n",
    "# test 1:\n",
    "A = [[12, 56]]\n",
    "B = [[2],\n",
    "     [5]]\n",
    "# Output1: 304 520\n",
    "#          480 894\n",
    "\n",
    "print matrix_multiply(A, B)"
   ]
  },
  {
   "cell_type": "markdown",
   "metadata": {},
   "source": [
    "Q3. Reverse a List\n",
    "        \n",
    "        Sample Input: [1, 2, 3, 'Python']\n",
    "        \n",
    "        Output: ['Python', 3, 2, 1]"
   ]
  },
  {
   "cell_type": "code",
   "execution_count": 46,
   "metadata": {
    "collapsed": false
   },
   "outputs": [
    {
     "data": {
      "text/plain": [
       "['Python', 3, 2, 1]"
      ]
     },
     "execution_count": 46,
     "metadata": {},
     "output_type": "execute_result"
    }
   ],
   "source": [
    "def reverse_list(l):\n",
    "    \n",
    "    return l[::-1]\n",
    "\n",
    "# test 1:\n",
    "l = [1, 2, 3, 'Python']\n",
    "reverse_list(l)"
   ]
  },
  {
   "cell_type": "code",
   "execution_count": 47,
   "metadata": {
    "collapsed": false
   },
   "outputs": [
    {
     "data": {
      "text/plain": [
       "['Python', 3, 2, 1]"
      ]
     },
     "execution_count": 47,
     "metadata": {},
     "output_type": "execute_result"
    }
   ],
   "source": [
    "def reverse_list(l):\n",
    "    \n",
    "    if len(l) == 0:\n",
    "        return []\n",
    "    \n",
    "    i, j = 0, len(l) - 1\n",
    "    while i < j:\n",
    "        l[i], l[j] = l[j], l[i]\n",
    "        i += 1\n",
    "        j -= 1\n",
    "    return l\n",
    "\n",
    "# test 1:\n",
    "l = [1, 2, 3, 'Python']\n",
    "reverse_list(l)"
   ]
  },
  {
   "cell_type": "markdown",
   "metadata": {
    "collapsed": true
   },
   "source": [
    "                \n",
    "\n",
    "        \n",
    "Q4. Given s = ['a', 'b', 'c', 'e', 'f', 'g'], try s[2::2], 2[2:2:2], s[-2::-2], s[-2:2:-2]"
   ]
  },
  {
   "cell_type": "code",
   "execution_count": 48,
   "metadata": {
    "collapsed": false
   },
   "outputs": [
    {
     "data": {
      "text/plain": [
       "['c', 'f']"
      ]
     },
     "execution_count": 48,
     "metadata": {},
     "output_type": "execute_result"
    }
   ],
   "source": [
    "s = ['a', 'b', 'c', 'e', 'f', 'g']\n",
    "s[2::2]"
   ]
  },
  {
   "cell_type": "code",
   "execution_count": 49,
   "metadata": {
    "collapsed": false
   },
   "outputs": [
    {
     "data": {
      "text/plain": [
       "[]"
      ]
     },
     "execution_count": 49,
     "metadata": {},
     "output_type": "execute_result"
    }
   ],
   "source": [
    "s[2:2:2]"
   ]
  },
  {
   "cell_type": "code",
   "execution_count": 50,
   "metadata": {
    "collapsed": false
   },
   "outputs": [
    {
     "data": {
      "text/plain": [
       "['f', 'c', 'a']"
      ]
     },
     "execution_count": 50,
     "metadata": {},
     "output_type": "execute_result"
    }
   ],
   "source": [
    "s[-2::-2]"
   ]
  },
  {
   "cell_type": "code",
   "execution_count": 52,
   "metadata": {
    "collapsed": false
   },
   "outputs": [
    {
     "data": {
      "text/plain": [
       "['f']"
      ]
     },
     "execution_count": 52,
     "metadata": {},
     "output_type": "execute_result"
    }
   ],
   "source": [
    "s[-2:2:-2]"
   ]
  },
  {
   "cell_type": "code",
   "execution_count": null,
   "metadata": {
    "collapsed": true
   },
   "outputs": [],
   "source": []
  }
 ],
 "metadata": {
  "kernelspec": {
   "display_name": "Python 2",
   "language": "python",
   "name": "python2"
  },
  "language_info": {
   "codemirror_mode": {
    "name": "ipython",
    "version": 2
   },
   "file_extension": ".py",
   "mimetype": "text/x-python",
   "name": "python",
   "nbconvert_exporter": "python",
   "pygments_lexer": "ipython2",
   "version": "2.7.12"
  }
 },
 "nbformat": 4,
 "nbformat_minor": 0
}
