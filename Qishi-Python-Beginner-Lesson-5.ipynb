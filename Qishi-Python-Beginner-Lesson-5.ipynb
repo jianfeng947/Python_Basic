{
 "cells": [
  {
   "cell_type": "markdown",
   "metadata": {},
   "source": [
    "## Lesson 5. Quick Sort and Files\n",
    "\n",
    "\n",
    "1. Master Theorem\n",
    "2. Quick Sort\n",
    "\n",
    "2. Files\n"
   ]
  },
  {
   "cell_type": "markdown",
   "metadata": {},
   "source": [
    "### 1. Master Theorem"
   ]
  },
  {
   "cell_type": "markdown",
   "metadata": {},
   "source": [
    "The master theorem provides a solution to recurrence relations of the form"
   ]
  },
  {
   "cell_type": "markdown",
   "metadata": {},
   "source": [
    "\\begin{equation*}\n",
    "T(n) = a T(\\frac{n}{b}) + f(n)\n",
    "\\end{equation*}"
   ]
  },
  {
   "cell_type": "markdown",
   "metadata": {},
   "source": [
    "for constants $a\\geq1$ and $b>1$ with $f$ asymptotically positive. Such recurrences occur frequently in the runtime analysis of many commonly encountered algorithms."
   ]
  },
  {
   "cell_type": "markdown",
   "metadata": {},
   "source": [
    "**merge sort**"
   ]
  },
  {
   "cell_type": "markdown",
   "metadata": {},
   "source": [
    "\\begin{equation*}\n",
    "T(n) = 2 T(\\frac{n}{2}) + O(n)\n",
    "\\end{equation*}"
   ]
  },
  {
   "cell_type": "markdown",
   "metadata": {},
   "source": [
    "**binary search**\n",
    "\n",
    "\\begin{equation*}\n",
    "T(n) = T(\\frac{n}{2}) + O(1)\n",
    "\\end{equation*}"
   ]
  },
  {
   "cell_type": "markdown",
   "metadata": {},
   "source": [
    "**Master theorem.**\n",
    "\n",
    "Given a recurrence relations of the form\n",
    "\\begin{equation*}\n",
    "T(n) = a T(\\frac{n}{b}) + f(n)\n",
    "\\end{equation*}\n",
    "\n",
    "\n",
    "for constants $a\\geq1$ and $b>1$ with $f$ asymptotically positive, the following statements are true:\n",
    "\n",
    "* **Case 1.** If $f(n) = O(n^{\\log_{b}a - \\epsilon})$ for some $\\epsilon > 0$, then $T(n) = \\Theta(n^{\\log_{b}a})$.\n",
    "* **Case 2.** If $f(n) = \\Theta(n^{\\log_{b}a})$,then $T(n) = \\Theta(n^{\\log_{b}a} \\log n)$.\n",
    "\n",
    "* **Case 3.** If $f(n) = \\Omega(n^{\\log_{b}a + \\epsilon})$ for some $\\epsilon > 0$ (and $a f(\\frac{n}{b}) \\leq c f(n)$ for some $c < 1$ for all $n$ sufficiently large), then $T(n) = \\Theta(f(n))$."
   ]
  },
  {
   "cell_type": "markdown",
   "metadata": {},
   "source": [
    "#### Example\n",
    "**merge sort**\n",
    "\n",
    "\\begin{equation*}\n",
    "T(n) = 2 T(\\frac{n}{2}) + O(n)\n",
    "\\end{equation*}\n",
    "\n",
    "a = 2, b = 2, $n^{\\log_{b} a} = n$, and $f(n) = \\Theta(n^{\\log_{b}a})$, so case 2 of master theorem gives $T(n) = \\Theta(n^{\\log_{b}a} \\log n) = \\Theta(n \\log n)$\n",
    "\n"
   ]
  },
  {
   "cell_type": "markdown",
   "metadata": {},
   "source": [
    "**binary search**\n",
    "\n",
    "\\begin{equation*}\n",
    "T(n) = T(\\frac{n}{2}) + O(1)\n",
    "\\end{equation*}\n",
    "\n",
    "a = 1, b = 2, $n^{\\log_{b} a} = 1$, and $f(n) = \\Theta(1)$, so case 2 of master theorem gives $T(n) = \\Theta(n^{\\log_{b}a} \\log n) = \\Theta(\\log n)$"
   ]
  },
  {
   "cell_type": "markdown",
   "metadata": {},
   "source": [
    "### 2. Quick Sort\n",
    "\n",
    "Developed by **Tony Hoare** (1980 Turing Award) in 1959 and published in 1961, it is still a commonly used algorithm for sorting."
   ]
  },
  {
   "cell_type": "markdown",
   "metadata": {},
   "source": [
    "#### Basic plan\n",
    " * Partition so that, for some j\n",
    "     - entry a[j] is in place\n",
    "     - no larger entry to the left of j\n",
    "     - no smaller entry to the right of j\n",
    " * Sort each piece recursively\n"
   ]
  },
  {
   "cell_type": "code",
   "execution_count": 1,
   "metadata": {
    "collapsed": true
   },
   "outputs": [],
   "source": [
    "def partition(alist, left, right):\n",
    "    pivot = alist[left]\n",
    "    i = left + 1\n",
    "    j = right\n",
    "    \n",
    "    while True:\n",
    "        while alist[i] < pivot and i < right:\n",
    "            i += 1\n",
    "        while alist[j] > pivot and j > left:\n",
    "            j -= 1\n",
    "        if i >= j:\n",
    "            break\n",
    "        alist[i], alist[j] = alist[j], alist[i]\n",
    "        i += 1\n",
    "        j -= 1\n",
    "    alist[left], alist[j] = alist[j], alist[left]\n",
    "    return j"
   ]
  },
  {
   "cell_type": "code",
   "execution_count": 2,
   "metadata": {
    "collapsed": false
   },
   "outputs": [],
   "source": [
    "def quicksort1(alist, left, right):\n",
    "    if left < right:\n",
    "        p = partition(alist, left, right)\n",
    "        quicksort1(alist, left, p - 1)\n",
    "        quicksort1(alist, p + 1, right)"
   ]
  },
  {
   "cell_type": "code",
   "execution_count": 3,
   "metadata": {
    "collapsed": false
   },
   "outputs": [
    {
     "name": "stdout",
     "output_type": "stream",
     "text": [
      "[17, 20, 20, 26, 31, 44, 54, 55, 77, 93]\n"
     ]
    }
   ],
   "source": [
    "alist = [54, 26, 93, 17, 77, 31, 44, 55, 20, 20]\n",
    "quicksort1(alist, 0, len(alist) - 1)\n",
    "\n",
    "print(alist)"
   ]
  },
  {
   "cell_type": "code",
   "execution_count": 5,
   "metadata": {
    "collapsed": false
   },
   "outputs": [],
   "source": [
    "def quicksort2(alist, left, right):\n",
    "    \n",
    "    i = left\n",
    "    j = right\n",
    "    pivot = alist[(i + j) / 2]\n",
    "    \n",
    "    while i <= j:\n",
    "        while alist[i] < pivot and i < right:\n",
    "            i += 1\n",
    "        while alist[j] > pivot and j > left:\n",
    "            j -= 1\n",
    "            \n",
    "        if i <= j:\n",
    "            alist[i], alist[j] = alist[j], alist[i]\n",
    "            i += 1\n",
    "            j -= 1\n",
    "    if i < right:\n",
    "        quicksort2(alist, i, right)\n",
    "    if j > left:\n",
    "        quicksort2(alist, left, j)"
   ]
  },
  {
   "cell_type": "code",
   "execution_count": 6,
   "metadata": {
    "collapsed": false
   },
   "outputs": [
    {
     "name": "stdout",
     "output_type": "stream",
     "text": [
      "[17, 20, 20, 26, 31, 44, 54, 55, 77, 93]\n"
     ]
    }
   ],
   "source": [
    "alist = [54, 26, 93, 17, 77, 31, 44, 55, 20, 20]\n",
    "quicksort2(alist, 0, len(alist) - 1)\n",
    "\n",
    "print(alist)"
   ]
  },
  {
   "cell_type": "code",
   "execution_count": 7,
   "metadata": {
    "collapsed": true
   },
   "outputs": [],
   "source": [
    "import sys\n",
    "sys.setrecursionlimit(3000) # change recursion limit "
   ]
  },
  {
   "cell_type": "code",
   "execution_count": 8,
   "metadata": {
    "collapsed": false
   },
   "outputs": [
    {
     "name": "stdout",
     "output_type": "stream",
     "text": [
      "QS1: 0.663878, QS2:  0.007628, percent:       0.01\n"
     ]
    }
   ],
   "source": [
    "import time\n",
    "alist = range(2000)\n",
    "start_time = time.time()\n",
    "quicksort1(alist, 0, len(alist) - 1)\n",
    "time1 = time.time() - start_time\n",
    "    \n",
    "start_time = time.time()\n",
    "quicksort2(alist, 0, len(alist) - 1)\n",
    "time2 = time.time() - start_time\n",
    "print(\"QS1: %8.6f, QS2:  %7.6f, percent: %10.2f\" % (time1, time2, time2/time1))"
   ]
  },
  {
   "cell_type": "markdown",
   "metadata": {},
   "source": [
    "#### Worst case analysis"
   ]
  },
  {
   "cell_type": "markdown",
   "metadata": {},
   "source": [
    "<img src = 'worst case.png'>"
   ]
  },
  {
   "cell_type": "markdown",
   "metadata": {},
   "source": [
    "$N + (N - 1) + (N - 2) + ... + 2 + 1 \\sim \\frac {1}{2}  N^2$"
   ]
  },
  {
   "cell_type": "markdown",
   "metadata": {},
   "source": [
    "#### One solution against worst case : Random shuffle"
   ]
  },
  {
   "cell_type": "code",
   "execution_count": 9,
   "metadata": {
    "collapsed": true
   },
   "outputs": [],
   "source": [
    "import random"
   ]
  },
  {
   "cell_type": "code",
   "execution_count": 10,
   "metadata": {
    "collapsed": false
   },
   "outputs": [
    {
     "name": "stdout",
     "output_type": "stream",
     "text": [
      "QS1: 0.021682, QS2:  0.020478, percent:       0.94\n"
     ]
    }
   ],
   "source": [
    "alist = range(2000)\n",
    "random.shuffle(alist)\n",
    "start_time = time.time()\n",
    "quicksort1(alist, 0, len(alist) - 1)\n",
    "time1 = time.time() - start_time\n",
    "\n",
    "start_time = time.time()\n",
    "quicksort2(alist, 0, len(alist) - 1)\n",
    "time2 = time.time() - start_time\n",
    "print(\"QS1: %8.6f, QS2:  %7.6f, percent: %10.2f\" % (time1, time2, time2/time1))"
   ]
  },
  {
   "cell_type": "markdown",
   "metadata": {},
   "source": [
    "#### Best case analysis"
   ]
  },
  {
   "cell_type": "markdown",
   "metadata": {},
   "source": [
    "<img src='Best case.png'>"
   ]
  },
  {
   "cell_type": "markdown",
   "metadata": {},
   "source": [
    "$T(n) = 2T(\\frac {n}{2}) + \\theta(n)$\n",
    "\n",
    "a = 2, b = 2, $n^{\\log_{b} a} = n$, and $f(n) = \\Theta(n^{\\log_{b}a})$, so case 2 of master theorem gives $T(n) = \\Theta(n^{\\log_{b}a} \\log n) = \\Theta(n \\log n)$"
   ]
  },
  {
   "cell_type": "markdown",
   "metadata": {
    "collapsed": true
   },
   "source": [
    "#### Average case analysis"
   ]
  },
  {
   "cell_type": "markdown",
   "metadata": {},
   "source": [
    "Proposition. The average number of compares $C_N$ to quicksort an array of $N$ distinct keys is ~ $2N\\ln N$."
   ]
  },
  {
   "cell_type": "code",
   "execution_count": null,
   "metadata": {
    "collapsed": true
   },
   "outputs": [],
   "source": []
  },
  {
   "cell_type": "code",
   "execution_count": 11,
   "metadata": {
    "collapsed": true
   },
   "outputs": [],
   "source": [
    "def insertSort(aList):\n",
    "    if len(aList) == 0:\n",
    "        return alist\n",
    "    \n",
    "    size = len(aList)\n",
    "    for i in range(1, size):\n",
    "        for j in range(i,0,-1):\n",
    "            if aList[j] < aList[j-1]:\n",
    "                aList[j], aList[j-1] = aList[j-1], aList[j]\n",
    "    return aList"
   ]
  },
  {
   "cell_type": "code",
   "execution_count": 12,
   "metadata": {
    "collapsed": false
   },
   "outputs": [
    {
     "name": "stdout",
     "output_type": "stream",
     "text": [
      "QS1: 0.154068, QS2:  0.003462, percent:       0.02\n"
     ]
    }
   ],
   "source": [
    "import time\n",
    "alist = range(700)\n",
    "random.shuffle(alist)\n",
    "start_time = time.time()\n",
    "insertSort(alist)\n",
    "time1 = time.time() - start_time\n",
    "\n",
    "start_time = time.time()\n",
    "quicksort2(alist, 0, len(alist) - 1)\n",
    "time2 = time.time() - start_time\n",
    "print(\"QS1: %8.6f, QS2:  %7.6f, percent: %10.2f\" % (time1, time2, time2/time1))"
   ]
  },
  {
   "cell_type": "markdown",
   "metadata": {},
   "source": [
    "<img src='time compare.png'>"
   ]
  },
  {
   "cell_type": "markdown",
   "metadata": {},
   "source": [
    "#### Example: Merge Intervals\n",
    "Given a collection of intervals, merge all overlapping intervals.\n",
    "\n",
    "For example,\n",
    "Given [[1,3],[2,6],[8,10],[15,18]],\n",
    "return [[1,6],[8,10],[15,18]]."
   ]
  },
  {
   "cell_type": "code",
   "execution_count": 13,
   "metadata": {
    "collapsed": true
   },
   "outputs": [],
   "source": [
    "def quicksort(intervals, left, right):\n",
    "    i = left \n",
    "    j = right\n",
    "    pivot = intervals[(i + j) / 2][0]\n",
    "    \n",
    "    while i < j:\n",
    "        while intervals[i][0] < pivot and i < right:\n",
    "            i += 1\n",
    "        while intervals[j][0] > pivot and j > left:\n",
    "            j -= 1\n",
    "        if i <= j:\n",
    "            intervals[i], intervals[j] = intervals[j], intervals[i]\n",
    "            i += 1\n",
    "            j -= 1\n",
    "    if i < right:\n",
    "        quicksort(intervals, i, right)\n",
    "    if j > left:\n",
    "        quicksort(intervals, left, j)"
   ]
  },
  {
   "cell_type": "code",
   "execution_count": 14,
   "metadata": {
    "collapsed": true
   },
   "outputs": [],
   "source": [
    "intervals = [[2,6],[8,10],[15,18],[1,3]]\n",
    "quicksort(intervals, 0,len(intervals)-1)"
   ]
  },
  {
   "cell_type": "code",
   "execution_count": 15,
   "metadata": {
    "collapsed": false
   },
   "outputs": [
    {
     "data": {
      "text/plain": [
       "[[1, 3], [2, 6], [8, 10], [15, 18]]"
      ]
     },
     "execution_count": 15,
     "metadata": {},
     "output_type": "execute_result"
    }
   ],
   "source": [
    "intervals"
   ]
  },
  {
   "cell_type": "code",
   "execution_count": 17,
   "metadata": {
    "collapsed": true
   },
   "outputs": [],
   "source": [
    "def merge(intervals):\n",
    "    \"\"\"\n",
    "    :type intervals: List[List]\n",
    "    :rtype: List[List]\n",
    "    \"\"\"\n",
    "    res = []\n",
    "    if len(intervals) == 0 or len(intervals) == 1:\n",
    "        return intervals\n",
    "        \n",
    "    quicksort(intervals, 0, len(intervals) - 1)\n",
    "    print intervals   \n",
    "    tmp = intervals[0]\n",
    "\n",
    "    for i in range(len(intervals) - 1):\n",
    "        if tmp[1]>= intervals[i + 1][0]:\n",
    "            if tmp[1] <= intervals[i + 1][1]:\n",
    "                tmp[1]= intervals[i + 1][1]\n",
    "            else:\n",
    "                continue\n",
    "        else:\n",
    "            res.append(tmp)\n",
    "            tmp = intervals[i + 1]\n",
    "    res.append(tmp)\n",
    "    return res"
   ]
  },
  {
   "cell_type": "code",
   "execution_count": 18,
   "metadata": {
    "collapsed": false
   },
   "outputs": [
    {
     "name": "stdout",
     "output_type": "stream",
     "text": [
      "[[1, 3], [2, 6], [8, 10], [15, 18]]\n"
     ]
    },
    {
     "data": {
      "text/plain": [
       "[[1, 6], [8, 10], [15, 18]]"
      ]
     },
     "execution_count": 18,
     "metadata": {},
     "output_type": "execute_result"
    }
   ],
   "source": [
    "intervals = [[2,6],[8,10],[15,18],[1,3]]\n",
    "merge(intervals)"
   ]
  },
  {
   "cell_type": "code",
   "execution_count": 19,
   "metadata": {
    "collapsed": true
   },
   "outputs": [],
   "source": [
    "def merge1(intervals):\n",
    "    \"\"\"\n",
    "    :type intervals: List[List]\n",
    "    :rtype: List[List]\n",
    "    \"\"\"\n",
    "    res = []\n",
    "    if len(intervals) == 0 or len(intervals) == 1:\n",
    "        return intervals\n",
    "        \n",
    "    intervals = sorted(intervals, key=lambda x: x[0])\n",
    "    print intervals   \n",
    "    tmp = intervals[0]\n",
    "\n",
    "    for i in range(len(intervals) - 1):\n",
    "        if tmp[1]>= intervals[i + 1][0]:\n",
    "            if tmp[1] <= intervals[i + 1][1]:\n",
    "                tmp[1]= intervals[i + 1][1]\n",
    "            else:\n",
    "                continue\n",
    "        else:\n",
    "            res.append(tmp)\n",
    "            tmp = intervals[i + 1]\n",
    "    res.append(tmp)\n",
    "    return res"
   ]
  },
  {
   "cell_type": "code",
   "execution_count": 20,
   "metadata": {
    "collapsed": false
   },
   "outputs": [
    {
     "name": "stdout",
     "output_type": "stream",
     "text": [
      "[[1, 3], [2, 6], [8, 10], [15, 18]]\n"
     ]
    },
    {
     "data": {
      "text/plain": [
       "[[1, 6], [8, 10], [15, 18]]"
      ]
     },
     "execution_count": 20,
     "metadata": {},
     "output_type": "execute_result"
    }
   ],
   "source": [
    "intervals = [[2,6],[8,10],[15,18],[1,3]]\n",
    "merge1(intervals)"
   ]
  },
  {
   "cell_type": "code",
   "execution_count": null,
   "metadata": {
    "collapsed": true
   },
   "outputs": [],
   "source": []
  },
  {
   "cell_type": "markdown",
   "metadata": {},
   "source": [
    "#### Summary"
   ]
  },
  {
   "cell_type": "markdown",
   "metadata": {},
   "source": [
    "1. Sorting algorithm\n",
    "\n",
    "    O(n^2):\n",
    "        Selection Sort\n",
    "        Insertion Sort\n",
    "        Bubble Sort\n",
    "        \n",
    "    O(nlogn):\n",
    "        Merge Sort\n",
    "        Quick Sort\n",
    "        \n",
    "2. Divide-and-conquer\n",
    "\n",
    "Merge Sort, Quick Sort, Binary Search"
   ]
  },
  {
   "cell_type": "markdown",
   "metadata": {},
   "source": [
    "    1) Divide the problem into a number of subproblems that are smaller instances of the same problem.\n",
    "    2) Conquer the subproblems by solving them recursively. If they are small enough, solve the subproblems as base cases.\n",
    "    3) Combine the solutions to the subproblems into the solution for the original problem."
   ]
  },
  {
   "cell_type": "markdown",
   "metadata": {},
   "source": [
    "<img src='divideandconquer2.png'>"
   ]
  },
  {
   "cell_type": "markdown",
   "metadata": {},
   "source": [
    "<img src='divideandconquer1.png'>"
   ]
  },
  {
   "cell_type": "code",
   "execution_count": null,
   "metadata": {
    "collapsed": true
   },
   "outputs": [],
   "source": []
  },
  {
   "cell_type": "markdown",
   "metadata": {
    "collapsed": true
   },
   "source": [
    "### 3. Files"
   ]
  },
  {
   "cell_type": "markdown",
   "metadata": {},
   "source": [
    "#### 3.1 Reading and writing"
   ]
  },
  {
   "cell_type": "markdown",
   "metadata": {},
   "source": [
    "To write a file, you have to open it with 'w' mode as a second parameter:"
   ]
  },
  {
   "cell_type": "code",
   "execution_count": 21,
   "metadata": {
    "collapsed": false
   },
   "outputs": [
    {
     "name": "stdout",
     "output_type": "stream",
     "text": [
      "<open file 'output1.txt', mode 'w' at 0x104453b70>\n"
     ]
    }
   ],
   "source": [
    "fout = open('output1.txt', 'w')\n",
    "print fout"
   ]
  },
  {
   "cell_type": "markdown",
   "metadata": {},
   "source": [
    "If the file already exists, opening it in write mode clears out the old data and starts fresh, so be careful! If the file doesn’t exist, a new one is created."
   ]
  },
  {
   "cell_type": "code",
   "execution_count": 22,
   "metadata": {
    "collapsed": true
   },
   "outputs": [],
   "source": [
    "line1 = \"This here's the wattle, \\n\"\n",
    "fout.write(line1)"
   ]
  },
  {
   "cell_type": "code",
   "execution_count": 23,
   "metadata": {
    "collapsed": true
   },
   "outputs": [],
   "source": [
    "line2 = \"the emblem of our land.\\n\"\n",
    "fout.write(line2)\n",
    "\n",
    "for i in range(10):\n",
    "    fout.write(\"This is the {}th line.\\n\".format(i + 3))\n",
    "fout.close()"
   ]
  },
  {
   "cell_type": "markdown",
   "metadata": {},
   "source": [
    "Read a file"
   ]
  },
  {
   "cell_type": "code",
   "execution_count": 24,
   "metadata": {
    "collapsed": true
   },
   "outputs": [],
   "source": [
    "fin = open('output1.txt', 'r')"
   ]
  },
  {
   "cell_type": "code",
   "execution_count": 25,
   "metadata": {
    "collapsed": false
   },
   "outputs": [
    {
     "name": "stdout",
     "output_type": "stream",
     "text": [
      "This here's the wattle, \n",
      "the emblem of our land.\n",
      "This is the 3th line.\n",
      "This is the 4th line.\n",
      "This is the 5th line.\n",
      "This is the 6th line.\n",
      "This is the 7th line.\n",
      "This is the 8th line.\n",
      "This is the 9th line.\n",
      "This is the 10th line.\n",
      "This is the 11th line.\n",
      "This is the 12th line.\n",
      "\n"
     ]
    }
   ],
   "source": [
    "print fin.read()\n"
   ]
  },
  {
   "cell_type": "code",
   "execution_count": 26,
   "metadata": {
    "collapsed": false
   },
   "outputs": [
    {
     "data": {
      "text/plain": [
       "\"This here'\""
      ]
     },
     "execution_count": 26,
     "metadata": {},
     "output_type": "execute_result"
    }
   ],
   "source": [
    "fin = open('output1.txt', 'r')\n",
    "fin.read(10)\n"
   ]
  },
  {
   "cell_type": "markdown",
   "metadata": {},
   "source": [
    "Read a line"
   ]
  },
  {
   "cell_type": "code",
   "execution_count": 27,
   "metadata": {
    "collapsed": false
   },
   "outputs": [
    {
     "data": {
      "text/plain": [
       "\"This here's the wattle, \\n\""
      ]
     },
     "execution_count": 27,
     "metadata": {},
     "output_type": "execute_result"
    }
   ],
   "source": [
    "fin = open('output1', 'r')\n",
    "fin.readline()\n"
   ]
  },
  {
   "cell_type": "code",
   "execution_count": 28,
   "metadata": {
    "collapsed": false
   },
   "outputs": [
    {
     "data": {
      "text/plain": [
       "'the emblem of our land.\\n'"
      ]
     },
     "execution_count": 28,
     "metadata": {},
     "output_type": "execute_result"
    }
   ],
   "source": [
    "fin.readline()"
   ]
  },
  {
   "cell_type": "code",
   "execution_count": 29,
   "metadata": {
    "collapsed": false
   },
   "outputs": [
    {
     "data": {
      "text/plain": [
       "'This is the 3th line.\\n'"
      ]
     },
     "execution_count": 29,
     "metadata": {},
     "output_type": "execute_result"
    }
   ],
   "source": [
    "fin.readline()"
   ]
  },
  {
   "cell_type": "code",
   "execution_count": 30,
   "metadata": {
    "collapsed": true
   },
   "outputs": [],
   "source": [
    "fin.close()"
   ]
  },
  {
   "cell_type": "code",
   "execution_count": 31,
   "metadata": {
    "collapsed": false
   },
   "outputs": [
    {
     "ename": "ValueError",
     "evalue": "I/O operation on closed file",
     "output_type": "error",
     "traceback": [
      "\u001b[0;31m---------------------------------------------------------------------------\u001b[0m",
      "\u001b[0;31mValueError\u001b[0m                                Traceback (most recent call last)",
      "\u001b[0;32m<ipython-input-31-b191416ab209>\u001b[0m in \u001b[0;36m<module>\u001b[0;34m()\u001b[0m\n\u001b[0;32m----> 1\u001b[0;31m \u001b[0mfin\u001b[0m\u001b[0;34m.\u001b[0m\u001b[0mreadline\u001b[0m\u001b[0;34m(\u001b[0m\u001b[0;34m)\u001b[0m\u001b[0;34m\u001b[0m\u001b[0m\n\u001b[0m",
      "\u001b[0;31mValueError\u001b[0m: I/O operation on closed file"
     ]
    }
   ],
   "source": [
    "fin.readline()"
   ]
  },
  {
   "cell_type": "markdown",
   "metadata": {},
   "source": [
    "To read a list of lines in a text file: "
   ]
  },
  {
   "cell_type": "code",
   "execution_count": 32,
   "metadata": {
    "collapsed": false
   },
   "outputs": [
    {
     "data": {
      "text/plain": [
       "[\"This here's the wattle, \\n\",\n",
       " 'the emblem of our land.\\n',\n",
       " 'This is the 3th line.\\n',\n",
       " 'This is the 4th line.\\n',\n",
       " 'This is the 5th line.\\n',\n",
       " 'This is the 6th line.\\n',\n",
       " 'This is the 7th line.\\n',\n",
       " 'This is the 8th line.\\n',\n",
       " 'This is the 9th line.\\n',\n",
       " 'This is the 10th line.\\n',\n",
       " 'This is the 11th line.\\n',\n",
       " 'This is the 12th line.\\n']"
      ]
     },
     "execution_count": 32,
     "metadata": {},
     "output_type": "execute_result"
    }
   ],
   "source": [
    "fin = open('output1.txt', 'r')\n",
    "fin.readlines()"
   ]
  },
  {
   "cell_type": "markdown",
   "metadata": {},
   "source": [
    "Looping over a file"
   ]
  },
  {
   "cell_type": "code",
   "execution_count": 33,
   "metadata": {
    "collapsed": false
   },
   "outputs": [
    {
     "name": "stdout",
     "output_type": "stream",
     "text": [
      "This here's the wattle, \n",
      "the emblem of our land.\n",
      "This is the 3th line.\n",
      "This is the 4th line.\n",
      "This is the 5th line.\n",
      "This is the 6th line.\n",
      "This is the 7th line.\n",
      "This is the 8th line.\n",
      "This is the 9th line.\n",
      "This is the 10th line.\n",
      "This is the 11th line.\n",
      "This is the 12th line.\n"
     ]
    }
   ],
   "source": [
    "fin = open('output1.txt', 'r')\n",
    "for line in fin:\n",
    "    print line,"
   ]
  },
  {
   "cell_type": "markdown",
   "metadata": {},
   "source": [
    "**With Statement**\n",
    "\n",
    "To provide much cleaner syntax and exceptions handling when you are working with code."
   ]
  },
  {
   "cell_type": "code",
   "execution_count": 35,
   "metadata": {
    "collapsed": false
   },
   "outputs": [
    {
     "name": "stdout",
     "output_type": "stream",
     "text": [
      "This here's the wattle, \n",
      "the emblem of our land.\n",
      "This is the 3th line.\n",
      "This is the 4th line.\n",
      "This is the 5th line.\n",
      "This is the 6th line.\n",
      "This is the 7th line.\n",
      "This is the 8th line.\n",
      "This is the 9th line.\n",
      "This is the 10th line.\n",
      "This is the 11th line.\n",
      "This is the 12th line.\n"
     ]
    }
   ],
   "source": [
    "with open('output1.txt') as f:\n",
    "    for line in f:\n",
    "        print line,"
   ]
  },
  {
   "cell_type": "code",
   "execution_count": 36,
   "metadata": {
    "collapsed": false
   },
   "outputs": [
    {
     "name": "stdout",
     "output_type": "stream",
     "text": [
      "['This', \"here's\", 'the', 'wattle,']\n",
      "['the', 'emblem', 'of', 'our', 'land.']\n",
      "['This', 'is', 'the', '3th', 'line.']\n",
      "['This', 'is', 'the', '4th', 'line.']\n",
      "['This', 'is', 'the', '5th', 'line.']\n",
      "['This', 'is', 'the', '6th', 'line.']\n",
      "['This', 'is', 'the', '7th', 'line.']\n",
      "['This', 'is', 'the', '8th', 'line.']\n",
      "['This', 'is', 'the', '9th', 'line.']\n",
      "['This', 'is', 'the', '10th', 'line.']\n",
      "['This', 'is', 'the', '11th', 'line.']\n",
      "['This', 'is', 'the', '12th', 'line.']\n"
     ]
    }
   ],
   "source": [
    "with open('output1.txt') as f:\n",
    "    for line in f:\n",
    "        print line.split()"
   ]
  },
  {
   "cell_type": "markdown",
   "metadata": {},
   "source": [
    "#### 3.2 Format\n",
    "\n",
    "Using **%** and **.format()**"
   ]
  },
  {
   "cell_type": "markdown",
   "metadata": {},
   "source": [
    "Basic formatting"
   ]
  },
  {
   "cell_type": "code",
   "execution_count": 38,
   "metadata": {
    "collapsed": false
   },
   "outputs": [
    {
     "name": "stdout",
     "output_type": "stream",
     "text": [
      "one two\n",
      "one two\n"
     ]
    }
   ],
   "source": [
    "print \"%s %s\" % ('one', 'two')\n",
    "print \"{} {}\".format('one', 'two')"
   ]
  },
  {
   "cell_type": "code",
   "execution_count": 39,
   "metadata": {
    "collapsed": false
   },
   "outputs": [
    {
     "name": "stdout",
     "output_type": "stream",
     "text": [
      "100 200\n",
      "100 200\n"
     ]
    }
   ],
   "source": [
    "print \"%d %d\" % (100, 200)\n",
    "print \"{} {}\".format(100, 200)"
   ]
  },
  {
   "cell_type": "code",
   "execution_count": 40,
   "metadata": {
    "collapsed": false
   },
   "outputs": [
    {
     "name": "stdout",
     "output_type": "stream",
     "text": [
      "200 one\n"
     ]
    }
   ],
   "source": [
    "# With new style formatting it is possible to give placeholders an explicit positional index.\n",
    "print \"{1} {0}\".format('one', 200)"
   ]
  },
  {
   "cell_type": "code",
   "execution_count": null,
   "metadata": {
    "collapsed": true
   },
   "outputs": [],
   "source": []
  },
  {
   "cell_type": "code",
   "execution_count": null,
   "metadata": {
    "collapsed": true
   },
   "outputs": [],
   "source": []
  },
  {
   "cell_type": "markdown",
   "metadata": {},
   "source": [
    "**strings**\n",
    "\n",
    "Padding and aligning strings"
   ]
  },
  {
   "cell_type": "code",
   "execution_count": 61,
   "metadata": {
    "collapsed": false
   },
   "outputs": [
    {
     "name": "stdout",
     "output_type": "stream",
     "text": [
      "      test, python!\n",
      "      test, python!\n"
     ]
    }
   ],
   "source": [
    "print \"%10s, python!\" % ('test',)\n",
    "print \"{:>10}, python!\".format('test')"
   ]
  },
  {
   "cell_type": "code",
   "execution_count": 41,
   "metadata": {
    "collapsed": false
   },
   "outputs": [
    {
     "name": "stdout",
     "output_type": "stream",
     "text": [
      "test      , python!\n",
      "test      , python!\n"
     ]
    }
   ],
   "source": [
    "print \"%-10s, python!\" % ('test',)\n",
    "print \"{:10}, python!\".format('test')"
   ]
  },
  {
   "cell_type": "code",
   "execution_count": 42,
   "metadata": {
    "collapsed": false
   },
   "outputs": [
    {
     "name": "stdout",
     "output_type": "stream",
     "text": [
      "test______, python!\n"
     ]
    }
   ],
   "source": [
    "print \"{:_<10}, python!\".format('test')"
   ]
  },
  {
   "cell_type": "code",
   "execution_count": 43,
   "metadata": {
    "collapsed": false
   },
   "outputs": [
    {
     "name": "stdout",
     "output_type": "stream",
     "text": [
      "___test___\n"
     ]
    }
   ],
   "source": [
    "print \"{:_^10}\".format('test')"
   ]
  },
  {
   "cell_type": "code",
   "execution_count": 44,
   "metadata": {
    "collapsed": false
   },
   "outputs": [
    {
     "name": "stdout",
     "output_type": "stream",
     "text": [
      "___tes____\n"
     ]
    }
   ],
   "source": [
    "print \"{:_^10}\".format('tes')"
   ]
  },
  {
   "cell_type": "markdown",
   "metadata": {},
   "source": [
    "Truncating long strings"
   ]
  },
  {
   "cell_type": "code",
   "execution_count": 45,
   "metadata": {
    "collapsed": false
   },
   "outputs": [
    {
     "name": "stdout",
     "output_type": "stream",
     "text": [
      "Pytho\n",
      "Pytho\n"
     ]
    }
   ],
   "source": [
    "print \"%.5s\" % (\"Python is good!\")\n",
    "print \"{:.5}\".format(\"Python is good!\")"
   ]
  },
  {
   "cell_type": "markdown",
   "metadata": {},
   "source": [
    "Combining truncating and padding"
   ]
  },
  {
   "cell_type": "code",
   "execution_count": 46,
   "metadata": {
    "collapsed": false
   },
   "outputs": [
    {
     "name": "stdout",
     "output_type": "stream",
     "text": [
      "Pytho     \n",
      "Pytho     \n"
     ]
    }
   ],
   "source": [
    "print \"%-10.5s\" % (\"Python is good!\")\n",
    "print \"{:10.5}\".format(\"Python is good!\")"
   ]
  },
  {
   "cell_type": "markdown",
   "metadata": {},
   "source": [
    "**Numbers**\n",
    "\n",
    "integer"
   ]
  },
  {
   "cell_type": "code",
   "execution_count": 47,
   "metadata": {
    "collapsed": false
   },
   "outputs": [
    {
     "name": "stdout",
     "output_type": "stream",
     "text": [
      "42\n",
      "42\n"
     ]
    }
   ],
   "source": [
    "print '%d' % 42\n",
    "print '{}'.format(42)"
   ]
  },
  {
   "cell_type": "markdown",
   "metadata": {},
   "source": [
    "float"
   ]
  },
  {
   "cell_type": "code",
   "execution_count": 48,
   "metadata": {
    "collapsed": false
   },
   "outputs": [
    {
     "name": "stdout",
     "output_type": "stream",
     "text": [
      "3.141593\n",
      "3.141593\n"
     ]
    }
   ],
   "source": [
    "print '%f' % (3.141592653589793,)\n",
    "print '{:f}'.format(3.141592653589793,)"
   ]
  },
  {
   "cell_type": "markdown",
   "metadata": {},
   "source": [
    "Padding numbers"
   ]
  },
  {
   "cell_type": "code",
   "execution_count": 49,
   "metadata": {
    "collapsed": false
   },
   "outputs": [
    {
     "name": "stdout",
     "output_type": "stream",
     "text": [
      "  42\n",
      "  42\n",
      "  42\n",
      " 42 \n",
      "42  \n"
     ]
    }
   ],
   "source": [
    "print '%4d' % 42\n",
    "print '{:4d}'.format(42)\n",
    "print '{:>4d}'.format(42)\n",
    "print '{:^4d}'.format(42)\n",
    "print '{:<4d}'.format(42)"
   ]
  },
  {
   "cell_type": "code",
   "execution_count": 50,
   "metadata": {
    "collapsed": false
   },
   "outputs": [
    {
     "name": "stdout",
     "output_type": "stream",
     "text": [
      "003.14\n",
      "003.14\n"
     ]
    }
   ],
   "source": [
    "print '%06.2f' % (3.141592653589793,)\n",
    "print '{:06.2f}'.format(3.141592653589793,)"
   ]
  },
  {
   "cell_type": "markdown",
   "metadata": {},
   "source": [
    "**Named placeholders**"
   ]
  },
  {
   "cell_type": "code",
   "execution_count": 51,
   "metadata": {
    "collapsed": false
   },
   "outputs": [
    {
     "name": "stdout",
     "output_type": "stream",
     "text": [
      "Hodor! Hodor!\n",
      "Hodor! Hodor!\n"
     ]
    }
   ],
   "source": [
    "data = {'first': 'Hodor!', 'second': 'Hodor!'}\n",
    "print \"%(first)s %(second)s\" % data\n",
    "print \"{first} {second}\".format(**data)"
   ]
  },
  {
   "cell_type": "code",
   "execution_count": 52,
   "metadata": {
    "collapsed": false
   },
   "outputs": [
    {
     "name": "stdout",
     "output_type": "stream",
     "text": [
      "Hodor! Hodor!\n"
     ]
    }
   ],
   "source": [
    "print \"{first} {second}\".format(first='Hodor!', second='Hodor!')"
   ]
  },
  {
   "cell_type": "markdown",
   "metadata": {},
   "source": [
    "**Datetime**"
   ]
  },
  {
   "cell_type": "code",
   "execution_count": 53,
   "metadata": {
    "collapsed": true
   },
   "outputs": [],
   "source": [
    "from datetime import datetime"
   ]
  },
  {
   "cell_type": "code",
   "execution_count": 54,
   "metadata": {
    "collapsed": false
   },
   "outputs": [
    {
     "name": "stdout",
     "output_type": "stream",
     "text": [
      "2017-01-01 01:01\n"
     ]
    }
   ],
   "source": [
    "print \"{:%Y-%m-%d %H:%M}\".format(datetime(2017, 1, 1, 1, 1))"
   ]
  },
  {
   "cell_type": "code",
   "execution_count": 99,
   "metadata": {
    "collapsed": false
   },
   "outputs": [],
   "source": [
    "d = datetime(2017, 1, 1, 1, 1)"
   ]
  },
  {
   "cell_type": "markdown",
   "metadata": {},
   "source": [
    "#### 3.3 Filenames and paths\n",
    "\n",
    "Files are organized into directories (also called “folders”). Every running program has a \"current directory\"."
   ]
  },
  {
   "cell_type": "code",
   "execution_count": 55,
   "metadata": {
    "collapsed": true
   },
   "outputs": [],
   "source": [
    "import os # os stands for \"operating system\""
   ]
  },
  {
   "cell_type": "code",
   "execution_count": 56,
   "metadata": {
    "collapsed": true
   },
   "outputs": [],
   "source": [
    "cwd = os.getcwd() # Return a string representing the current working directory"
   ]
  },
  {
   "cell_type": "code",
   "execution_count": 57,
   "metadata": {
    "collapsed": false
   },
   "outputs": [
    {
     "name": "stdout",
     "output_type": "stream",
     "text": [
      "/Users/bowenzhi\n"
     ]
    }
   ],
   "source": [
    "print cwd"
   ]
  },
  {
   "cell_type": "markdown",
   "metadata": {},
   "source": [
    "A string like cwd that identifies a file is called a **path**. A **relative path** starts from the current directory; an **absolute path** starts from the topmost directory in the file system."
   ]
  },
  {
   "cell_type": "code",
   "execution_count": 58,
   "metadata": {
    "collapsed": false
   },
   "outputs": [
    {
     "data": {
      "text/plain": [
       "'/Users/bowenzhi/output1.txt'"
      ]
     },
     "execution_count": 58,
     "metadata": {},
     "output_type": "execute_result"
    }
   ],
   "source": [
    "os.path.abspath('output1.txt')"
   ]
  },
  {
   "cell_type": "code",
   "execution_count": 59,
   "metadata": {
    "collapsed": false
   },
   "outputs": [
    {
     "data": {
      "text/plain": [
       "'output1.txt'"
      ]
     },
     "execution_count": 59,
     "metadata": {},
     "output_type": "execute_result"
    }
   ],
   "source": [
    "os.path.relpath('output1.txt')"
   ]
  },
  {
   "cell_type": "code",
   "execution_count": 60,
   "metadata": {
    "collapsed": false
   },
   "outputs": [
    {
     "data": {
      "text/plain": [
       "True"
      ]
     },
     "execution_count": 60,
     "metadata": {},
     "output_type": "execute_result"
    }
   ],
   "source": [
    "os.path.exists('output1.txt') # checks whether a file or directory exists:"
   ]
  },
  {
   "cell_type": "code",
   "execution_count": 61,
   "metadata": {
    "collapsed": false
   },
   "outputs": [
    {
     "data": {
      "text/plain": [
       "False"
      ]
     },
     "execution_count": 61,
     "metadata": {},
     "output_type": "execute_result"
    }
   ],
   "source": [
    "os.path.exists('output2.txt')"
   ]
  },
  {
   "cell_type": "code",
   "execution_count": 62,
   "metadata": {
    "collapsed": false
   },
   "outputs": [
    {
     "data": {
      "text/plain": [
       "False"
      ]
     },
     "execution_count": 62,
     "metadata": {},
     "output_type": "execute_result"
    }
   ],
   "source": [
    "os.path.isdir('output1.txt') # checks whether it’s a directory"
   ]
  },
  {
   "cell_type": "code",
   "execution_count": 63,
   "metadata": {
    "collapsed": false
   },
   "outputs": [
    {
     "data": {
      "text/plain": [
       "True"
      ]
     },
     "execution_count": 63,
     "metadata": {},
     "output_type": "execute_result"
    }
   ],
   "source": [
    "os.path.isdir('train')"
   ]
  },
  {
   "cell_type": "markdown",
   "metadata": {},
   "source": [
    "\"walks\" through a directory"
   ]
  },
  {
   "cell_type": "code",
   "execution_count": 64,
   "metadata": {
    "collapsed": true
   },
   "outputs": [],
   "source": [
    "def walk(dirname):\n",
    "    for name in os.listdir(dirname):\n",
    "        path = os.path.join(dirname, name)\n",
    "        if os.path.isfile(path):\n",
    "            print path\n",
    "        else:\n",
    "            walk(path)"
   ]
  },
  {
   "cell_type": "code",
   "execution_count": 65,
   "metadata": {
    "collapsed": false
   },
   "outputs": [
    {
     "data": {
      "text/plain": [
       "['.DS_Store', 'folder1', 'folder2']"
      ]
     },
     "execution_count": 65,
     "metadata": {},
     "output_type": "execute_result"
    }
   ],
   "source": [
    "os.listdir('demo')"
   ]
  },
  {
   "cell_type": "code",
   "execution_count": 66,
   "metadata": {
    "collapsed": false,
    "scrolled": true
   },
   "outputs": [
    {
     "name": "stdout",
     "output_type": "stream",
     "text": [
      "demo/.DS_Store\n",
      "demo/folder1/.DS_Store\n",
      "demo/folder1/f1-1/output1.txt\n",
      "demo/folder1/output1.txt\n",
      "demo/folder2/output1.txt\n"
     ]
    }
   ],
   "source": [
    "walk('demo')"
   ]
  },
  {
   "cell_type": "code",
   "execution_count": 67,
   "metadata": {
    "collapsed": true
   },
   "outputs": [],
   "source": [
    "def walk2(dirname):\n",
    "    \"\"\"Prints the names of all files in dirname and its subdirectories.\n",
    "\n",
    "    dirname: string name of directory\n",
    "    \"\"\"\n",
    "    for root, dirs, files in os.walk(dirname):\n",
    "        for filename in files:\n",
    "            print os.path.join(root, filename)"
   ]
  },
  {
   "cell_type": "code",
   "execution_count": 68,
   "metadata": {
    "collapsed": false
   },
   "outputs": [
    {
     "name": "stdout",
     "output_type": "stream",
     "text": [
      "demo/.DS_Store\n",
      "demo/folder1/.DS_Store\n",
      "demo/folder1/output1.txt\n",
      "demo/folder1/f1-1/output1.txt\n",
      "demo/folder2/output1.txt\n"
     ]
    }
   ],
   "source": [
    "walk2('demo')"
   ]
  },
  {
   "cell_type": "markdown",
   "metadata": {},
   "source": [
    "#### 3.4 Catching exceptions"
   ]
  },
  {
   "cell_type": "code",
   "execution_count": 70,
   "metadata": {
    "collapsed": false
   },
   "outputs": [
    {
     "ename": "IOError",
     "evalue": "[Errno 2] No such file or directory: 'bad_file'",
     "output_type": "error",
     "traceback": [
      "\u001b[0;31m---------------------------------------------------------------------------\u001b[0m",
      "\u001b[0;31mIOError\u001b[0m                                   Traceback (most recent call last)",
      "\u001b[0;32m<ipython-input-70-ec31467eed9f>\u001b[0m in \u001b[0;36m<module>\u001b[0;34m()\u001b[0m\n\u001b[0;32m----> 1\u001b[0;31m \u001b[0mfin\u001b[0m \u001b[0;34m=\u001b[0m \u001b[0mopen\u001b[0m\u001b[0;34m(\u001b[0m\u001b[0;34m'bad_file'\u001b[0m\u001b[0;34m)\u001b[0m\u001b[0;34m\u001b[0m\u001b[0m\n\u001b[0m",
      "\u001b[0;31mIOError\u001b[0m: [Errno 2] No such file or directory: 'bad_file'"
     ]
    }
   ],
   "source": [
    "fin = open('bad_file')"
   ]
  },
  {
   "cell_type": "code",
   "execution_count": 71,
   "metadata": {
    "collapsed": false
   },
   "outputs": [
    {
     "ename": "IOError",
     "evalue": "[Errno 13] Permission denied: '/etc/passwd'",
     "output_type": "error",
     "traceback": [
      "\u001b[0;31m---------------------------------------------------------------------------\u001b[0m",
      "\u001b[0;31mIOError\u001b[0m                                   Traceback (most recent call last)",
      "\u001b[0;32m<ipython-input-71-33d8b9c6eb92>\u001b[0m in \u001b[0;36m<module>\u001b[0;34m()\u001b[0m\n\u001b[0;32m----> 1\u001b[0;31m \u001b[0mfout\u001b[0m \u001b[0;34m=\u001b[0m \u001b[0mopen\u001b[0m\u001b[0;34m(\u001b[0m\u001b[0;34m'/etc/passwd'\u001b[0m\u001b[0;34m,\u001b[0m \u001b[0;34m'w'\u001b[0m\u001b[0;34m)\u001b[0m\u001b[0;34m\u001b[0m\u001b[0m\n\u001b[0m",
      "\u001b[0;31mIOError\u001b[0m: [Errno 13] Permission denied: '/etc/passwd'"
     ]
    }
   ],
   "source": [
    "fout = open('/etc/passwd', 'w')"
   ]
  },
  {
   "cell_type": "code",
   "execution_count": 72,
   "metadata": {
    "collapsed": false,
    "scrolled": true
   },
   "outputs": [
    {
     "ename": "IOError",
     "evalue": "[Errno 21] Is a directory: '/home'",
     "output_type": "error",
     "traceback": [
      "\u001b[0;31m---------------------------------------------------------------------------\u001b[0m",
      "\u001b[0;31mIOError\u001b[0m                                   Traceback (most recent call last)",
      "\u001b[0;32m<ipython-input-72-4b132b5cea01>\u001b[0m in \u001b[0;36m<module>\u001b[0;34m()\u001b[0m\n\u001b[0;32m----> 1\u001b[0;31m \u001b[0mfin\u001b[0m \u001b[0;34m=\u001b[0m \u001b[0mopen\u001b[0m\u001b[0;34m(\u001b[0m\u001b[0;34m'/home'\u001b[0m\u001b[0;34m)\u001b[0m\u001b[0;34m\u001b[0m\u001b[0m\n\u001b[0m",
      "\u001b[0;31mIOError\u001b[0m: [Errno 21] Is a directory: '/home'"
     ]
    }
   ],
   "source": [
    "fin = open('/home')"
   ]
  },
  {
   "cell_type": "code",
   "execution_count": 73,
   "metadata": {
    "collapsed": false
   },
   "outputs": [
    {
     "name": "stdout",
     "output_type": "stream",
     "text": [
      "Something went wrong\n"
     ]
    }
   ],
   "source": [
    "try:\n",
    "    fin = open('bad_file')\n",
    "    for line in fin:\n",
    "        print line\n",
    "    fin.close()\n",
    "except:\n",
    "    print 'Something went wrong'"
   ]
  },
  {
   "cell_type": "markdown",
   "metadata": {},
   "source": [
    "### Summary\n",
    "\n",
    "1. Master Theorem\n",
    "2. Quick Sort\n",
    "\n",
    "2. Files"
   ]
  },
  {
   "cell_type": "code",
   "execution_count": null,
   "metadata": {
    "collapsed": true
   },
   "outputs": [],
   "source": []
  },
  {
   "cell_type": "markdown",
   "metadata": {},
   "source": [
    "### Project: Blackjack\n",
    "\n",
    "\n",
    "\n",
    "The object of blackjack is to beat the dealer. To beat the dealer the player must first not bust (go over 21) and second either outscore the dealer or have the dealer bust. Here are the full rules of the game.\n",
    "\n",
    "1. Blackjack may be played with one to eight decks of 52-card decks.\n",
    "2. Aces may be counted as 1 or 11 points, 2 to 9 according to pip value, and tens and face cards count as ten points.\n",
    "3. The value of a hand is the sum of the point values of the individual cards. Except, a \"blackjack\" is the highest hand, consisting of an ace and any 10-point card, and it outranks all other 21-point hands.\n",
    "4. After the players have bet, the dealer will give two cards to each player and two cards to himself. One of the dealer cards is dealt face up. The facedown card is called the \"hole card.\"\n",
    "\n",
    "5. If the dealer has a ten or an ace showing (after offering insurance with an ace showing), then he will peek at his facedown card to see if he has a blackjack. If he does, then he will turn it over immediately.\n",
    "6. If the dealer does have a blackjack, then all wagers (except insurance) will lose, unless the player also has a blackjack, which will result in a push. The dealer will resolve insurance wagers at this time.\n",
    "7. Play begins with the player to the dealer's left. The following are the choices available to the player: \n",
    "        Stand: Player stands pat with his cards.\n",
    "        \n",
    "        Hit: Player draws another card (and more if he wishes). If this card causes the player's total points to exceed 21 (known as \"breaking\" or \"busting\") then he loses.\n",
    "        \n",
    "        Double: Player doubles his bet and gets one, and only one, more card.\n",
    "        \n",
    "        Split: If the player has a pair, or any two 10-point cards, then he may double his bet and separate his cards into two individual hands. The dealer will automatically give each card a second card. Then, the player may hit, stand, or double normally. \n",
    "        \n",
    "        Surrender: The player forfeits half his wager, keeping the other half, and does not play out his hand. This option is only available on the initial two cards, and depending on casino rules, sometimes it is not allowed at all.\n",
    "9. After each player has had his turn, the dealer will turn over his hole card. If the dealer has 16 or less, then he will draw another card. A special situation is when the dealer has an ace and any number of cards totaling six points (known as a \"soft 17\"). At some tables, the dealer will also hit a soft 17.\n",
    "10. If the dealer goes over 21 points, then any player who didn't already bust will win.\n",
    "11. If the dealer does not bust, then the higher point total between the player and dealer will win.\n",
    "12. Winning wagers pay even money, except a winning player blackjack usually pays 3 to 2. "
   ]
  },
  {
   "cell_type": "markdown",
   "metadata": {
    "collapsed": true
   },
   "source": []
  },
  {
   "cell_type": "markdown",
   "metadata": {
    "collapsed": true
   },
   "source": [
    "## Assignments\n",
    "\n",
    "1. Use merge sort to sort the intervals by the first number of each interval.\n",
    "\n",
    "        For example, Given [[2,6], [1,3], [8,10], [15,18]],\n",
    "    \n",
    "        return [[1,3], [2,6], [8,10], [15,18]].\n",
    "    \n",
    "2. Reads a source file and writes the destination file. \n",
    "    In each line, replaces pattern with replace. For example, replace all of 'is' with 'IS'.\n",
    "    \n",
    "   When typing \"python XXXX.py sourcefilename\", it will read sourcefilename and writes the destination file.\n",
    "   \n",
    "   Hint: You could use **sys** module and **sys.argv**\n"
   ]
  },
  {
   "cell_type": "code",
   "execution_count": null,
   "metadata": {
    "collapsed": true
   },
   "outputs": [],
   "source": []
  },
  {
   "cell_type": "code",
   "execution_count": null,
   "metadata": {
    "collapsed": true
   },
   "outputs": [],
   "source": []
  },
  {
   "cell_type": "code",
   "execution_count": null,
   "metadata": {
    "collapsed": true
   },
   "outputs": [],
   "source": []
  }
 ],
 "metadata": {
  "anaconda-cloud": {},
  "kernelspec": {
   "display_name": "Python 2",
   "language": "python",
   "name": "python2"
  },
  "language_info": {
   "codemirror_mode": {
    "name": "ipython",
    "version": 2
   },
   "file_extension": ".py",
   "mimetype": "text/x-python",
   "name": "python",
   "nbconvert_exporter": "python",
   "pygments_lexer": "ipython2",
   "version": "2.7.12"
  }
 },
 "nbformat": 4,
 "nbformat_minor": 0
}
