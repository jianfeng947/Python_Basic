{
 "cells": [
  {
   "cell_type": "markdown",
   "metadata": {},
   "source": [
    "## Assignments:\n",
    "\n",
    "\n",
    "1. Write a module called matrix. Matrix has the following methods:\n",
    "        \n",
    "        zeros(shape), return a m * n dimension zero matrix\n",
    "        \n",
    "        ones(shape), return a m * n dimension matrix of ones\n",
    "        \n",
    "        multiply(m1, m2), return the multiplication of two matrixes\n",
    "        \n",
    "        transpose(m), return the transpose of a matrix\n",
    "        \n",
    "2. Two sum\n",
    "\n",
    "    Given an array of integers, return indices of the two numbers such that they add up to a specific target.\n",
    "\n",
    "    You may assume that each input would have exactly one solution, and you may not use the same element twice.\n",
    "\n",
    "        Sample Input:\n",
    "        nums = [2, 7, 11, 15], target = 9,\n",
    "\n",
    "        Sample output: [0, 1]. (Because nums[0] + nums[1] = 2 + 7 = 9)\n",
    "\n"
   ]
  },
  {
   "cell_type": "code",
   "execution_count": 9,
   "metadata": {
    "collapsed": true
   },
   "outputs": [],
   "source": [
    "def twoSum(nums, target):\n",
    "    \n",
    "    if len(nums) == 0:\n",
    "        return []\n",
    "    res = []\n",
    "    \n",
    "    for i in range(len(nums) - 1):\n",
    "        for j in range(i + 1, len(nums)):\n",
    "            if nums[i] + nums[j] == target:\n",
    "                res.append(i)\n",
    "                res.append(j)\n",
    "    return res"
   ]
  },
  {
   "cell_type": "code",
   "execution_count": 10,
   "metadata": {
    "collapsed": false
   },
   "outputs": [
    {
     "name": "stdout",
     "output_type": "stream",
     "text": [
      "[0, 1]\n",
      "[1, 2]\n"
     ]
    }
   ],
   "source": [
    "# test 1\n",
    "nums = [2, 7, 11, 15]\n",
    "target = 9\n",
    "print twoSum(nums, target)\n",
    "\n",
    "# test 2\n",
    "nums = [22, 7, 101, 15, 3, 5]\n",
    "target = 108\n",
    "print twoSum(nums, target)"
   ]
  },
  {
   "cell_type": "code",
   "execution_count": 7,
   "metadata": {
    "collapsed": true
   },
   "outputs": [],
   "source": [
    "def twoSum1(nums, target):\n",
    "    \n",
    "    if len(nums) == 0:\n",
    "        return []\n",
    "    res = []\n",
    "    dic = {}\n",
    "    for i in range(len(nums)):\n",
    "        if target - nums[i] in dic:\n",
    "            res.append(i)\n",
    "            res.append(dic[target - nums[i]])\n",
    "        else:\n",
    "            dic[nums[i]] = i\n",
    "    return res"
   ]
  },
  {
   "cell_type": "code",
   "execution_count": 8,
   "metadata": {
    "collapsed": false
   },
   "outputs": [
    {
     "name": "stdout",
     "output_type": "stream",
     "text": [
      "[1, 0]\n",
      "[2, 1]\n"
     ]
    }
   ],
   "source": [
    "# test 1\n",
    "nums = [2, 7, 11, 15]\n",
    "target = 9\n",
    "print twoSum1(nums, target)\n",
    "\n",
    "# test 2\n",
    "nums = [22, 7, 101, 15, 3, 5]\n",
    "target = 108\n",
    "print twoSum1(nums, target)"
   ]
  },
  {
   "cell_type": "code",
   "execution_count": null,
   "metadata": {
    "collapsed": true
   },
   "outputs": [],
   "source": []
  }
 ],
 "metadata": {
  "kernelspec": {
   "display_name": "Python 2",
   "language": "python",
   "name": "python2"
  },
  "language_info": {
   "codemirror_mode": {
    "name": "ipython",
    "version": 2
   },
   "file_extension": ".py",
   "mimetype": "text/x-python",
   "name": "python",
   "nbconvert_exporter": "python",
   "pygments_lexer": "ipython2",
   "version": "2.7.12"
  }
 },
 "nbformat": 4,
 "nbformat_minor": 0
}
