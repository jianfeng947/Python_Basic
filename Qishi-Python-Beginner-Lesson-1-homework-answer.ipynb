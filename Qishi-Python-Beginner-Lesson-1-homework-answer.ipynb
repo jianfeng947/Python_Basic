{
 "cells": [
  {
   "cell_type": "markdown",
   "metadata": {},
   "source": [
    "## Assignments:\n",
    "\n",
    "\n",
    "\n",
    "Q1. Read two integers from Keyboard and print two lines. The first line should contain integer division,  // . The second line should contain float division,  / .\n",
    "\n",
    "        Sample Input:\n",
    "        4\n",
    "        3\n",
    "        \n",
    "        sample Output\n",
    "        1\n",
    "        1.3333333333333333\n"
   ]
  },
  {
   "cell_type": "markdown",
   "metadata": {},
   "source": [
    "Solution 1"
   ]
  },
  {
   "cell_type": "code",
   "execution_count": 26,
   "metadata": {
    "collapsed": false
   },
   "outputs": [
    {
     "name": "stdout",
     "output_type": "stream",
     "text": [
      "Please enter the first number interger:3\n",
      "Please enter the second number interger:4\n",
      "0\n",
      "0.75\n"
     ]
    }
   ],
   "source": [
    "a = int(raw_input(\"Please enter the first number interger:\"))\n",
    "b = int(raw_input(\"Please enter the second number interger:\"))\n",
    "\n",
    "print a // b\n",
    "print a * 1.0 / b"
   ]
  },
  {
   "cell_type": "markdown",
   "metadata": {},
   "source": [
    "Solution 2"
   ]
  },
  {
   "cell_type": "code",
   "execution_count": 4,
   "metadata": {
    "collapsed": false
   },
   "outputs": [
    {
     "name": "stdout",
     "output_type": "stream",
     "text": [
      "Please enter the first number interger:10\n",
      "Please enter the second number interger:11\n",
      "0\n",
      "0.909090909091\n"
     ]
    }
   ],
   "source": [
    "from __future__ import division\n",
    "a = int(raw_input(\"Please enter the first number interger:\"))\n",
    "b = int(raw_input(\"Please enter the second number interger:\"))\n",
    "\n",
    "print a // b\n",
    "print a / b"
   ]
  },
  {
   "cell_type": "markdown",
   "metadata": {},
   "source": [
    "Q2. Find the longest common prefix string amongst an array of strings.\n",
    "\n",
    "        Sample Input1: [\"\", \"Hello\", \" Hello!\"]\n",
    "\n",
    "        Output1: \"\"\n",
    "\n",
    "        Sample Input2: [\"He\", \"Hello!\", \"Hello Again!\"]\n",
    "\n",
    "        Output2: \"He\"        \n"
   ]
  },
  {
   "cell_type": "markdown",
   "metadata": {},
   "source": [
    "Solution 1 (Horizontal scanning)\n",
    "\n",
    "Intuition: LCP(S1, S2, ...., Sn) = LCP(LCP(LCP(S1, S2), S3), ... Sn)\n",
    "\n",
    "https://leetcode.com/problems/longest-common-prefix/solution/"
   ]
  },
  {
   "cell_type": "code",
   "execution_count": 5,
   "metadata": {
    "collapsed": true
   },
   "outputs": [],
   "source": [
    "def longestCommonPrefix(self, strs):\n",
    "    \"\"\"\n",
    "    :type strs: List[str]\n",
    "    :rtype: str\n",
    "    \"\"\"   \n",
    "    c = strs[0]\n",
    "    for i in range(1, len(strs)):\n",
    "        j = 0\n",
    "        while j < len(c):\n",
    "\n",
    "            if j == len(strs[i]) or strs[i][j] != c[j]:\n",
    "                c = c[:j]\n",
    "            else:\n",
    "                j += 1\n",
    "    return c"
   ]
  },
  {
   "cell_type": "markdown",
   "metadata": {},
   "source": [
    "Solution 2 (Vertical scanning)\n",
    "\n",
    "['abcd', 'abc', '']\n",
    "\n",
    "'abcd'\n",
    "\n",
    "'abc'\n",
    "\n",
    "''"
   ]
  },
  {
   "cell_type": "code",
   "execution_count": 7,
   "metadata": {
    "collapsed": true
   },
   "outputs": [],
   "source": [
    "def longestCommonPrefix(self, strs):\n",
    "    \"\"\"\n",
    "    :type strs: List[str]\n",
    "    :rtype: str\n",
    "    \"\"\"\n",
    "        \n",
    "    if strs == []:\n",
    "        return \"\"\n",
    "        \n",
    "    c = strs[0]\n",
    "    for j in range(len(c)):\n",
    "        for i in range(1, len(strs)):\n",
    "            if j == len(strs[i]) or strs[i][j] != c[j]:\n",
    "                c = c[:j]\n",
    "                return c\n",
    "    return c"
   ]
  },
  {
   "cell_type": "markdown",
   "metadata": {},
   "source": [
    "Q3. Palindrome Number. Determine whether an integer is a palindrome. \n",
    "\n",
    "        Sample Input1: 121\n",
    "        \n",
    "        Output1: True\n",
    "        \n",
    "        Sample Input2: 11\n",
    "        \n",
    "        Output1: True\n",
    "        \n",
    "        Sample Input3: -111\n",
    "        \n",
    "        Output3: False\n",
    "\n"
   ]
  },
  {
   "cell_type": "code",
   "execution_count": null,
   "metadata": {
    "collapsed": true
   },
   "outputs": [],
   "source": [
    "12321"
   ]
  },
  {
   "cell_type": "code",
   "execution_count": 27,
   "metadata": {
    "collapsed": true
   },
   "outputs": [],
   "source": [
    "def isPalindrome(x):\n",
    "    if x < 0:\n",
    "        return False\n",
    "    count = 1\n",
    "    while x / (count * 10):\n",
    "        count *= 10\n",
    "        \n",
    "    while x > 0:\n",
    "        if x / count != x % 10:\n",
    "            return  False\n",
    "        x %= count\n",
    "        x /= 10\n",
    "        count /= 100\n",
    "    return True"
   ]
  },
  {
   "cell_type": "code",
   "execution_count": 28,
   "metadata": {
    "collapsed": true
   },
   "outputs": [],
   "source": [
    "x = 121"
   ]
  },
  {
   "cell_type": "code",
   "execution_count": 29,
   "metadata": {
    "collapsed": true
   },
   "outputs": [],
   "source": [
    "def isPalindrome(self, x):\n",
    "    \"\"\"\n",
    "    :type x: int\n",
    "    :rtype: bool\n",
    "    \"\"\"\n",
    "    if x < 0 or (x % 10 == 0 and x != 0):\n",
    "        return False\n",
    "\n",
    "    rev = 0\n",
    "    tmp = x   \n",
    "    while x > 0:\n",
    "        rev = rev * 10 + x % 10\n",
    "        x /= 10\n",
    "    return tmp == rev "
   ]
  },
  {
   "cell_type": "markdown",
   "metadata": {},
   "source": [
    "Q4. What is the difference between 'is' and '=='?"
   ]
  },
  {
   "cell_type": "markdown",
   "metadata": {},
   "source": [
    "The operators is and is not test for object identity: x is y is true if and only if x and y are the same object.\n"
   ]
  },
  {
   "cell_type": "markdown",
   "metadata": {},
   "source": [
    "**is** is used for identity comparison, while **==** is used for equality comparison.\n"
   ]
  },
  {
   "cell_type": "code",
   "execution_count": 17,
   "metadata": {
    "collapsed": true
   },
   "outputs": [],
   "source": [
    "s ='python'\n",
    "t = s"
   ]
  },
  {
   "cell_type": "code",
   "execution_count": 25,
   "metadata": {
    "collapsed": false
   },
   "outputs": [
    {
     "data": {
      "text/plain": [
       "(4297784176, 4297784176)"
      ]
     },
     "execution_count": 25,
     "metadata": {},
     "output_type": "execute_result"
    }
   ],
   "source": [
    "# id()\n",
    "# CPython implementation detail: This is the address of the object in memory.\n",
    "id(s), id(t)"
   ]
  },
  {
   "cell_type": "code",
   "execution_count": 24,
   "metadata": {
    "collapsed": true
   },
   "outputs": [],
   "source": [
    "l = [1, 2, 3]\n",
    "\n",
    "lm = [1, 2, 3]"
   ]
  },
  {
   "cell_type": "code",
   "execution_count": 20,
   "metadata": {
    "collapsed": false
   },
   "outputs": [
    {
     "ename": "AssertionError",
     "evalue": "",
     "output_type": "error",
     "traceback": [
      "\u001b[0;31m---------------------------------------------------------------------------\u001b[0m",
      "\u001b[0;31mAssertionError\u001b[0m                            Traceback (most recent call last)",
      "\u001b[0;32m<ipython-input-20-638993285c77>\u001b[0m in \u001b[0;36m<module>\u001b[0;34m()\u001b[0m\n\u001b[0;32m----> 1\u001b[0;31m \u001b[0;32massert\u001b[0m \u001b[0ml\u001b[0m \u001b[0;34m==\u001b[0m \u001b[0mlm\u001b[0m \u001b[0;32mand\u001b[0m \u001b[0ml\u001b[0m \u001b[0;32mis\u001b[0m \u001b[0mlm\u001b[0m\u001b[0;34m\u001b[0m\u001b[0m\n\u001b[0m",
      "\u001b[0;31mAssertionError\u001b[0m: "
     ]
    }
   ],
   "source": [
    "assert l == lm and l is lm"
   ]
  },
  {
   "cell_type": "code",
   "execution_count": 21,
   "metadata": {
    "collapsed": true
   },
   "outputs": [],
   "source": [
    "ln = l"
   ]
  },
  {
   "cell_type": "code",
   "execution_count": 23,
   "metadata": {
    "collapsed": false
   },
   "outputs": [],
   "source": [
    "assert l == ln and l is ln"
   ]
  }
 ],
 "metadata": {
  "kernelspec": {
   "display_name": "Python 2",
   "language": "python",
   "name": "python2"
  },
  "language_info": {
   "codemirror_mode": {
    "name": "ipython",
    "version": 2
   },
   "file_extension": ".py",
   "mimetype": "text/x-python",
   "name": "python",
   "nbconvert_exporter": "python",
   "pygments_lexer": "ipython2",
   "version": "2.7.12"
  }
 },
 "nbformat": 4,
 "nbformat_minor": 0
}
