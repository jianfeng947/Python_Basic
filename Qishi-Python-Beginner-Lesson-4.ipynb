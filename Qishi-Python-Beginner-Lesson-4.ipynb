{
 "cells": [
  {
   "cell_type": "markdown",
   "metadata": {},
   "source": [
    "## Lesson 4. Algorithm Introduction\n",
    "\n",
    "\n",
    "1. Iteration and Recursion\n",
    "\n",
    "2. Time Complexity\n",
    "\n",
    "3. Binary Search\n",
    "\n",
    "4. Sorting Algorithm\n",
    "\n",
    "\n",
    "\n"
   ]
  },
  {
   "cell_type": "markdown",
   "metadata": {},
   "source": [
    "### Algorithm\n",
    "\n",
    "An algorithm is an effective method that can be expressed within a finite amount of space and time and in a well-defined formal language for calculating a function.(from [wiki](https://en.wikipedia.org/wiki/Algorithm#cite_note-1]))"
   ]
  },
  {
   "cell_type": "markdown",
   "metadata": {},
   "source": [
    "### 1. Iteration and Recursion\n",
    "\n"
   ]
  },
  {
   "cell_type": "markdown",
   "metadata": {},
   "source": [
    "#### 1.1 Iteration\n",
    "\n"
   ]
  },
  {
   "cell_type": "markdown",
   "metadata": {},
   "source": [
    "The **while** statement"
   ]
  },
  {
   "cell_type": "code",
   "execution_count": 1,
   "metadata": {
    "collapsed": false
   },
   "outputs": [
    {
     "name": "stdout",
     "output_type": "stream",
     "text": [
      "1024\n"
     ]
    }
   ],
   "source": [
    "# calculate a^n\n",
    "a = 2\n",
    "n = 10\n",
    "result = 1\n",
    "while n > 0:\n",
    "    result *= a  # result = result * a\n",
    "    n -= 1\n",
    "print result"
   ]
  },
  {
   "cell_type": "markdown",
   "metadata": {},
   "source": [
    "**break**\n"
   ]
  },
  {
   "cell_type": "code",
   "execution_count": 44,
   "metadata": {
    "collapsed": false
   },
   "outputs": [
    {
     "name": "stdout",
     "output_type": "stream",
     "text": [
      ">Hello!\n",
      "Hello!\n",
      ">Done\n",
      "Done!\n"
     ]
    }
   ],
   "source": [
    "while True:\n",
    "    line = raw_input(\">\")\n",
    "    if line == 'Done':\n",
    "        break\n",
    "    print line\n",
    "print \"Done!\""
   ]
  },
  {
   "cell_type": "markdown",
   "metadata": {},
   "source": [
    "**continue**"
   ]
  },
  {
   "cell_type": "code",
   "execution_count": 45,
   "metadata": {
    "collapsed": false
   },
   "outputs": [
    {
     "name": "stdout",
     "output_type": "stream",
     "text": [
      ">Hello\n",
      "Hello\n",
      "># skip\n",
      ">Done\n",
      "Done!\n"
     ]
    }
   ],
   "source": [
    "while True:\n",
    "    line = raw_input(\">\")\n",
    "    if line == 'Done':\n",
    "        break\n",
    "    elif line[0] == '#':\n",
    "        continue\n",
    "    print line\n",
    "print \"Done!\""
   ]
  },
  {
   "cell_type": "markdown",
   "metadata": {},
   "source": [
    "#### for loops"
   ]
  },
  {
   "cell_type": "code",
   "execution_count": 46,
   "metadata": {
    "collapsed": false
   },
   "outputs": [
    {
     "name": "stdout",
     "output_type": "stream",
     "text": [
      "P\n",
      "y\n",
      "t\n",
      "h\n",
      "o\n",
      "n\n",
      "!\n"
     ]
    }
   ],
   "source": [
    "x = 'Python!'\n",
    "for l in x:\n",
    "    print l"
   ]
  },
  {
   "cell_type": "markdown",
   "metadata": {},
   "source": [
    "#### 1.2 Recursion\n",
    "A function calls itself one or more times in its body\n",
    "\n",
    "* 递归就是fuction里调用自身。\n",
    "* 在使用递增归策略时，必须有一个明确的递归结束条件，称为递归出口。\n",
    "* 递归算法解题通常显得很简洁。\n",
    "* 在递归调用的过程当中系统为每一层的返回点、局部量等开辟了栈来存储。递归次数过多容易造成栈溢出等。"
   ]
  },
  {
   "cell_type": "code",
   "execution_count": 7,
   "metadata": {
    "collapsed": false
   },
   "outputs": [
    {
     "name": "stdout",
     "output_type": "stream",
     "text": [
      "5\n",
      "4\n",
      "3\n",
      "2\n",
      "1\n",
      "Blastoff!\n"
     ]
    }
   ],
   "source": [
    "def countdown(n):\n",
    "    if n <= 0:\n",
    "        print \"Blastoff!\"\n",
    "    else:\n",
    "        print n\n",
    "        countdown(n-1)\n",
    "\n",
    "countdown(5)"
   ]
  },
  {
   "cell_type": "code",
   "execution_count": 48,
   "metadata": {
    "collapsed": true
   },
   "outputs": [],
   "source": [
    "def printfun(test):\n",
    "    if test < 1:\n",
    "        return\n",
    "    else:\n",
    "        print \"test is {}\".format(test)\n",
    "        printfun(test - 1)\n",
    "        print \"test is {}\".format(test)\n",
    "        return"
   ]
  },
  {
   "cell_type": "code",
   "execution_count": 49,
   "metadata": {
    "collapsed": false
   },
   "outputs": [
    {
     "name": "stdout",
     "output_type": "stream",
     "text": [
      "test is 3\n",
      "test is 2\n",
      "test is 1\n",
      "test is 1\n",
      "test is 2\n",
      "test is 3\n"
     ]
    }
   ],
   "source": [
    "printfun(3)"
   ]
  },
  {
   "cell_type": "code",
   "execution_count": 47,
   "metadata": {
    "collapsed": false
   },
   "outputs": [
    {
     "ename": "RuntimeError",
     "evalue": "maximum recursion depth exceeded",
     "output_type": "error",
     "traceback": [
      "\u001b[0;31m---------------------------------------------------------------------------\u001b[0m",
      "\u001b[0;31mRuntimeError\u001b[0m                              Traceback (most recent call last)",
      "\u001b[0;32m<ipython-input-47-881b153e0ead>\u001b[0m in \u001b[0;36m<module>\u001b[0;34m()\u001b[0m\n\u001b[1;32m      3\u001b[0m     \u001b[0;32mreturn\u001b[0m \u001b[0mn\u001b[0m \u001b[0;34m*\u001b[0m \u001b[0mfactorial\u001b[0m\u001b[0;34m(\u001b[0m\u001b[0mn\u001b[0m\u001b[0;34m-\u001b[0m\u001b[0;36m1\u001b[0m\u001b[0;34m)\u001b[0m\u001b[0;34m\u001b[0m\u001b[0m\n\u001b[1;32m      4\u001b[0m \u001b[0;34m\u001b[0m\u001b[0m\n\u001b[0;32m----> 5\u001b[0;31m \u001b[0mfactorial\u001b[0m\u001b[0;34m(\u001b[0m\u001b[0;36m10\u001b[0m\u001b[0;34m)\u001b[0m\u001b[0;34m\u001b[0m\u001b[0m\n\u001b[0m",
      "\u001b[0;32m<ipython-input-47-881b153e0ead>\u001b[0m in \u001b[0;36mfactorial\u001b[0;34m(n)\u001b[0m\n\u001b[1;32m      1\u001b[0m \u001b[0;31m# n! = n * (n - 1) * (n - 2) * .... * 1\u001b[0m\u001b[0;34m\u001b[0m\u001b[0;34m\u001b[0m\u001b[0m\n\u001b[1;32m      2\u001b[0m \u001b[0;32mdef\u001b[0m \u001b[0mfactorial\u001b[0m\u001b[0;34m(\u001b[0m\u001b[0mn\u001b[0m\u001b[0;34m)\u001b[0m\u001b[0;34m:\u001b[0m\u001b[0;34m\u001b[0m\u001b[0m\n\u001b[0;32m----> 3\u001b[0;31m     \u001b[0;32mreturn\u001b[0m \u001b[0mn\u001b[0m \u001b[0;34m*\u001b[0m \u001b[0mfactorial\u001b[0m\u001b[0;34m(\u001b[0m\u001b[0mn\u001b[0m\u001b[0;34m-\u001b[0m\u001b[0;36m1\u001b[0m\u001b[0;34m)\u001b[0m\u001b[0;34m\u001b[0m\u001b[0m\n\u001b[0m\u001b[1;32m      4\u001b[0m \u001b[0;34m\u001b[0m\u001b[0m\n\u001b[1;32m      5\u001b[0m \u001b[0mfactorial\u001b[0m\u001b[0;34m(\u001b[0m\u001b[0;36m10\u001b[0m\u001b[0;34m)\u001b[0m\u001b[0;34m\u001b[0m\u001b[0m\n",
      "... last 1 frames repeated, from the frame below ...\n",
      "\u001b[0;32m<ipython-input-47-881b153e0ead>\u001b[0m in \u001b[0;36mfactorial\u001b[0;34m(n)\u001b[0m\n\u001b[1;32m      1\u001b[0m \u001b[0;31m# n! = n * (n - 1) * (n - 2) * .... * 1\u001b[0m\u001b[0;34m\u001b[0m\u001b[0;34m\u001b[0m\u001b[0m\n\u001b[1;32m      2\u001b[0m \u001b[0;32mdef\u001b[0m \u001b[0mfactorial\u001b[0m\u001b[0;34m(\u001b[0m\u001b[0mn\u001b[0m\u001b[0;34m)\u001b[0m\u001b[0;34m:\u001b[0m\u001b[0;34m\u001b[0m\u001b[0m\n\u001b[0;32m----> 3\u001b[0;31m     \u001b[0;32mreturn\u001b[0m \u001b[0mn\u001b[0m \u001b[0;34m*\u001b[0m \u001b[0mfactorial\u001b[0m\u001b[0;34m(\u001b[0m\u001b[0mn\u001b[0m\u001b[0;34m-\u001b[0m\u001b[0;36m1\u001b[0m\u001b[0;34m)\u001b[0m\u001b[0;34m\u001b[0m\u001b[0m\n\u001b[0m\u001b[1;32m      4\u001b[0m \u001b[0;34m\u001b[0m\u001b[0m\n\u001b[1;32m      5\u001b[0m \u001b[0mfactorial\u001b[0m\u001b[0;34m(\u001b[0m\u001b[0;36m10\u001b[0m\u001b[0;34m)\u001b[0m\u001b[0;34m\u001b[0m\u001b[0m\n",
      "\u001b[0;31mRuntimeError\u001b[0m: maximum recursion depth exceeded"
     ]
    }
   ],
   "source": [
    "# n! = n * (n - 1) * (n - 2) * .... * 1\n",
    "def factorial(n):\n",
    "    return n * factorial(n-1)\n",
    "    \n",
    "factorial(10)"
   ]
  },
  {
   "cell_type": "code",
   "execution_count": 13,
   "metadata": {
    "collapsed": false
   },
   "outputs": [
    {
     "name": "stdout",
     "output_type": "stream",
     "text": [
      "3628800\n",
      "120\n"
     ]
    }
   ],
   "source": [
    "def factorial(n):\n",
    "    if n == 0:\n",
    "        return 1\n",
    "    elif n < 0:\n",
    "        return 'n can not be negative'\n",
    "    else:\n",
    "        return n * factorial(n-1)\n",
    "    \n",
    "print factorial(10)\n",
    "print factorial(5)"
   ]
  },
  {
   "cell_type": "code",
   "execution_count": 15,
   "metadata": {
    "collapsed": false
   },
   "outputs": [
    {
     "name": "stdout",
     "output_type": "stream",
     "text": [
      "factorial has been called with n = 5\n",
      "factorial has been called with n = 4\n",
      "factorial has been called with n = 3\n",
      "factorial has been called with n = 2\n",
      "factorial has been called with n = 1\n",
      "factorial has been called with n = 0\n",
      "('intermediate result for ', 1, ' * factorial(', 0, '): ', 1)\n",
      "('intermediate result for ', 2, ' * factorial(', 1, '): ', 2)\n",
      "('intermediate result for ', 3, ' * factorial(', 2, '): ', 6)\n",
      "('intermediate result for ', 4, ' * factorial(', 3, '): ', 24)\n",
      "('intermediate result for ', 5, ' * factorial(', 4, '): ', 120)\n",
      "120\n"
     ]
    }
   ],
   "source": [
    "def factorial(n):\n",
    "    print(\"factorial has been called with n = \" + str(n))\n",
    "    if n == 0:\n",
    "        return 1\n",
    "    elif n < 0:\n",
    "        return 'n can not be negative'\n",
    "    else:\n",
    "        res = n * factorial(n-1)\n",
    "        print(\"intermediate result for \", n, \" * factorial(\" ,n-1, \"): \",res)\n",
    "        return res\n",
    "    \n",
    "print factorial(5)"
   ]
  },
  {
   "cell_type": "code",
   "execution_count": 50,
   "metadata": {
    "collapsed": true
   },
   "outputs": [],
   "source": [
    "def factorial_iter(n):\n",
    "    if n == 0:\n",
    "        return 1\n",
    "    else:\n",
    "        res = 1\n",
    "        for i in range(1, n + 1):\n",
    "            res *= i\n",
    "        return res"
   ]
  },
  {
   "cell_type": "code",
   "execution_count": 51,
   "metadata": {
    "collapsed": false
   },
   "outputs": [
    {
     "data": {
      "text/plain": [
       "3628800"
      ]
     },
     "execution_count": 51,
     "metadata": {},
     "output_type": "execute_result"
    }
   ],
   "source": [
    "factorial_iter(10)"
   ]
  },
  {
   "cell_type": "markdown",
   "metadata": {},
   "source": [
    "### Question. Climbing Stairs\n",
    "\n",
    "You are climbing a stair case. It takes n steps to reach to the top.\n",
    "\n",
    "Each time you can either climb 1 or 2 steps. In how many distinct ways can you climb to the top?"
   ]
  },
  {
   "cell_type": "code",
   "execution_count": 53,
   "metadata": {
    "collapsed": false
   },
   "outputs": [
    {
     "name": "stdout",
     "output_type": "stream",
     "text": [
      "1\n",
      "2\n",
      "89\n"
     ]
    }
   ],
   "source": [
    "# s(n) = s(n-1) + s(n-2)\n",
    "# Fibonacci Sequence\n",
    "def climb(n):\n",
    "\n",
    "    a, b = 1, 1\n",
    "    for i in range(n):\n",
    "        a, b = b, a + b\n",
    "    return  a\n",
    "\n",
    "print climb(1)\n",
    "print climb(2)\n",
    "print climb(10)"
   ]
  },
  {
   "cell_type": "code",
   "execution_count": 54,
   "metadata": {
    "collapsed": true
   },
   "outputs": [],
   "source": [
    "def climb_1(n):\n",
    "    if n == 1:\n",
    "        return 1\n",
    "    elif n == 2:\n",
    "        return 2\n",
    "    else:\n",
    "        return climb_1(n - 1) + climb_1(n - 2)"
   ]
  },
  {
   "cell_type": "code",
   "execution_count": 55,
   "metadata": {
    "collapsed": false
   },
   "outputs": [
    {
     "name": "stdout",
     "output_type": "stream",
     "text": [
      "1 2 89\n"
     ]
    }
   ],
   "source": [
    "print climb_1(1), climb_1(2), climb(10)"
   ]
  },
  {
   "cell_type": "code",
   "execution_count": 27,
   "metadata": {
    "collapsed": false
   },
   "outputs": [
    {
     "name": "stdout",
     "output_type": "stream",
     "text": [
      "n= 1, Iteration: 0.000006, Recursion:  0.000002, percent:       0.36\n",
      "n= 3, Iteration: 0.000004, Recursion:  0.000005, percent:       1.24\n",
      "n= 5, Iteration: 0.000004, Recursion:  0.000005, percent:       1.24\n",
      "n= 7, Iteration: 0.000064, Recursion:  0.000019, percent:       0.30\n",
      "n= 9, Iteration: 0.000006, Recursion:  0.000038, percent:       6.40\n",
      "n=11, Iteration: 0.000007, Recursion:  0.000093, percent:      13.00\n",
      "n=13, Iteration: 0.000006, Recursion:  0.000244, percent:      40.92\n",
      "n=15, Iteration: 0.000009, Recursion:  0.000645, percent:      71.21\n",
      "n=17, Iteration: 0.000009, Recursion:  0.001768, percent:     195.13\n",
      "n=19, Iteration: 0.000011, Recursion:  0.005535, percent:     504.67\n",
      "n=21, Iteration: 0.000013, Recursion:  0.011751, percent:     896.13\n",
      "n=23, Iteration: 0.000009, Recursion:  0.033038, percent:    3646.61\n",
      "n=25, Iteration: 0.000019, Recursion:  0.065851, percent:    3452.49\n",
      "n=27, Iteration: 0.000009, Recursion:  0.161662, percent:   18325.95\n",
      "n=29, Iteration: 0.000017, Recursion:  0.487628, percent:   28406.39\n",
      "n=31, Iteration: 0.000035, Recursion:  1.238616, percent:   35341.03\n",
      "n=33, Iteration: 0.000022, Recursion:  2.542229, percent:  114654.63\n",
      "n=35, Iteration: 0.000011, Recursion:  8.471385, percent:  772425.30\n",
      "n=37, Iteration: 0.000013, Recursion:  19.267958, percent: 1469375.87\n",
      "n=39, Iteration: 0.000012, Recursion:  45.315831, percent: 3801367.44\n"
     ]
    }
   ],
   "source": [
    "import time\n",
    "\n",
    "for i in range(1, 40, 2):\n",
    "\n",
    "    start_time = time.time()\n",
    "    climb(i)\n",
    "    time1 = time.time() - start_time\n",
    "    \n",
    "    start_time = time.time()\n",
    "    climb_1(i)\n",
    "    time2 = time.time() - start_time\n",
    "    print(\"n=%2d, Iteration: %8.6f, Recursion:  %7.6f, percent: %10.2f\" % (i, time1, time2, time2/time1))"
   ]
  },
  {
   "cell_type": "markdown",
   "metadata": {},
   "source": [
    "WHY?\n",
    "<img src='fibonacci.png'>"
   ]
  },
  {
   "cell_type": "code",
   "execution_count": 56,
   "metadata": {
    "collapsed": false
   },
   "outputs": [
    {
     "name": "stdout",
     "output_type": "stream",
     "text": [
      "1 2 89\n"
     ]
    }
   ],
   "source": [
    "memo = {1:1, 2:2}\n",
    "def climb_2(n):\n",
    "    if not n in memo:\n",
    "        memo[n] = climb_2(n - 1) + climb_2(n - 2)\n",
    "    return memo[n]\n",
    "\n",
    "print climb_2(1), climb_2(2), climb_2(10)"
   ]
  },
  {
   "cell_type": "code",
   "execution_count": 57,
   "metadata": {
    "collapsed": false
   },
   "outputs": [
    {
     "name": "stdout",
     "output_type": "stream",
     "text": [
      "n= 1, Iteration: 0.000003, Recursion:  0.000002, percent:       0.75\n",
      "n= 3, Iteration: 0.000004, Recursion:  0.000001, percent:       0.24\n",
      "n= 5, Iteration: 0.000004, Recursion:  0.000001, percent:       0.24\n",
      "n= 7, Iteration: 0.000006, Recursion:  0.000001, percent:       0.16\n",
      "n= 9, Iteration: 0.000004, Recursion:  0.000001, percent:       0.25\n",
      "n=11, Iteration: 0.000008, Recursion:  0.000002, percent:       0.26\n",
      "n=13, Iteration: 0.000008, Recursion:  0.000005, percent:       0.64\n",
      "n=15, Iteration: 0.000014, Recursion:  0.000010, percent:       0.71\n",
      "n=17, Iteration: 0.000009, Recursion:  0.000007, percent:       0.81\n",
      "n=19, Iteration: 0.000011, Recursion:  0.000005, percent:       0.46\n",
      "n=21, Iteration: 0.000007, Recursion:  0.000005, percent:       0.70\n",
      "n=23, Iteration: 0.000014, Recursion:  0.000007, percent:       0.52\n",
      "n=25, Iteration: 0.000010, Recursion:  0.000004, percent:       0.38\n",
      "n=27, Iteration: 0.000015, Recursion:  0.000004, percent:       0.27\n",
      "n=29, Iteration: 0.000011, Recursion:  0.000004, percent:       0.37\n",
      "n=31, Iteration: 0.000013, Recursion:  0.000004, percent:       0.31\n",
      "n=33, Iteration: 0.000013, Recursion:  0.000004, percent:       0.30\n",
      "n=35, Iteration: 0.000014, Recursion:  0.000054, percent:       3.91\n",
      "n=37, Iteration: 0.000017, Recursion:  0.000006, percent:       0.37\n",
      "n=39, Iteration: 0.000018, Recursion:  0.000007, percent:       0.38\n"
     ]
    }
   ],
   "source": [
    "for i in range(1, 40, 2):\n",
    "\n",
    "    start_time = time.time()\n",
    "    climb(i)\n",
    "    time1 = time.time() - start_time\n",
    "    \n",
    "    start_time = time.time()\n",
    "    climb_2(i)\n",
    "    time2 = time.time() - start_time\n",
    "    print(\"n=%2d, Iteration: %8.6f, Recursion:  %7.6f, percent: %10.2f\" % (i, time1, time2, time2/time1))"
   ]
  },
  {
   "cell_type": "markdown",
   "metadata": {},
   "source": [
    "### 2. Time Complexity\n",
    "\n",
    "In computer science, the time complexity of an algorithm quantifies the amount of time taken by an algorithm to run as a function of the length of the string representing the input.\n",
    "\n",
    "**Big-O notation**\n",
    "\n",
    "If the time required by an algorithm on all inputs of size n is at most $$5n^3 + 3n$$ for any n, the asymptotic time complexity is $$O(n^3)$$."
   ]
  },
  {
   "cell_type": "markdown",
   "metadata": {},
   "source": [
    "#### 2.1 Constant time - O(1)"
   ]
  },
  {
   "cell_type": "code",
   "execution_count": 58,
   "metadata": {
    "collapsed": true
   },
   "outputs": [],
   "source": [
    "def constant(n):\n",
    "    result = n * n\n",
    "    return result"
   ]
  },
  {
   "cell_type": "code",
   "execution_count": 59,
   "metadata": {
    "collapsed": false
   },
   "outputs": [
    {
     "data": {
      "text/plain": [
       "10000"
      ]
     },
     "execution_count": 59,
     "metadata": {},
     "output_type": "execute_result"
    }
   ],
   "source": [
    "constant(100)"
   ]
  },
  {
   "cell_type": "markdown",
   "metadata": {},
   "source": [
    "#### 2.2 Logarithmic time - O(logn)"
   ]
  },
  {
   "cell_type": "code",
   "execution_count": 60,
   "metadata": {
    "collapsed": false
   },
   "outputs": [],
   "source": [
    "def logarithmic(n):\n",
    "    result = 0\n",
    "    while n > 1:\n",
    "        n /= 2\n",
    "        result += 1\n",
    "    return result"
   ]
  },
  {
   "cell_type": "code",
   "execution_count": 61,
   "metadata": {
    "collapsed": false
   },
   "outputs": [
    {
     "data": {
      "text/plain": [
       "6"
      ]
     },
     "execution_count": 61,
     "metadata": {},
     "output_type": "execute_result"
    }
   ],
   "source": [
    "logarithmic(100)"
   ]
  },
  {
   "cell_type": "markdown",
   "metadata": {},
   "source": [
    "#### 2.3 Linear time - O(n)\n"
   ]
  },
  {
   "cell_type": "code",
   "execution_count": 62,
   "metadata": {
    "collapsed": true
   },
   "outputs": [],
   "source": [
    "def linear(n):\n",
    "    A = []\n",
    "    for i in range(n):\n",
    "        A.append(i * i)\n",
    "    return A"
   ]
  },
  {
   "cell_type": "code",
   "execution_count": 63,
   "metadata": {
    "collapsed": false
   },
   "outputs": [
    {
     "data": {
      "text/plain": [
       "[0, 1, 4, 9, 16]"
      ]
     },
     "execution_count": 63,
     "metadata": {},
     "output_type": "execute_result"
    }
   ],
   "source": [
    "linear(5)"
   ]
  },
  {
   "cell_type": "markdown",
   "metadata": {},
   "source": [
    "#### 2.4 Quadratic time - O(n^2)"
   ]
  },
  {
   "cell_type": "code",
   "execution_count": 64,
   "metadata": {
    "collapsed": true
   },
   "outputs": [],
   "source": [
    "def quadratic(n):\n",
    "    result = 0\n",
    "    for i in range(n):\n",
    "        for j in range(i, n):\n",
    "            result += 1\n",
    "    return result"
   ]
  },
  {
   "cell_type": "code",
   "execution_count": 65,
   "metadata": {
    "collapsed": false
   },
   "outputs": [
    {
     "data": {
      "text/plain": [
       "55"
      ]
     },
     "execution_count": 65,
     "metadata": {},
     "output_type": "execute_result"
    }
   ],
   "source": [
    "quadratic(10)"
   ]
  },
  {
   "cell_type": "markdown",
   "metadata": {},
   "source": [
    "#### 2.5 Linear time - O(n + m)"
   ]
  },
  {
   "cell_type": "code",
   "execution_count": 66,
   "metadata": {
    "collapsed": true
   },
   "outputs": [],
   "source": [
    "def linear2(n, m):\n",
    "    result = 0\n",
    "    for i in range(n):\n",
    "        result += 1\n",
    "    for j in range(m):\n",
    "        result += 1\n",
    "    return result"
   ]
  },
  {
   "cell_type": "code",
   "execution_count": 67,
   "metadata": {
    "collapsed": false
   },
   "outputs": [
    {
     "data": {
      "text/plain": [
       "30"
      ]
     },
     "execution_count": 67,
     "metadata": {},
     "output_type": "execute_result"
    }
   ],
   "source": [
    "linear2(10, 20)"
   ]
  },
  {
   "cell_type": "markdown",
   "metadata": {},
   "source": [
    "#### 2.6 O(n^c)"
   ]
  },
  {
   "cell_type": "code",
   "execution_count": 68,
   "metadata": {
    "collapsed": true
   },
   "outputs": [],
   "source": [
    "# O(n^3)\n",
    "def matrix_multiply(m1, m2):\n",
    "    \n",
    "    c = [[0] * len(m2[0]) for i in range(len(m1))]\n",
    "    for i in range(len(m1)):\n",
    "        for j in range(len(m2[0])):\n",
    "            for k in range(len(m1[0])):\n",
    "                c[i][j] += m1[i][k] * m2[k][j]\n",
    "    return c"
   ]
  },
  {
   "cell_type": "code",
   "execution_count": 69,
   "metadata": {
    "collapsed": false
   },
   "outputs": [
    {
     "data": {
      "text/plain": [
       "[[304]]"
      ]
     },
     "execution_count": 69,
     "metadata": {},
     "output_type": "execute_result"
    }
   ],
   "source": [
    "A = [[12, 56]]\n",
    "B = [[2],\n",
    "     [5]]\n",
    "matrix_multiply(A, B)"
   ]
  },
  {
   "cell_type": "markdown",
   "metadata": {},
   "source": [
    "<img src='Big O.png'>"
   ]
  },
  {
   "cell_type": "markdown",
   "metadata": {},
   "source": [
    "### 3. Binary Search\n",
    "\n",
    "#### 3.1 Search a given element x in a sorted list.\n",
    "\n",
    "**Linear search**\n",
    "\n",
    "        Time complexity:O(n). "
   ]
  },
  {
   "cell_type": "code",
   "execution_count": 70,
   "metadata": {
    "collapsed": false
   },
   "outputs": [
    {
     "name": "stdout",
     "output_type": "stream",
     "text": [
      "Element is present at index 3\n"
     ]
    }
   ],
   "source": [
    "def linearSearch(x, arr):\n",
    "    \n",
    "    for i in range(len(arr)):\n",
    "        if arr[i] == x:\n",
    "            return i\n",
    "    return -1\n",
    "\n",
    "# Test array\n",
    "arr = [2, 3, 4, 10, 40]\n",
    "x = 10\n",
    " \n",
    "# Function call\n",
    "result = linearSearch(x, arr)\n",
    " \n",
    "if result != -1:\n",
    "    print \"Element is present at index %d\" % result\n",
    "else:\n",
    "    print \"Element is not present in array\""
   ]
  },
  {
   "cell_type": "markdown",
   "metadata": {},
   "source": [
    "**Binary Search**\n",
    "\n",
    "        Time Complexity: O(logn)\n",
    "\n",
    "Search a sorted array by repeatedly dividing the search interval in half. Begin with an interval covering the whole array. If the value of the search key is less than the item in the middle of the interval, narrow the interval to the lower half. Otherwise narrow it to the upper half. Repeatedly check until the value is found or the interval is empty."
   ]
  },
  {
   "cell_type": "markdown",
   "metadata": {},
   "source": [
    "<img src='binary-search1.png'>"
   ]
  },
  {
   "cell_type": "code",
   "execution_count": 71,
   "metadata": {
    "collapsed": true
   },
   "outputs": [],
   "source": [
    "# Recursion\n",
    "def binarySearch(x, l, r, arr):\n",
    "    \n",
    "    if l <= r:\n",
    "        mid = l + (r - l) / 2\n",
    "#         print mid, arr[mid]\n",
    "        if arr[mid] == x:\n",
    "            return mid\n",
    "        elif arr[mid] > x:\n",
    "            return binarySearch(x, l, mid - 1, arr)\n",
    "        else:\n",
    "            return binarySearch(x, mid + 1, r, arr)\n",
    "    else:\n",
    "        return -1 "
   ]
  },
  {
   "cell_type": "code",
   "execution_count": 73,
   "metadata": {
    "collapsed": false
   },
   "outputs": [
    {
     "data": {
      "text/plain": [
       "2"
      ]
     },
     "execution_count": 73,
     "metadata": {},
     "output_type": "execute_result"
    }
   ],
   "source": [
    "arr = [2, 5, 8, 12, 16, 23, 38, 56, 72, 91]\n",
    "\n",
    "binarySearch(8, 0, len(arr) - 1, arr)"
   ]
  },
  {
   "cell_type": "code",
   "execution_count": 74,
   "metadata": {
    "collapsed": false
   },
   "outputs": [
    {
     "name": "stdout",
     "output_type": "stream",
     "text": [
      "Element is present at index 3\n"
     ]
    }
   ],
   "source": [
    "# Iteration\n",
    "def binarySearch1(x, l, r, arr):\n",
    "    \n",
    "    while l <= r:\n",
    "        mid = l + (r - l) / 2\n",
    "        if arr[mid] == x:\n",
    "            return mid\n",
    "        elif arr[mid] > x:\n",
    "            r = mid - 1\n",
    "        else:\n",
    "            l = mid + 1\n",
    "    return -1\n",
    "\n",
    "arr = [2, 5, 8, 12, 16, 23, 38, 56, 72, 91]\n",
    "x = 12\n",
    "# Function call\n",
    "result = binarySearch1(x, 0, len(arr)-1, arr)\n",
    " \n",
    "if result != -1:\n",
    "    print \"Element is present at index %d\" % result\n",
    "else:\n",
    "    print \"Element is not present in array\""
   ]
  },
  {
   "cell_type": "code",
   "execution_count": 76,
   "metadata": {
    "collapsed": false
   },
   "outputs": [
    {
     "name": "stdout",
     "output_type": "stream",
     "text": [
      "Element is not present in array\n"
     ]
    }
   ],
   "source": [
    "# Function call\n",
    "x = 20\n",
    "result = binarySearch1(x, 0, len(arr)-1, arr)\n",
    " \n",
    "if result != -1:\n",
    "    print \"Element is present at index %d\" % result\n",
    "else:\n",
    "    print \"Element is not present in array\""
   ]
  },
  {
   "cell_type": "markdown",
   "metadata": {},
   "source": [
    "#### 3.2 Square Root of an Integer\n",
    "\n",
    "    1. Given an integer x, find square root of it. If x is not a perfect square, then return floor(√x)"
   ]
  },
  {
   "cell_type": "code",
   "execution_count": 77,
   "metadata": {
    "collapsed": false
   },
   "outputs": [],
   "source": [
    "def Sqrt(x):\n",
    "\n",
    "    if x <= 1:\n",
    "        return x\n",
    "        \n",
    "    l, r = 0, x\n",
    "    ans = 0\n",
    "    while l <= r:\n",
    "        mid = l + (r - l) / 2\n",
    "        if mid * mid == x:\n",
    "            return mid\n",
    "        elif mid * mid < x :\n",
    "            l = mid + 1\n",
    "            ans = mid\n",
    "        else:\n",
    "            r = mid - 1\n",
    "#             ans = mid\n",
    "    return ans"
   ]
  },
  {
   "cell_type": "code",
   "execution_count": 78,
   "metadata": {
    "collapsed": false
   },
   "outputs": [
    {
     "name": "stdout",
     "output_type": "stream",
     "text": [
      "1 1 5 10\n"
     ]
    }
   ],
   "source": [
    "print Sqrt(1), Sqrt(2), Sqrt(30), Sqrt(100)"
   ]
  },
  {
   "cell_type": "code",
   "execution_count": 80,
   "metadata": {
    "collapsed": true
   },
   "outputs": [],
   "source": [
    "import math"
   ]
  },
  {
   "cell_type": "code",
   "execution_count": 81,
   "metadata": {
    "collapsed": false,
    "scrolled": true
   },
   "outputs": [
    {
     "data": {
      "text/plain": [
       "31.622776601683793"
      ]
     },
     "execution_count": 81,
     "metadata": {},
     "output_type": "execute_result"
    }
   ],
   "source": [
    "math.sqrt(1000)"
   ]
  },
  {
   "cell_type": "markdown",
   "metadata": {},
   "source": [
    "    2. Given an integer x, return square root (float) of it. "
   ]
  },
  {
   "cell_type": "code",
   "execution_count": 82,
   "metadata": {
    "collapsed": true
   },
   "outputs": [],
   "source": [
    "# Version 1\n",
    "def sqrt1(x):\n",
    "    sign = None\n",
    "    if x < 0:\n",
    "        x = -x\n",
    "        sign = -1\n",
    "    l, r = 0, x\n",
    "    mid = (l + r) * 0.5\n",
    "    while True:\n",
    "        if mid * mid > x:\n",
    "            r = mid\n",
    "        else:\n",
    "            l = mid\n",
    "        last_mid = mid\n",
    "        mid = (l + r) * 0.5\n",
    "        if abs(mid - last_mid) < 1e-10:\n",
    "            break\n",
    "        \n",
    "    if sign == -1:\n",
    "        return complex(0, mid)\n",
    "    else:\n",
    "        return mid"
   ]
  },
  {
   "cell_type": "code",
   "execution_count": 83,
   "metadata": {
    "collapsed": false
   },
   "outputs": [
    {
     "name": "stdout",
     "output_type": "stream",
     "text": [
      "The squre root of -10 is: 3.16227766023j\n",
      "The squre root of -0.9 is: 0.899999999948j\n",
      "The squre root of -0.1 is: 0.0999999999069j\n",
      "The squre root of 0 is: 0.0\n",
      "The squre root of 0.1 is: 0.0999999999069\n",
      "The squre root of 0.8 is: 0.799999999907\n",
      "The squre root of 1 is: 0.999999999942\n",
      "The squre root of 2 is: 1.41421356233\n",
      "The squre root of 100 is: 9.99999999995\n"
     ]
    }
   ],
   "source": [
    "for i in [-10, -0.9, -0.1, 0, 0.1, 0.8, 1, 2, 100]:\n",
    "    res = sqrt1(i)\n",
    "    print \"The squre root of {0} is: {1}\".format(i, res)"
   ]
  },
  {
   "cell_type": "markdown",
   "metadata": {},
   "source": [
    "The square root of 0.1 is not correct."
   ]
  },
  {
   "cell_type": "code",
   "execution_count": 84,
   "metadata": {
    "collapsed": false
   },
   "outputs": [],
   "source": [
    "# version 2\n",
    "def sqrt1(x):\n",
    "    sign = None\n",
    "    if x < 0:\n",
    "        x = -x\n",
    "        sign = -1\n",
    "    if x < 1:\n",
    "        l, r = 0, 1\n",
    "    else:\n",
    "        l, r = 0, x\n",
    "    mid = (l + r) * 0.5\n",
    "    while True:\n",
    "        if mid * mid > x:\n",
    "            r = mid\n",
    "        else:\n",
    "            l = mid\n",
    "        last_mid = mid\n",
    "        mid = (l + r) * 0.5\n",
    "        if abs(mid - last_mid) < 1e-15:\n",
    "            break\n",
    "        \n",
    "    if sign == -1:\n",
    "        return complex(0, mid)\n",
    "    else:\n",
    "        return mid"
   ]
  },
  {
   "cell_type": "code",
   "execution_count": 85,
   "metadata": {
    "collapsed": false
   },
   "outputs": [
    {
     "name": "stdout",
     "output_type": "stream",
     "text": [
      "The squre root of -10 is: 3.16227766017j\n",
      "The squre root of -0.9 is: 0.948683298051j\n",
      "The squre root of -0.1 is: 0.316227766017j\n",
      "The squre root of 0 is: 8.881784197e-16\n",
      "The squre root of 0.1 is: 0.316227766017\n",
      "The squre root of 0.8 is: 0.894427191\n",
      "The squre root of 1 is: 1.0\n",
      "The squre root of 2 is: 1.41421356237\n",
      "The squre root of 100 is: 10.0\n"
     ]
    }
   ],
   "source": [
    "for i in [-10, -0.9, -0.1, 0, 0.1, 0.8, 1, 2, 100]:\n",
    "    res = sqrt1(i)\n",
    "    print \"The squre root of {0} is: {1}\".format(i, res)"
   ]
  },
  {
   "cell_type": "code",
   "execution_count": 86,
   "metadata": {
    "collapsed": false
   },
   "outputs": [
    {
     "data": {
      "text/plain": [
       "2387249875427142119605677355L"
      ]
     },
     "execution_count": 86,
     "metadata": {},
     "output_type": "execute_result"
    }
   ],
   "source": [
    "10000187284789748347498 + 2387239875239857329857329857"
   ]
  },
  {
   "cell_type": "markdown",
   "metadata": {},
   "source": [
    "###  4. Sorting Algorithm\n",
    "\n",
    "    O(n^2):\n",
    "        Selection Sort\n",
    "        Insertion Sort\n",
    "        Bubble Sort\n",
    "        \n",
    "    O(nlogn):\n",
    "        Merge Sort"
   ]
  },
  {
   "cell_type": "markdown",
   "metadata": {},
   "source": [
    "#### 4.1 Selection Sort"
   ]
  },
  {
   "cell_type": "markdown",
   "metadata": {},
   "source": [
    "The selection sort algorithm sorts an array by repeatedly finding the minimum element (considering ascending order) from unsorted part and putting it at the beginning. \n",
    "\n",
    "Array: 2 1 4 3\n",
    "\n",
    "step 1: find global min 1, swap with 1st number:1 2 4 3\n",
    "\n",
    "step 2: find global min 2 in the rest array, swap with 2nd number: 1 2 4 3\n",
    "\n",
    "step 3: find global min 3 in the rest array, swap with 3rd number: 1 2 3 4\n",
    "\n",
    "step 4: find global min 4 in the rest array, swap with 4th number: 1 2 3 4\n",
    "\n",
    "time complexity: O(n^2)  space complexity: O(1)\n"
   ]
  },
  {
   "cell_type": "code",
   "execution_count": 87,
   "metadata": {
    "collapsed": true
   },
   "outputs": [],
   "source": [
    "def selectionSort(alist):\n",
    "    \n",
    "    if len(alist) == 0:\n",
    "        return alist\n",
    "    \n",
    "    for i in range(len(alist)):\n",
    "        min_idx = i\n",
    "        for j in range(i + 1, len(alist)):\n",
    "            if alist[j] < alist[min_idx]:\n",
    "\n",
    "                min_idx = j\n",
    "        alist[min_idx], alist[i] = alist[i], alist[min_idx]\n",
    "    return alist"
   ]
  },
  {
   "cell_type": "code",
   "execution_count": 88,
   "metadata": {
    "collapsed": false
   },
   "outputs": [
    {
     "name": "stdout",
     "output_type": "stream",
     "text": [
      "[1, 2, 3, 4]\n",
      "[1, 2, 3, 4, 36, 100, 101]\n"
     ]
    }
   ],
   "source": [
    "# test 1\n",
    "array = [2, 1, 4, 3]\n",
    "print selectionSort(array)\n",
    "\n",
    "# test 2\n",
    "array = [2, 1, 4, 3, 100, 36, 101]\n",
    "print selectionSort(array)"
   ]
  },
  {
   "cell_type": "markdown",
   "metadata": {},
   "source": [
    "#### 4.2 insertion sort\n",
    "\n",
    "    依次将每一个数排到正确的位置上。\n",
    "    Array: 2 1 4 3\n",
    "    排单独的2，有序，不用操作，2赋值给第一个数，2 1 4 3。\n",
    "    排1， 2比1大，2往右挪，1赋值给第一个数，1 2 4 3。\n",
    "    排4， 2比1小，不用操作，4赋值给第三个数，1 2 4 3.\n",
    "    排3， 4比3大，4往右挪，2比3小，不用操作，3赋值给第三个数，1 2 3 4."
   ]
  },
  {
   "cell_type": "code",
   "execution_count": 89,
   "metadata": {
    "collapsed": true
   },
   "outputs": [],
   "source": [
    "def insertSort(aList):\n",
    "    if len(aList) == 0:\n",
    "        return alist\n",
    "    \n",
    "    size = len(aList)\n",
    "    for i in range(1, size):\n",
    "        for j in range(i,0,-1):\n",
    "            if aList[j] < aList[j-1]:\n",
    "                aList[j], aList[j-1] = aList[j-1], aList[j]\n",
    "    return aList"
   ]
  },
  {
   "cell_type": "code",
   "execution_count": 90,
   "metadata": {
    "collapsed": false
   },
   "outputs": [
    {
     "name": "stdout",
     "output_type": "stream",
     "text": [
      "[1, 2, 3, 4]\n",
      "[1, 2, 3, 4, 36, 100, 101]\n",
      "[2]\n"
     ]
    }
   ],
   "source": [
    "# test 1\n",
    "array = [2, 1, 4, 3]\n",
    "print insertSort(array)\n",
    "\n",
    "# test 2\n",
    "array = [2, 1, 4, 3, 100, 36, 101]\n",
    "print insertSort(array)\n",
    "\n",
    "# test 3\n",
    "array = [2]\n",
    "print insertSort(array)"
   ]
  },
  {
   "cell_type": "markdown",
   "metadata": {},
   "source": [
    "#### 4.3 bubble sort\n",
    "    两两交换，每轮将最大的数排到正确的位置上。\n",
    "    Array:  6 2 4 1 5 9\n",
    "    step 1: 2 4 1 5 6 9\n",
    "    step 2: 2 1 4 5 6 9\n",
    "    step 3: 1 2 4 5 6 9\n",
    "    step 4: 1 2 4 5 6 9\n",
    "    step 5: 1 2 4 5 6 9\n",
    "    step 6: 1 2 4 5 6 9"
   ]
  },
  {
   "cell_type": "code",
   "execution_count": 91,
   "metadata": {
    "collapsed": true
   },
   "outputs": [],
   "source": [
    "def bubbleSort(alist):\n",
    "    if len(alist) == 0:\n",
    "        return alist\n",
    "    \n",
    "    for i in range(len(alist))[::-1]:\n",
    "        for j in range(i):\n",
    "            if alist[j] > alist[j + 1]:\n",
    "                alist[j], alist[j + 1] = alist[j + 1], alist[j]\n",
    "                \n",
    "    return alist "
   ]
  },
  {
   "cell_type": "code",
   "execution_count": 92,
   "metadata": {
    "collapsed": false
   },
   "outputs": [
    {
     "name": "stdout",
     "output_type": "stream",
     "text": [
      "[1, 2, 3, 4]\n",
      "[1, 2, 3, 4, 36, 100, 101]\n",
      "[2]\n"
     ]
    }
   ],
   "source": [
    "# test 1\n",
    "array = [2, 1, 4, 3]\n",
    "print bubbleSort(array)\n",
    "\n",
    "# test 2\n",
    "array = [2, 1, 4, 3, 100, 36, 101]\n",
    "print bubbleSort(array)\n",
    "\n",
    "# test 3\n",
    "array = [2]\n",
    "print bubbleSort(array)"
   ]
  },
  {
   "cell_type": "markdown",
   "metadata": {},
   "source": [
    "#### 4.4 Merge Sort"
   ]
  },
  {
   "cell_type": "markdown",
   "metadata": {},
   "source": [
    "MergeSort(arr[], l,  r)\n",
    "\n",
    "If r > l\n",
    "     1. Find the middle point to divide the array into two halves:  \n",
    "             middle m = (l+r)/2\n",
    "     2. Call mergeSort for first half:   \n",
    "             Call mergeSort(arr, l, m)\n",
    "     3. Call mergeSort for second half:\n",
    "             Call mergeSort(arr, m+1, r)\n",
    "     4. Merge the two halves sorted in step 2 and 3:\n",
    "             Call merge(arr, l, m, r)"
   ]
  },
  {
   "cell_type": "code",
   "execution_count": 93,
   "metadata": {
    "collapsed": true
   },
   "outputs": [],
   "source": [
    "def merge(arr, l, m, r):\n",
    "    \n",
    "    # create temp arrays\n",
    "    L = arr[l:m+1] \n",
    "    R = arr[m+1:r+1]\n",
    "\n",
    "    # Merge the temp arrays back into arr[l..r]\n",
    "    i = 0\n",
    "    j = 0\n",
    "    k = l\n",
    "    \n",
    "    while i < len(L) and j < len(R):\n",
    "        if L[i] < R[j]:\n",
    "            arr[k] = L[i]\n",
    "            k += 1\n",
    "            i += 1\n",
    "        else:\n",
    "            arr[k] = R[j]\n",
    "            k += 1\n",
    "            j += 1\n",
    "            \n",
    "    # Copy the remaining elements of L[], if there are any        \n",
    "    while i < len(L):\n",
    "        arr[k] = L[i]\n",
    "        k += 1\n",
    "        i += 1\n",
    "        \n",
    "    # Copy the remaining elements of R[], if there are any\n",
    "    while j < len(R):\n",
    "        arr[k] = R[j]\n",
    "        k += 1\n",
    "        j += 1"
   ]
  },
  {
   "cell_type": "code",
   "execution_count": 94,
   "metadata": {
    "collapsed": true
   },
   "outputs": [],
   "source": [
    "arr1 = [3, 27, 38, 43, 9, 10, 82]"
   ]
  },
  {
   "cell_type": "code",
   "execution_count": 95,
   "metadata": {
    "collapsed": false
   },
   "outputs": [
    {
     "name": "stdout",
     "output_type": "stream",
     "text": [
      "[3, 9, 10, 27, 38, 43, 82]\n"
     ]
    }
   ],
   "source": [
    "l = 0\n",
    "r = len(arr1) - 1\n",
    "m = l + (r - l) / 2\n",
    "merge(arr1, l, m, r)\n",
    "print arr1"
   ]
  },
  {
   "cell_type": "code",
   "execution_count": null,
   "metadata": {
    "collapsed": true
   },
   "outputs": [],
   "source": []
  },
  {
   "cell_type": "code",
   "execution_count": 96,
   "metadata": {
    "collapsed": false
   },
   "outputs": [],
   "source": [
    "def mergeSort(arr, l, r):\n",
    "    \n",
    "    if l < r:\n",
    "        m = l + (r - l) / 2\n",
    "        \n",
    "        # Sort first and second halves\n",
    "        mergeSort(arr, l, m)\n",
    "        mergeSort(arr, m + 1, r)\n",
    "        \n",
    "        # Merge first and second halves\n",
    "        \n",
    "        merge(arr, l, m, r)"
   ]
  },
  {
   "cell_type": "code",
   "execution_count": 97,
   "metadata": {
    "collapsed": true
   },
   "outputs": [],
   "source": [
    "arr = [38, 27, 43, 3, 9, 82, 10]"
   ]
  },
  {
   "cell_type": "code",
   "execution_count": 99,
   "metadata": {
    "collapsed": false,
    "scrolled": false
   },
   "outputs": [],
   "source": [
    "mergeSort(arr, 0, len(arr)-1)"
   ]
  },
  {
   "cell_type": "code",
   "execution_count": 100,
   "metadata": {
    "collapsed": false
   },
   "outputs": [
    {
     "data": {
      "text/plain": [
       "[3, 9, 10, 27, 38, 43, 82]"
      ]
     },
     "execution_count": 100,
     "metadata": {},
     "output_type": "execute_result"
    }
   ],
   "source": [
    "arr"
   ]
  },
  {
   "cell_type": "markdown",
   "metadata": {},
   "source": [
    "<img src='Merge-Sort-Tutorial.png'>"
   ]
  },
  {
   "cell_type": "code",
   "execution_count": null,
   "metadata": {
    "collapsed": true
   },
   "outputs": [],
   "source": []
  }
 ],
 "metadata": {
  "anaconda-cloud": {},
  "kernelspec": {
   "display_name": "Python 2",
   "language": "python",
   "name": "python2"
  },
  "language_info": {
   "codemirror_mode": {
    "name": "ipython",
    "version": 2
   },
   "file_extension": ".py",
   "mimetype": "text/x-python",
   "name": "python",
   "nbconvert_exporter": "python",
   "pygments_lexer": "ipython2",
   "version": "2.7.12"
  }
 },
 "nbformat": 4,
 "nbformat_minor": 0
}
